{
 "cells": [
  {
   "cell_type": "code",
   "execution_count": 2,
   "metadata": {
    "collapsed": true
   },
   "outputs": [],
   "source": [
    "import numpy as np\n",
    "import pandas as pd"
   ]
  },
  {
   "cell_type": "markdown",
   "metadata": {},
   "source": [
    "# Innovasjon Norge"
   ]
  },
  {
   "cell_type": "code",
   "execution_count": 11,
   "metadata": {
    "collapsed": false
   },
   "outputs": [],
   "source": [
    "inno = pd.read_csv(r'D:\\Projects\\Python\\Samspill\\dataset\\in_vedtak_geo.csv')"
   ]
  },
  {
   "cell_type": "code",
   "execution_count": 12,
   "metadata": {
    "collapsed": true
   },
   "outputs": [],
   "source": [
    "def getÅr(år):\n",
    "    return str(år)[:4]"
   ]
  },
  {
   "cell_type": "code",
   "execution_count": 13,
   "metadata": {
    "collapsed": false
   },
   "outputs": [],
   "source": [
    "inno['Innvilget_år'] = inno['Innvilget dato'].apply(getÅr)"
   ]
  },
  {
   "cell_type": "code",
   "execution_count": 14,
   "metadata": {
    "collapsed": false
   },
   "outputs": [
    {
     "data": {
      "text/html": [
       "<div>\n",
       "<table border=\"1\" class=\"dataframe\">\n",
       "  <thead>\n",
       "    <tr style=\"text-align: right;\">\n",
       "      <th></th>\n",
       "      <th>Unnamed: 0</th>\n",
       "      <th>Unnamed: 0.1</th>\n",
       "      <th>Fylke</th>\n",
       "      <th>Kommune</th>\n",
       "      <th>Org nr.</th>\n",
       "      <th>Kunde</th>\n",
       "      <th>Virkemiddel</th>\n",
       "      <th>Innvilget dato</th>\n",
       "      <th>Innvilget beløp</th>\n",
       "      <th>Behandlende enhet</th>\n",
       "      <th>...</th>\n",
       "      <th>fylke_lon</th>\n",
       "      <th>kommune_lat</th>\n",
       "      <th>kommune_lon</th>\n",
       "      <th>Næringskode 1</th>\n",
       "      <th>Næringskode 2</th>\n",
       "      <th>Næringskode 3</th>\n",
       "      <th>Sektor</th>\n",
       "      <th>Innvilget År</th>\n",
       "      <th>Innvilget (mill)</th>\n",
       "      <th>Innvilget_år</th>\n",
       "    </tr>\n",
       "  </thead>\n",
       "  <tbody>\n",
       "    <tr>\n",
       "      <th>0</th>\n",
       "      <td>0</td>\n",
       "      <td>0</td>\n",
       "      <td>Østfold</td>\n",
       "      <td>Østfold</td>\n",
       "      <td>986 258 191</td>\n",
       "      <td>INKUBATOR HALDEN AS</td>\n",
       "      <td>Landsdekkende programmer</td>\n",
       "      <td>2011.01.11</td>\n",
       "      <td>5000000</td>\n",
       "      <td>IN Hovedkredittutvalget</td>\n",
       "      <td>...</td>\n",
       "      <td>11.327901</td>\n",
       "      <td>59.255829</td>\n",
       "      <td>11.327901</td>\n",
       "      <td>Bedriftsrådgivning og annen administrativ rådg...</td>\n",
       "      <td>NaN</td>\n",
       "      <td>NaN</td>\n",
       "      <td>Kommunalt eide aksjeselskaper mv.</td>\n",
       "      <td>2011</td>\n",
       "      <td>5.0</td>\n",
       "      <td>2011</td>\n",
       "    </tr>\n",
       "  </tbody>\n",
       "</table>\n",
       "<p>1 rows × 54 columns</p>\n",
       "</div>"
      ],
      "text/plain": [
       "   Unnamed: 0  Unnamed: 0.1    Fylke  Kommune      Org nr.  \\\n",
       "0           0             0  Østfold  Østfold  986 258 191   \n",
       "\n",
       "                 Kunde               Virkemiddel Innvilget dato  \\\n",
       "0  INKUBATOR HALDEN AS  Landsdekkende programmer     2011.01.11   \n",
       "\n",
       "   Innvilget beløp        Behandlende enhet     ...       fylke_lon  \\\n",
       "0          5000000  IN Hovedkredittutvalget     ...       11.327901   \n",
       "\n",
       "  kommune_lat kommune_lon                                      Næringskode 1  \\\n",
       "0   59.255829   11.327901  Bedriftsrådgivning og annen administrativ rådg...   \n",
       "\n",
       "   Næringskode 2 Næringskode 3                             Sektor  \\\n",
       "0            NaN           NaN  Kommunalt eide aksjeselskaper mv.   \n",
       "\n",
       "  Innvilget År Innvilget (mill) Innvilget_år  \n",
       "0         2011              5.0         2011  \n",
       "\n",
       "[1 rows x 54 columns]"
      ]
     },
     "execution_count": 14,
     "metadata": {},
     "output_type": "execute_result"
    }
   ],
   "source": [
    "inno.head(1)"
   ]
  },
  {
   "cell_type": "code",
   "execution_count": 140,
   "metadata": {
    "collapsed": false
   },
   "outputs": [],
   "source": [
    "inno_grp = inno[['Fylke','Kommune','Virkemiddel','Næringskode 1','Sektor','Innvilget_år','Behandlende enhet','Innvilget beløp']]\\\n",
    " .groupby(['Virkemiddel','Behandlende enhet','Fylke','Kommune','Næringskode 1','Sektor','Innvilget_år']).sum().reset_index()"
   ]
  },
  {
   "cell_type": "code",
   "execution_count": 141,
   "metadata": {
    "collapsed": false
   },
   "outputs": [],
   "source": [
    "inno_grp.insert(0,'Kilde','Innovasjon Norge')\n",
    "inno_grp.insert(1,'Virkemiddelgruppe','TBD')"
   ]
  },
  {
   "cell_type": "code",
   "execution_count": 142,
   "metadata": {
    "collapsed": false
   },
   "outputs": [],
   "source": [
    "inno_grp.rename(columns={'Behandlende enhet':'Enhet','Næringskode 1': 'Næringskode',\\\n",
    "                         'Innvilget_år': 'Start','Innvilget beløp': 'Beløp'}, inplace=True)"
   ]
  },
  {
   "cell_type": "code",
   "execution_count": 143,
   "metadata": {
    "collapsed": false
   },
   "outputs": [
    {
     "data": {
      "text/html": [
       "<div>\n",
       "<table border=\"1\" class=\"dataframe\">\n",
       "  <thead>\n",
       "    <tr style=\"text-align: right;\">\n",
       "      <th></th>\n",
       "      <th>Kilde</th>\n",
       "      <th>Virkemiddelgruppe</th>\n",
       "      <th>Virkemiddel</th>\n",
       "      <th>Enhet</th>\n",
       "      <th>Fylke</th>\n",
       "      <th>Kommune</th>\n",
       "      <th>Næringskode</th>\n",
       "      <th>Sektor</th>\n",
       "      <th>Start</th>\n",
       "      <th>Beløp</th>\n",
       "    </tr>\n",
       "  </thead>\n",
       "  <tbody>\n",
       "    <tr>\n",
       "      <th>0</th>\n",
       "      <td>Innovasjon Norge</td>\n",
       "      <td>TBD</td>\n",
       "      <td>Adm.støtte for distriktsrettet såkornfond</td>\n",
       "      <td>IN Hovedkredittutvalget</td>\n",
       "      <td>Nord-Trøndelag</td>\n",
       "      <td>Namsos</td>\n",
       "      <td>Investeringsselskaper og lignende lukket for a...</td>\n",
       "      <td>Øvrige finansielle foretak unntatt forsikring</td>\n",
       "      <td>2011</td>\n",
       "      <td>950000</td>\n",
       "    </tr>\n",
       "  </tbody>\n",
       "</table>\n",
       "</div>"
      ],
      "text/plain": [
       "              Kilde Virkemiddelgruppe  \\\n",
       "0  Innovasjon Norge               TBD   \n",
       "\n",
       "                                 Virkemiddel                    Enhet  \\\n",
       "0  Adm.støtte for distriktsrettet såkornfond  IN Hovedkredittutvalget   \n",
       "\n",
       "            Fylke Kommune                                        Næringskode  \\\n",
       "0  Nord-Trøndelag  Namsos  Investeringsselskaper og lignende lukket for a...   \n",
       "\n",
       "                                          Sektor Start   Beløp  \n",
       "0  Øvrige finansielle foretak unntatt forsikring  2011  950000  "
      ]
     },
     "execution_count": 143,
     "metadata": {},
     "output_type": "execute_result"
    }
   ],
   "source": [
    "inno_grp.head(1)"
   ]
  },
  {
   "cell_type": "markdown",
   "metadata": {},
   "source": [
    "# SIVA næringshager"
   ]
  },
  {
   "cell_type": "code",
   "execution_count": 119,
   "metadata": {
    "collapsed": false
   },
   "outputs": [],
   "source": [
    "siva_nh = pd.read_csv(r'D:/Projects/Python/Samspill/dataset/siva_næringshage.tsv', sep='\\t')"
   ]
  },
  {
   "cell_type": "code",
   "execution_count": 120,
   "metadata": {
    "collapsed": false
   },
   "outputs": [
    {
     "data": {
      "text/html": [
       "<div>\n",
       "<table border=\"1\" class=\"dataframe\">\n",
       "  <thead>\n",
       "    <tr style=\"text-align: right;\">\n",
       "      <th></th>\n",
       "      <th>Rapportår</th>\n",
       "      <th>Inkubator</th>\n",
       "      <th>Orgnr_ink</th>\n",
       "      <th>Målbedrift</th>\n",
       "      <th>MålbedriftID</th>\n",
       "      <th>Orgnr_bedrift</th>\n",
       "      <th>Fase</th>\n",
       "      <th>Avtalestart</th>\n",
       "      <th>Avtaleslutt</th>\n",
       "      <th>Avslutt engasjement</th>\n",
       "      <th>...</th>\n",
       "      <th>Sum innovasjonsstøtte fra inkubatoren</th>\n",
       "      <th>Støtteintensitet</th>\n",
       "      <th>kommune_lat</th>\n",
       "      <th>kommune_lon</th>\n",
       "      <th>kommune_lat_lon</th>\n",
       "      <th>fylke_lat</th>\n",
       "      <th>fylke_lon</th>\n",
       "      <th>fylke_lat_lon</th>\n",
       "      <th>Avtalestart_år</th>\n",
       "      <th>Avtaleslutt_år</th>\n",
       "    </tr>\n",
       "  </thead>\n",
       "  <tbody>\n",
       "    <tr>\n",
       "      <th>0</th>\n",
       "      <td>2013</td>\n",
       "      <td>7Sterke AS</td>\n",
       "      <td>997144368</td>\n",
       "      <td>RØNNING TRESKI AS</td>\n",
       "      <td>532.0</td>\n",
       "      <td>990067236</td>\n",
       "      <td>Inkubatorbedrift</td>\n",
       "      <td>2013-06-11</td>\n",
       "      <td>2016-06-10</td>\n",
       "      <td>USANN</td>\n",
       "      <td>...</td>\n",
       "      <td>162036</td>\n",
       "      <td>71.39</td>\n",
       "      <td>59.98556</td>\n",
       "      <td>12.12502</td>\n",
       "      <td>59.98556,12.12502</td>\n",
       "      <td>60.79529</td>\n",
       "      <td>11.08254</td>\n",
       "      <td>60.79529,11.08254</td>\n",
       "      <td>2013</td>\n",
       "      <td>2016</td>\n",
       "    </tr>\n",
       "  </tbody>\n",
       "</table>\n",
       "<p>1 rows × 35 columns</p>\n",
       "</div>"
      ],
      "text/plain": [
       "   Rapportår   Inkubator  Orgnr_ink         Målbedrift  MålbedriftID  \\\n",
       "0       2013  7Sterke AS  997144368  RØNNING TRESKI AS         532.0   \n",
       "\n",
       "  Orgnr_bedrift              Fase Avtalestart Avtaleslutt Avslutt engasjement  \\\n",
       "0     990067236  Inkubatorbedrift  2013-06-11  2016-06-10               USANN   \n",
       "\n",
       "        ...       Sum innovasjonsstøtte fra inkubatoren Støtteintensitet  \\\n",
       "0       ...                                      162036            71.39   \n",
       "\n",
       "  kommune_lat kommune_lon    kommune_lat_lon fylke_lat fylke_lon  \\\n",
       "0    59.98556    12.12502  59.98556,12.12502  60.79529  11.08254   \n",
       "\n",
       "       fylke_lat_lon  Avtalestart_år  Avtaleslutt_år  \n",
       "0  60.79529,11.08254            2013            2016  \n",
       "\n",
       "[1 rows x 35 columns]"
      ]
     },
     "execution_count": 120,
     "metadata": {},
     "output_type": "execute_result"
    }
   ],
   "source": [
    "siva_nh.head(1)"
   ]
  },
  {
   "cell_type": "code",
   "execution_count": 121,
   "metadata": {
    "collapsed": false
   },
   "outputs": [
    {
     "data": {
      "text/plain": [
       "Rapportår                                                         int64\n",
       "Inkubator                                                        object\n",
       "Orgnr_ink                                                         int64\n",
       "Målbedrift                                                       object\n",
       "MålbedriftID                                                    float64\n",
       "Orgnr_bedrift                                                    object\n",
       "Fase                                                             object\n",
       "Avtalestart                                                      object\n",
       "Avtaleslutt                                                      object\n",
       "Avslutt engasjement                                              object\n",
       "Bransje                                                          object\n",
       "NACE                                                             object\n",
       "Etableringsdato                                                  object\n",
       "Etableringsår                                                    object\n",
       "Fylke                                                            object\n",
       "Kommunenr                                                        object\n",
       "Kommune                                                          object\n",
       "I Forr.messig innovasjon i løpet av året                        float64\n",
       "Inkubatorbedrift i løpet av året                                float64\n",
       "I Preinkubasjon i løpet av året                                 float64\n",
       "Kvinnelig daglig leder                                           object\n",
       "Kvinnelig styreleder                                             object\n",
       "KvinneligGrunder                                                 object\n",
       "Markedsverdien på innovasjonsstøttetjenester fra inkubatoren     object\n",
       "Fakturert egenandel                                              object\n",
       "Sum innovasjonsstøtte fra inkubatoren                            object\n",
       "Støtteintensitet                                                 object\n",
       "kommune_lat                                                     float64\n",
       "kommune_lon                                                     float64\n",
       "kommune_lat_lon                                                  object\n",
       "fylke_lat                                                       float64\n",
       "fylke_lon                                                        object\n",
       "fylke_lat_lon                                                    object\n",
       "Avtalestart_år                                                   object\n",
       "Avtaleslutt_år                                                   object\n",
       "dtype: object"
      ]
     },
     "execution_count": 121,
     "metadata": {},
     "output_type": "execute_result"
    }
   ],
   "source": [
    "siva_nh.dtypes"
   ]
  },
  {
   "cell_type": "code",
   "execution_count": 122,
   "metadata": {
    "collapsed": true
   },
   "outputs": [],
   "source": [
    "def getStøtte(støtte):\n",
    "    if str(støtte) == 'nan':\n",
    "        return 0\n",
    "    elif støtte == '(tom)':\n",
    "        return 0\n",
    "    else:\n",
    "        return støtte"
   ]
  },
  {
   "cell_type": "code",
   "execution_count": 123,
   "metadata": {
    "collapsed": false
   },
   "outputs": [],
   "source": [
    "siva_nh['Støtte beløp'] = siva_nh['Sum innovasjonsstøtte fra inkubatoren'].apply(getStøtte)"
   ]
  },
  {
   "cell_type": "code",
   "execution_count": 133,
   "metadata": {
    "collapsed": false
   },
   "outputs": [],
   "source": [
    "siva_grp = siva_nh[['Fylke','Kommune','Bransje','Avtalestart_år',\\\n",
    "                    'Støtte beløp']]\\\n",
    " .groupby(['Fylke','Kommune','Bransje','Avtalestart_år',\\\n",
    "                ]).sum().reset_index(name='Beløp')\n",
    "    \n",
    "siva_grp.drop('level_4', axis=1, inplace=True)"
   ]
  },
  {
   "cell_type": "code",
   "execution_count": 134,
   "metadata": {
    "collapsed": true
   },
   "outputs": [],
   "source": [
    "siva_grp.insert(0,'Kilde','SIVA')\n",
    "siva_grp.insert(1,'Virkemiddelgruppe','TBD')\n",
    "siva_grp.insert(2,'Virkemiddel','Næringshage')"
   ]
  },
  {
   "cell_type": "code",
   "execution_count": 144,
   "metadata": {
    "collapsed": true
   },
   "outputs": [],
   "source": [
    "siva_grp.rename(columns={'Avtalestart_år': 'Start'}, inplace=True)"
   ]
  },
  {
   "cell_type": "code",
   "execution_count": 145,
   "metadata": {
    "collapsed": false
   },
   "outputs": [
    {
     "data": {
      "text/html": [
       "<div>\n",
       "<table border=\"1\" class=\"dataframe\">\n",
       "  <thead>\n",
       "    <tr style=\"text-align: right;\">\n",
       "      <th></th>\n",
       "      <th>Kilde</th>\n",
       "      <th>Virkemiddelgruppe</th>\n",
       "      <th>Virkemiddel</th>\n",
       "      <th>Fylke</th>\n",
       "      <th>Kommune</th>\n",
       "      <th>Bransje</th>\n",
       "      <th>Start</th>\n",
       "      <th>Beløp</th>\n",
       "    </tr>\n",
       "  </thead>\n",
       "  <tbody>\n",
       "    <tr>\n",
       "      <th>828</th>\n",
       "      <td>SIVA</td>\n",
       "      <td>TBD</td>\n",
       "      <td>Næringshage</td>\n",
       "      <td>ØSTFOLD</td>\n",
       "      <td>SPYDEBERG</td>\n",
       "      <td>Mat og Natur</td>\n",
       "      <td>2011</td>\n",
       "      <td>623670</td>\n",
       "    </tr>\n",
       "  </tbody>\n",
       "</table>\n",
       "</div>"
      ],
      "text/plain": [
       "    Kilde Virkemiddelgruppe  Virkemiddel    Fylke    Kommune       Bransje  \\\n",
       "828  SIVA               TBD  Næringshage  ØSTFOLD  SPYDEBERG  Mat og Natur   \n",
       "\n",
       "    Start   Beløp  \n",
       "828  2011  623670  "
      ]
     },
     "execution_count": 145,
     "metadata": {},
     "output_type": "execute_result"
    }
   ],
   "source": [
    "siva_grp.tail(1)"
   ]
  },
  {
   "cell_type": "code",
   "execution_count": null,
   "metadata": {
    "collapsed": true
   },
   "outputs": [],
   "source": []
  }
 ],
 "metadata": {
  "kernelspec": {
   "display_name": "Python [py35]",
   "language": "python",
   "name": "Python [py35]"
  },
  "language_info": {
   "codemirror_mode": {
    "name": "ipython",
    "version": 3
   },
   "file_extension": ".py",
   "mimetype": "text/x-python",
   "name": "python",
   "nbconvert_exporter": "python",
   "pygments_lexer": "ipython3",
   "version": "3.5.2"
  }
 },
 "nbformat": 4,
 "nbformat_minor": 0
}
