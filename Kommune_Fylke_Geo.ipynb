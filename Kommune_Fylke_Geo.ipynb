{
 "cells": [
  {
   "cell_type": "code",
   "execution_count": 1,
   "metadata": {
    "collapsed": true
   },
   "outputs": [],
   "source": [
    "import numpy as np\n",
    "import pandas as pd"
   ]
  },
  {
   "cell_type": "code",
   "execution_count": 2,
   "metadata": {
    "collapsed": false
   },
   "outputs": [],
   "source": [
    "mappe = r'D:/Projects/Python/Samspill/dataset/'"
   ]
  },
  {
   "cell_type": "code",
   "execution_count": 3,
   "metadata": {
    "collapsed": false
   },
   "outputs": [
    {
     "data": {
      "text/plain": [
       "['Sheet1']"
      ]
     },
     "execution_count": 3,
     "metadata": {},
     "output_type": "execute_result"
    }
   ],
   "source": [
    "# Kilde: Olav Bolstad. Lastet 5.3.2017\n",
    "file = mappe + r'fylke_kommune_lat_lon.xlsx'\n",
    "util_excel = pd.ExcelFile(file, encoding='utf-8')\n",
    "util_excel.sheet_names"
   ]
  },
  {
   "cell_type": "code",
   "execution_count": 4,
   "metadata": {
    "collapsed": true
   },
   "outputs": [],
   "source": [
    "lat_lon = util_excel.parse('Sheet1')"
   ]
  },
  {
   "cell_type": "code",
   "execution_count": 5,
   "metadata": {
    "collapsed": false
   },
   "outputs": [
    {
     "data": {
      "text/html": [
       "<div>\n",
       "<table border=\"1\" class=\"dataframe\">\n",
       "  <thead>\n",
       "    <tr style=\"text-align: right;\">\n",
       "      <th></th>\n",
       "      <th>Kommunenummer</th>\n",
       "      <th>Type</th>\n",
       "      <th>GeonameID</th>\n",
       "      <th>Norsk</th>\n",
       "      <th>Fylkenummer</th>\n",
       "      <th>Fylke</th>\n",
       "      <th>Folketal</th>\n",
       "      <th>KommuneLat</th>\n",
       "      <th>KommuneLon</th>\n",
       "      <th>Administrasjonssenter</th>\n",
       "      <th>AdmsenterSSRobjID</th>\n",
       "      <th>AdmsenterGeonameid</th>\n",
       "      <th>Lat</th>\n",
       "      <th>Lon</th>\n",
       "    </tr>\n",
       "  </thead>\n",
       "  <tbody>\n",
       "    <tr>\n",
       "      <th>0</th>\n",
       "      <td>100</td>\n",
       "      <td>fylke</td>\n",
       "      <td>258542</td>\n",
       "      <td>Østfold</td>\n",
       "      <td>1</td>\n",
       "      <td>Østfold</td>\n",
       "      <td>277766</td>\n",
       "      <td>NaN</td>\n",
       "      <td>NaN</td>\n",
       "      <td>Sarpsborg</td>\n",
       "      <td>NaN</td>\n",
       "      <td>3143188</td>\n",
       "      <td>59.27525</td>\n",
       "      <td>11.10596</td>\n",
       "    </tr>\n",
       "    <tr>\n",
       "      <th>1</th>\n",
       "      <td>101</td>\n",
       "      <td>komm</td>\n",
       "      <td>6453395</td>\n",
       "      <td>Halden</td>\n",
       "      <td>1</td>\n",
       "      <td>Østfold</td>\n",
       "      <td>29547</td>\n",
       "      <td>59.12258</td>\n",
       "      <td>11.38709</td>\n",
       "      <td>Halden</td>\n",
       "      <td>34643.0</td>\n",
       "      <td>3154209</td>\n",
       "      <td>59.12478</td>\n",
       "      <td>11.38754</td>\n",
       "    </tr>\n",
       "    <tr>\n",
       "      <th>2</th>\n",
       "      <td>104</td>\n",
       "      <td>komm</td>\n",
       "      <td>6453384</td>\n",
       "      <td>Moss</td>\n",
       "      <td>1</td>\n",
       "      <td>Østfold</td>\n",
       "      <td>30646</td>\n",
       "      <td>59.43436</td>\n",
       "      <td>10.65968</td>\n",
       "      <td>Moss</td>\n",
       "      <td>46556.0</td>\n",
       "      <td>3145375</td>\n",
       "      <td>59.43403</td>\n",
       "      <td>10.65771</td>\n",
       "    </tr>\n",
       "    <tr>\n",
       "      <th>3</th>\n",
       "      <td>105</td>\n",
       "      <td>komm</td>\n",
       "      <td>6453388</td>\n",
       "      <td>Sarpsborg</td>\n",
       "      <td>1</td>\n",
       "      <td>Østfold</td>\n",
       "      <td>53239</td>\n",
       "      <td>59.28148</td>\n",
       "      <td>11.11167</td>\n",
       "      <td>Sarpsborg</td>\n",
       "      <td>48509.0</td>\n",
       "      <td>3140084</td>\n",
       "      <td>59.28391</td>\n",
       "      <td>11.10962</td>\n",
       "    </tr>\n",
       "    <tr>\n",
       "      <th>4</th>\n",
       "      <td>106</td>\n",
       "      <td>komm</td>\n",
       "      <td>6453392</td>\n",
       "      <td>Fredrikstad</td>\n",
       "      <td>1</td>\n",
       "      <td>Østfold</td>\n",
       "      <td>75500</td>\n",
       "      <td>59.21759</td>\n",
       "      <td>10.93787</td>\n",
       "      <td>Fredrikstad</td>\n",
       "      <td>33600.0</td>\n",
       "      <td>3156529</td>\n",
       "      <td>59.21810</td>\n",
       "      <td>10.92981</td>\n",
       "    </tr>\n",
       "  </tbody>\n",
       "</table>\n",
       "</div>"
      ],
      "text/plain": [
       "   Kommunenummer   Type  GeonameID        Norsk  Fylkenummer    Fylke  \\\n",
       "0            100  fylke     258542      Østfold            1  Østfold   \n",
       "1            101   komm    6453395       Halden            1  Østfold   \n",
       "2            104   komm    6453384         Moss            1  Østfold   \n",
       "3            105   komm    6453388    Sarpsborg            1  Østfold   \n",
       "4            106   komm    6453392  Fredrikstad            1  Østfold   \n",
       "\n",
       "   Folketal  KommuneLat  KommuneLon Administrasjonssenter  AdmsenterSSRobjID  \\\n",
       "0    277766         NaN         NaN             Sarpsborg                NaN   \n",
       "1     29547    59.12258    11.38709                Halden            34643.0   \n",
       "2     30646    59.43436    10.65968                  Moss            46556.0   \n",
       "3     53239    59.28148    11.11167             Sarpsborg            48509.0   \n",
       "4     75500    59.21759    10.93787           Fredrikstad            33600.0   \n",
       "\n",
       "   AdmsenterGeonameid       Lat       Lon  \n",
       "0             3143188  59.27525  11.10596  \n",
       "1             3154209  59.12478  11.38754  \n",
       "2             3145375  59.43403  10.65771  \n",
       "3             3140084  59.28391  11.10962  \n",
       "4             3156529  59.21810  10.92981  "
      ]
     },
     "execution_count": 5,
     "metadata": {},
     "output_type": "execute_result"
    }
   ],
   "source": [
    "lat_lon.head(5)"
   ]
  },
  {
   "cell_type": "code",
   "execution_count": 6,
   "metadata": {
    "collapsed": false
   },
   "outputs": [],
   "source": [
    "def getKommuneNr(nr):\n",
    "    if nr < 1000:\n",
    "        return '0' + str(nr)\n",
    "    else:\n",
    "        return nr\n",
    "\n",
    "def getFylkeNr(nr):\n",
    "    if nr < 10:\n",
    "        return '0' + str(nr)\n",
    "    else:\n",
    "        return nr"
   ]
  },
  {
   "cell_type": "code",
   "execution_count": 7,
   "metadata": {
    "collapsed": false
   },
   "outputs": [],
   "source": [
    "lat_lon['kommunenr'] = lat_lon['Kommunenummer'].apply(getKommuneNr)\n",
    "lat_lon['fylkenr'] = lat_lon['Fylkenummer'].apply(getKommuneNr)"
   ]
  },
  {
   "cell_type": "code",
   "execution_count": 8,
   "metadata": {
    "collapsed": false
   },
   "outputs": [
    {
     "data": {
      "text/html": [
       "<div>\n",
       "<table border=\"1\" class=\"dataframe\">\n",
       "  <thead>\n",
       "    <tr style=\"text-align: right;\">\n",
       "      <th></th>\n",
       "      <th>kommunenr</th>\n",
       "      <th>kommune</th>\n",
       "      <th>lat</th>\n",
       "      <th>lon</th>\n",
       "      <th>lat_lon</th>\n",
       "    </tr>\n",
       "  </thead>\n",
       "  <tbody>\n",
       "    <tr>\n",
       "      <th>1</th>\n",
       "      <td>0101</td>\n",
       "      <td>Halden</td>\n",
       "      <td>59.12258</td>\n",
       "      <td>11.38709</td>\n",
       "      <td>59.12258,11.38709</td>\n",
       "    </tr>\n",
       "  </tbody>\n",
       "</table>\n",
       "</div>"
      ],
      "text/plain": [
       "  kommunenr kommune       lat       lon            lat_lon\n",
       "1      0101  Halden  59.12258  11.38709  59.12258,11.38709"
      ]
     },
     "execution_count": 8,
     "metadata": {},
     "output_type": "execute_result"
    }
   ],
   "source": [
    "kommune = lat_lon[(lat_lon['Type'] == 'komm')][['kommunenr','Norsk','KommuneLat','KommuneLon']]\n",
    "kommune = kommune.rename(columns={'Norsk': 'kommune', 'KommuneLat':'lat','KommuneLon':'lon',})\n",
    "kommune['lat_lon'] = kommune['lat'].astype(str) + ',' + kommune['lon'].astype(str)\n",
    "kommune.head(1)"
   ]
  },
  {
   "cell_type": "code",
   "execution_count": 9,
   "metadata": {
    "collapsed": true
   },
   "outputs": [],
   "source": [
    "kommune.to_csv(mappe + 'kommune_geo.tsv', encoding='utf-8', sep='\\t', index=False)"
   ]
  },
  {
   "cell_type": "code",
   "execution_count": 10,
   "metadata": {
    "collapsed": false
   },
   "outputs": [
    {
     "data": {
      "text/html": [
       "<div>\n",
       "<table border=\"1\" class=\"dataframe\">\n",
       "  <thead>\n",
       "    <tr style=\"text-align: right;\">\n",
       "      <th></th>\n",
       "      <th>fylkenr</th>\n",
       "      <th>fylke</th>\n",
       "      <th>lat</th>\n",
       "      <th>lon</th>\n",
       "      <th>lat_lon</th>\n",
       "    </tr>\n",
       "  </thead>\n",
       "  <tbody>\n",
       "    <tr>\n",
       "      <th>0</th>\n",
       "      <td>01</td>\n",
       "      <td>Østfold</td>\n",
       "      <td>59.27525</td>\n",
       "      <td>11.10596</td>\n",
       "      <td>59.27525,11.10596</td>\n",
       "    </tr>\n",
       "  </tbody>\n",
       "</table>\n",
       "</div>"
      ],
      "text/plain": [
       "  fylkenr    fylke       lat       lon            lat_lon\n",
       "0      01  Østfold  59.27525  11.10596  59.27525,11.10596"
      ]
     },
     "execution_count": 10,
     "metadata": {},
     "output_type": "execute_result"
    }
   ],
   "source": [
    "fylke = lat_lon[(lat_lon['Type'] == 'fylke')][['fylkenr','Fylke','Lat','Lon']]\n",
    "fylke = fylke.rename(columns={'Fylke': 'fylke', 'Lat':'lat','Lon':'lon',})\n",
    "fylke['lat_lon'] = fylke['lat'].astype(str) + ',' + fylke['lon'].astype(str)\n",
    "fylke.head(1)"
   ]
  },
  {
   "cell_type": "code",
   "execution_count": 11,
   "metadata": {
    "collapsed": true
   },
   "outputs": [],
   "source": [
    "fylke.to_csv(mappe + 'fylke_geo.tsv', encoding='utf-8', sep='\\t', index=False)"
   ]
  }
 ],
 "metadata": {
  "anaconda-cloud": {},
  "kernelspec": {
   "display_name": "Python [py35]",
   "language": "python",
   "name": "Python [py35]"
  },
  "language_info": {
   "codemirror_mode": {
    "name": "ipython",
    "version": 3
   },
   "file_extension": ".py",
   "mimetype": "text/x-python",
   "name": "python",
   "nbconvert_exporter": "python",
   "pygments_lexer": "ipython3",
   "version": "3.5.2"
  }
 },
 "nbformat": 4,
 "nbformat_minor": 0
}
