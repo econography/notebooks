{
 "cells": [
  {
   "cell_type": "code",
   "execution_count": 4,
   "metadata": {},
   "outputs": [
    {
     "data": {
      "text/html": [
       "<script>requirejs.config({paths: { 'plotly': ['https://cdn.plot.ly/plotly-latest.min']},});if(!window.Plotly) {{require(['plotly'],function(plotly) {window.Plotly=plotly;});}}</script>"
      ],
      "text/vnd.plotly.v1+html": [
       "<script>requirejs.config({paths: { 'plotly': ['https://cdn.plot.ly/plotly-latest.min']},});if(!window.Plotly) {{require(['plotly'],function(plotly) {window.Plotly=plotly;});}}</script>"
      ]
     },
     "metadata": {},
     "output_type": "display_data"
    }
   ],
   "source": [
    "%matplotlib inline\n",
    "import pandas as pd\n",
    "from sqlalchemy import create_engine # database connection\n",
    "import datetime as dt\n",
    "import os\n",
    "from IPython.display import display\n",
    "\n",
    "from plotly.offline import download_plotlyjs, init_notebook_mode, plot, iplot\n",
    "from plotly.graph_objs import Bar, Scatter, Figure, Layout\n",
    "import plotly.plotly as py\n",
    "init_notebook_mode(connected=True)"
   ]
  },
  {
   "cell_type": "code",
   "execution_count": 13,
   "metadata": {
    "collapsed": true
   },
   "outputs": [],
   "source": [
    "disk_engine = create_engine('sqlite:///C:/Data/Data/samspill.db') "
   ]
  },
  {
   "cell_type": "code",
   "execution_count": 5,
   "metadata": {
    "collapsed": true
   },
   "outputs": [],
   "source": [
    "def getDir(dir = ''):\n",
    "    directory = r'C:/Data/Repos/Samspill/Dataset/'\n",
    "    if len(dir) > 0:\n",
    "        directory = directory + dir + '/'\n",
    "    if not os.path.exists(directory):\n",
    "        os.makedirs(directory)\n",
    "    \n",
    "    return directory"
   ]
  },
  {
   "cell_type": "code",
   "execution_count": 7,
   "metadata": {},
   "outputs": [
    {
     "data": {
      "text/plain": [
       "['Data', 'Forklaringer']"
      ]
     },
     "execution_count": 7,
     "metadata": {},
     "output_type": "execute_result"
    }
   ],
   "source": [
    "fil = r'C:\\Data\\Repos\\samspill\\dataset\\SIVA_Målbedrifter i inkubatorene 2013-2015_til NFR_versjon 2 med unike id og kun aktive bedrifter i rapportåret.xlsx'\n",
    "excel = pd.ExcelFile(fil,encoding='utf-8')\n",
    "excel.sheet_names"
   ]
  },
  {
   "cell_type": "code",
   "execution_count": 10,
   "metadata": {},
   "outputs": [
    {
     "data": {
      "text/html": [
       "<div>\n",
       "<table border=\"1\" class=\"dataframe\">\n",
       "  <thead>\n",
       "    <tr style=\"text-align: right;\">\n",
       "      <th></th>\n",
       "      <th>Rapportår</th>\n",
       "      <th>Inkubator</th>\n",
       "      <th>InkubatorID</th>\n",
       "      <th>Org.nr_INK</th>\n",
       "      <th>Navn på bedrift i inkubasjon</th>\n",
       "      <th>MålbedriftID</th>\n",
       "      <th>Orgnr_bedrift</th>\n",
       "      <th>Fase pr 31.12</th>\n",
       "      <th>I Forr.messig innovasjon i løpet av året</th>\n",
       "      <th>Inkubatorbedrift i løpet av året</th>\n",
       "      <th>...</th>\n",
       "      <th>Kommune</th>\n",
       "      <th>Fylke</th>\n",
       "      <th>Markedsverdien på innovasjonsstøttetjenester fra inkubatoren</th>\n",
       "      <th>Fakturert egenandel</th>\n",
       "      <th>Sum innovasjonsstøtte fra inkubatoren</th>\n",
       "      <th>Støtteintensitet</th>\n",
       "      <th>Kvinnelig daglig leder</th>\n",
       "      <th>Kvinnelig styreleder</th>\n",
       "      <th>Kvinnelig Grunder</th>\n",
       "      <th>Kvinnebedrift</th>\n",
       "    </tr>\n",
       "  </thead>\n",
       "  <tbody>\n",
       "    <tr>\n",
       "      <th>0</th>\n",
       "      <td>2013</td>\n",
       "      <td>7Sterke AS</td>\n",
       "      <td>19.0</td>\n",
       "      <td>997144368.0</td>\n",
       "      <td>ELMICO AS</td>\n",
       "      <td>539.0</td>\n",
       "      <td>985338671</td>\n",
       "      <td>Inkubatorbedrift</td>\n",
       "      <td>0.0</td>\n",
       "      <td>1.0</td>\n",
       "      <td>...</td>\n",
       "      <td>SØR-ODAL</td>\n",
       "      <td>HEDMARK</td>\n",
       "      <td>301710</td>\n",
       "      <td>103478</td>\n",
       "      <td>198232</td>\n",
       "      <td>65.7</td>\n",
       "      <td>1</td>\n",
       "      <td>0</td>\n",
       "      <td>1</td>\n",
       "      <td>1.0</td>\n",
       "    </tr>\n",
       "  </tbody>\n",
       "</table>\n",
       "<p>1 rows × 26 columns</p>\n",
       "</div>"
      ],
      "text/plain": [
       "  Rapportår   Inkubator  InkubatorID   Org.nr_INK  \\\n",
       "0      2013  7Sterke AS         19.0  997144368.0   \n",
       "\n",
       "  Navn på bedrift i inkubasjon  MålbedriftID Orgnr_bedrift     Fase pr 31.12  \\\n",
       "0                    ELMICO AS         539.0     985338671  Inkubatorbedrift   \n",
       "\n",
       "   I Forr.messig innovasjon i løpet av året  Inkubatorbedrift i løpet av året  \\\n",
       "0                                       0.0                               1.0   \n",
       "\n",
       "       ...        Kommune    Fylke  \\\n",
       "0      ...       SØR-ODAL  HEDMARK   \n",
       "\n",
       "  Markedsverdien på innovasjonsstøttetjenester fra inkubatoren  \\\n",
       "0                                             301710             \n",
       "\n",
       "  Fakturert egenandel Sum innovasjonsstøtte fra inkubatoren Støtteintensitet  \\\n",
       "0              103478                                198232             65.7   \n",
       "\n",
       "  Kvinnelig daglig leder Kvinnelig styreleder Kvinnelig Grunder Kvinnebedrift  \n",
       "0                      1                    0                 1           1.0  \n",
       "\n",
       "[1 rows x 26 columns]"
      ]
     },
     "execution_count": 10,
     "metadata": {},
     "output_type": "execute_result"
    }
   ],
   "source": [
    "i_bedr = excel.parse('Data')\n",
    "i_bedr.head(1)"
   ]
  },
  {
   "cell_type": "code",
   "execution_count": 15,
   "metadata": {
    "collapsed": true
   },
   "outputs": [],
   "source": [
    "i_bedr.to_sql('siva_i_b', disk_engine, if_exists='replace')"
   ]
  },
  {
   "cell_type": "code",
   "execution_count": 11,
   "metadata": {},
   "outputs": [
    {
     "data": {
      "text/plain": [
       "['Data', 'Forklaringer']"
      ]
     },
     "execution_count": 11,
     "metadata": {},
     "output_type": "execute_result"
    }
   ],
   "source": [
    "fil = r'C:\\Data\\Repos\\samspill\\dataset\\SIVA_Målbedrifter i næringshagene 2013-2015_til NFR_versjon 2 med unike id.xlsx'\n",
    "excel = pd.ExcelFile(fil,encoding='utf-8')\n",
    "excel.sheet_names"
   ]
  },
  {
   "cell_type": "code",
   "execution_count": 12,
   "metadata": {},
   "outputs": [
    {
     "data": {
      "text/html": [
       "<div>\n",
       "<table border=\"1\" class=\"dataframe\">\n",
       "  <thead>\n",
       "    <tr style=\"text-align: right;\">\n",
       "      <th></th>\n",
       "      <th>Rapportår</th>\n",
       "      <th>Næringshage</th>\n",
       "      <th>NæringshageID</th>\n",
       "      <th>Org-nr NH</th>\n",
       "      <th>Målbedrift</th>\n",
       "      <th>BedriftId</th>\n",
       "      <th>Orgnummer</th>\n",
       "      <th>Registeringstype</th>\n",
       "      <th>Etableringsdato</th>\n",
       "      <th>Avtalestart</th>\n",
       "      <th>...</th>\n",
       "      <th>Kommune</th>\n",
       "      <th>Fylke</th>\n",
       "      <th>MarkedsverdienPåInnovasjonsstøttetjenesterFraNH</th>\n",
       "      <th>SumInnovasjonsstøtteFraNH</th>\n",
       "      <th>FakturertEgenandel</th>\n",
       "      <th>Støtteintensitet</th>\n",
       "      <th>Kvinnelig daglig leder</th>\n",
       "      <th>Kvinnelig styreleder</th>\n",
       "      <th>Kvinnelig gründer</th>\n",
       "      <th>Kvinnebedrift</th>\n",
       "    </tr>\n",
       "  </thead>\n",
       "  <tbody>\n",
       "    <tr>\n",
       "      <th>0</th>\n",
       "      <td>2013</td>\n",
       "      <td>Aura Næringshage AS</td>\n",
       "      <td>23.0</td>\n",
       "      <td>998423481.0</td>\n",
       "      <td>3S Prosjekt avd Sunndal</td>\n",
       "      <td>1821.0</td>\n",
       "      <td>986580719</td>\n",
       "      <td>Målbedrift</td>\n",
       "      <td>2004-03-15</td>\n",
       "      <td>2012-01-01</td>\n",
       "      <td>...</td>\n",
       "      <td>SUNNDAL</td>\n",
       "      <td>MØRE OG ROMSDAL</td>\n",
       "      <td>95600</td>\n",
       "      <td>66800.0</td>\n",
       "      <td>28800</td>\n",
       "      <td>69.87</td>\n",
       "      <td>0</td>\n",
       "      <td>0</td>\n",
       "      <td>0</td>\n",
       "      <td>0</td>\n",
       "    </tr>\n",
       "  </tbody>\n",
       "</table>\n",
       "<p>1 rows × 24 columns</p>\n",
       "</div>"
      ],
      "text/plain": [
       "  Rapportår          Næringshage  NæringshageID    Org-nr NH  \\\n",
       "0      2013  Aura Næringshage AS           23.0  998423481.0   \n",
       "\n",
       "                Målbedrift  BedriftId  Orgnummer Registeringstype  \\\n",
       "0  3S Prosjekt avd Sunndal     1821.0  986580719       Målbedrift   \n",
       "\n",
       "  Etableringsdato Avtalestart      ...        Kommune            Fylke  \\\n",
       "0      2004-03-15  2012-01-01      ...        SUNNDAL  MØRE OG ROMSDAL   \n",
       "\n",
       "  MarkedsverdienPåInnovasjonsstøttetjenesterFraNH SumInnovasjonsstøtteFraNH  \\\n",
       "0                                           95600                   66800.0   \n",
       "\n",
       "  FakturertEgenandel Støtteintensitet Kvinnelig daglig leder  \\\n",
       "0              28800            69.87                      0   \n",
       "\n",
       "   Kvinnelig styreleder Kvinnelig gründer  Kvinnebedrift  \n",
       "0                     0                 0              0  \n",
       "\n",
       "[1 rows x 24 columns]"
      ]
     },
     "execution_count": 12,
     "metadata": {},
     "output_type": "execute_result"
    }
   ],
   "source": [
    "n_bedr = excel.parse('Data')\n",
    "n_bedr.head(1)"
   ]
  },
  {
   "cell_type": "code",
   "execution_count": 16,
   "metadata": {
    "collapsed": true
   },
   "outputs": [],
   "source": [
    "n_bedr.to_sql('siva_n_b', disk_engine, if_exists='replace')"
   ]
  },
  {
   "cell_type": "code",
   "execution_count": null,
   "metadata": {
    "collapsed": true
   },
   "outputs": [],
   "source": [
    "sql = \"\"\"\n",
    "    SELECT * FROM n_bedr AS i LEFT JOIN (\n",
    "    SELECT e.orgnr,\n",
    "           e.Juridisk_selskapsnavn,\n",
    "           e.STIFTDATO,\n",
    "           e.REGDATO,\n",
    "           e.SLETDATO,\n",
    "           e.Fylke,\n",
    "           e.Bransje,\n",
    "           e.Antall_ansatte,\n",
    "           e.Antall_ansatte_konsern,\n",
    "           e.ANTALL_AARSVERK,\n",
    "           e.ANTALL_AARSVERK_KONSERN,\n",
    "           e.Regnaar, \n",
    "           e.LATITUDE, \n",
    "           e.LONGITUDE, \n",
    "           e.SEKTOR_2014 AS 'Sektor' \n",
    "    FROM eniro AS e\n",
    "    WHERE e.Regnaar IN (SELECT MAX(Regnaar) from eniro GROUP BY orgnr))\n",
    "    ON i.orgnummer = e.orgnr\n",
    "    \"\"\"\n",
    "\n"
   ]
  }
 ],
 "metadata": {
  "kernelspec": {
   "display_name": "Python 3.5",
   "language": "python",
   "name": "python35"
  },
  "language_info": {
   "codemirror_mode": {
    "name": "ipython",
    "version": 3
   },
   "file_extension": ".py",
   "mimetype": "text/x-python",
   "name": "python",
   "nbconvert_exporter": "python",
   "pygments_lexer": "ipython3",
   "version": "3.5.1"
  }
 },
 "nbformat": 4,
 "nbformat_minor": 2
}
