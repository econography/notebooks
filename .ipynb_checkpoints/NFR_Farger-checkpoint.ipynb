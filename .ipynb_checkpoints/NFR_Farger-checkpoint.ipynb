{
 "cells": [
  {
   "cell_type": "code",
   "execution_count": 88,
   "metadata": {
    "collapsed": false
   },
   "outputs": [],
   "source": [
    "import colorlover as cl\n",
    "from IPython.display import HTML\n",
    "import numpy as np"
   ]
  },
  {
   "cell_type": "code",
   "execution_count": 89,
   "metadata": {
    "collapsed": true
   },
   "outputs": [],
   "source": [
    "def hex_to_RGB(hex):\n",
    "  return [int(hex[i:i+2], 16) for i in range(1,6,2)]"
   ]
  },
  {
   "cell_type": "code",
   "execution_count": 90,
   "metadata": {
    "collapsed": true
   },
   "outputs": [],
   "source": [
    "def RGB_to_hex(RGB):\n",
    "  RGB = [int(x) for x in RGB]\n",
    "  return \"#\"+\"\".join([\"0{0:x}\".format(v) if v < 16 else\n",
    "            \"{0:x}\".format(v) for v in RGB])"
   ]
  },
  {
   "cell_type": "code",
   "execution_count": 91,
   "metadata": {
    "collapsed": true
   },
   "outputs": [],
   "source": [
    "def cl_to_hex(s):\n",
    "  s = s[s.find(\"(\")+1:s.find(\")\")].replace(' ','').split(',')\n",
    "  rgb = [int(x) for x in s]\n",
    "  return \"#\"+\"\".join([\"0{0:x}\".format(v) if v < 16 else\n",
    "            \"{0:x}\".format(v) for v in rgb])"
   ]
  },
  {
   "cell_type": "code",
   "execution_count": 92,
   "metadata": {
    "collapsed": false
   },
   "outputs": [],
   "source": [
    "def createTabeleauPalette(colors, name='name', type='regular'):\n",
    "    xml = '<color-palette name=\"' + name + '\" type=\"' + type + '\">\\n'\n",
    "    for color in colors:\n",
    "        xml += '<color>' + cl_to_hex(color) + '</color>\\n'\n",
    "    xml += '</color-palette>'\n",
    "    return xml"
   ]
  },
  {
   "cell_type": "code",
   "execution_count": 93,
   "metadata": {
    "collapsed": false
   },
   "outputs": [],
   "source": [
    "def linear_gradient(s, f='rgb(255,255,255)', n=10):\n",
    "  liste = [s]\n",
    "  s = s[s.find(\"(\")+1:s.find(\")\")].replace(' ','').split(',')\n",
    "  f = f[f.find(\"(\")+1:f.find(\")\")].replace(' ','').split(',') \n",
    "  s = [int(x) for x in s]\n",
    "  f = [int(x) for x in f]\n",
    "  for t in range(1, n):\n",
    "    res = 'rgb('\n",
    "    for j in range(2):\n",
    "        res += str(int(s[j] + (float(t)/(n-1))*(f[j]-s[j]) )) + ','\n",
    "    res += str(int(s[2] + (float(t)/(n-1))*(f[2]-s[2]))) + ')'    \n",
    "    liste.append(res)\n",
    "\n",
    "  return liste"
   ]
  },
  {
   "cell_type": "code",
   "execution_count": 94,
   "metadata": {
    "collapsed": true
   },
   "outputs": [],
   "source": [
    "def saturation(s, n=50): \n",
    "  s = cl.to_hsl([s])[0] \n",
    "  liste = [s]\n",
    "  s = s[s.find(\"(\")+1:s.find(\")\")].replace(' ','').replace('%','').split(',')\n",
    "  s = [int(x) for x in s]\n",
    "  s0 = s[2]\n",
    "  for t in range(1, n+1):\n",
    "       s[2] = s0 + t * ((100-s0)/n)\n",
    "       res = 'hsl(' + str(int(s[0])) + ',' +  str(int(s[1])) + '%,' + str(int(s[2])) + '%)'      \n",
    "       liste.append(res)\n",
    "\n",
    "  return cl.to_rgb(liste)"
   ]
  },
  {
   "cell_type": "code",
   "execution_count": 95,
   "metadata": {
    "collapsed": true
   },
   "outputs": [],
   "source": [
    "def lightness(s, n=5): \n",
    "  s = cl.to_hsl([s])[0] \n",
    "  liste = []\n",
    "  s = s[s.find(\"(\")+1:s.find(\")\")].replace(' ','').replace('%','').split(',')\n",
    "  s = [int(x) for x in s]\n",
    "  res = 'hsl(' + str(int(s[0])) + ',0%,' + str(int(s[2])) + '%)'      \n",
    "  liste.append(res)\n",
    "  for t in range(1, n+1):\n",
    "       s[1] = t * ((100)/n)\n",
    "       res = 'hsl(' + str(int(s[0])) + ',' +  str(int(s[1])) + '%,' + str(int(s[2])) + '%)'      \n",
    "       liste.append(res)\n",
    "\n",
    "  return cl.to_rgb(liste)"
   ]
  },
  {
   "cell_type": "markdown",
   "metadata": {},
   "source": [
    "## NFR Hovedfarger"
   ]
  },
  {
   "cell_type": "code",
   "execution_count": 96,
   "metadata": {
    "collapsed": false
   },
   "outputs": [
    {
     "data": {
      "text/html": [
       "<div style=\"background-color:rgb(0,51,141);height:20px;width:20px;display:inline-block;\"></div><div style=\"background-color:rgb(0,176,202);height:20px;width:20px;display:inline-block;\"></div><div style=\"background-color:rgb(233,131,0);height:20px;width:20px;display:inline-block;\"></div><div style=\"background-color:rgb(125,154,170);height:20px;width:20px;display:inline-block;\"></div><div style=\"background-color:rgb(183,18,52);height:20px;width:20px;display:inline-block;\"></div><div style=\"background-color:rgb(135,150,55);height:20px;width:20px;display:inline-block;\"></div><div style=\"background-color:rgb(198,188,137);height:20px;width:20px;display:inline-block;\"></div>"
      ],
      "text/plain": [
       "<IPython.core.display.HTML object>"
      ]
     },
     "execution_count": 96,
     "metadata": {},
     "output_type": "execute_result"
    }
   ],
   "source": [
    "hf = ['rgb(0,51,141)', 'rgb(0,176,202)', 'rgb(233,131,0)',\\\n",
    "      'rgb(125,154,170)', 'rgb(183,18,52)', 'rgb(135,150,55)', 'rgb(198,188,137)']\n",
    "sort = 'rgb(0,0,0)'\n",
    "hvit = 'rgb(255,255,255)'\n",
    "lysgrå = 'rgb(211,211,211)'\n",
    "grå = 'rgb(128,128,128)'\n",
    "sølv = 'rgb(192,192,192)'\n",
    "HTML(cl.to_html(hf))"
   ]
  },
  {
   "cell_type": "markdown",
   "metadata": {},
   "source": [
    "## NFR farger til Tableau"
   ]
  },
  {
   "cell_type": "code",
   "execution_count": 97,
   "metadata": {
    "collapsed": true
   },
   "outputs": [],
   "source": [
    "tableau = '<?xml version=\"1.0\"?>\\n'\n",
    "tableau += '<workbook>\\n'\n",
    "tableau += '<preferences>\\n\\n'"
   ]
  },
  {
   "cell_type": "code",
   "execution_count": 98,
   "metadata": {
    "collapsed": false
   },
   "outputs": [
    {
     "name": "stdout",
     "output_type": "stream",
     "text": [
      "<color-palette name=\"NFR Blå\" type=\"regular\">\n",
      "<color>#00338d</color>\n",
      "</color-palette>\n"
     ]
    }
   ],
   "source": [
    "res = createTabeleauPalette([hf[0]], 'NFR Blå')\n",
    "print(res)\n",
    "tableau += res + '\\n\\n'"
   ]
  },
  {
   "cell_type": "code",
   "execution_count": 99,
   "metadata": {
    "collapsed": false
   },
   "outputs": [
    {
     "name": "stdout",
     "output_type": "stream",
     "text": [
      "<color-palette name=\"NFR Lyseblå\" type=\"regular\">\n",
      "<color>#00b0ca</color>\n",
      "</color-palette>\n"
     ]
    }
   ],
   "source": [
    "res = createTabeleauPalette([hf[1]], 'NFR Lyseblå')\n",
    "print(res)\n",
    "tableau += res + '\\n\\n'"
   ]
  },
  {
   "cell_type": "code",
   "execution_count": 100,
   "metadata": {
    "collapsed": false
   },
   "outputs": [
    {
     "name": "stdout",
     "output_type": "stream",
     "text": [
      "<color-palette name=\"NFR Oransje\" type=\"regular\">\n",
      "<color>#e98300</color>\n",
      "</color-palette>\n"
     ]
    }
   ],
   "source": [
    "res = createTabeleauPalette([hf[2]], 'NFR Oransje')\n",
    "print(res)\n",
    "tableau += res + '\\n\\n'"
   ]
  },
  {
   "cell_type": "code",
   "execution_count": 101,
   "metadata": {
    "collapsed": false
   },
   "outputs": [
    {
     "name": "stdout",
     "output_type": "stream",
     "text": [
      "<color-palette name=\"NFR Grå\" type=\"regular\">\n",
      "<color>#7d9aaa</color>\n",
      "</color-palette>\n"
     ]
    }
   ],
   "source": [
    "res = createTabeleauPalette([hf[3]], 'NFR Grå')\n",
    "print(res)\n",
    "tableau += res + '\\n\\n'"
   ]
  },
  {
   "cell_type": "code",
   "execution_count": 102,
   "metadata": {
    "collapsed": false
   },
   "outputs": [
    {
     "name": "stdout",
     "output_type": "stream",
     "text": [
      "<color-palette name=\"NFR Rød\" type=\"regular\">\n",
      "<color>#b71234</color>\n",
      "</color-palette>\n"
     ]
    }
   ],
   "source": [
    "res = createTabeleauPalette([hf[4]], 'NFR Rød')\n",
    "print(res)\n",
    "tableau += res + '\\n\\n'"
   ]
  },
  {
   "cell_type": "code",
   "execution_count": 103,
   "metadata": {
    "collapsed": false
   },
   "outputs": [
    {
     "name": "stdout",
     "output_type": "stream",
     "text": [
      "<color-palette name=\"NFR Grønn\" type=\"regular\">\n",
      "<color>#879637</color>\n",
      "</color-palette>\n"
     ]
    }
   ],
   "source": [
    "res = createTabeleauPalette([hf[5]], 'NFR Grønn')\n",
    "print(res)\n",
    "tableau += res + '\\n\\n'"
   ]
  },
  {
   "cell_type": "code",
   "execution_count": 104,
   "metadata": {
    "collapsed": false
   },
   "outputs": [
    {
     "name": "stdout",
     "output_type": "stream",
     "text": [
      "<color-palette name=\"NFR Beige\" type=\"regular\">\n",
      "<color>#c6bc89</color>\n",
      "</color-palette>\n"
     ]
    }
   ],
   "source": [
    "res = createTabeleauPalette([hf[6]], 'NFR Beige')\n",
    "print(res)\n",
    "tableau += res + '\\n\\n'"
   ]
  },
  {
   "cell_type": "code",
   "execution_count": 105,
   "metadata": {
    "collapsed": false
   },
   "outputs": [
    {
     "name": "stdout",
     "output_type": "stream",
     "text": [
      "<color-palette name=\"NFR Hovedfarger\" type=\"regular\">\n",
      "<color>#00338d</color>\n",
      "<color>#00b0ca</color>\n",
      "<color>#e98300</color>\n",
      "<color>#7d9aaa</color>\n",
      "<color>#b71234</color>\n",
      "<color>#879637</color>\n",
      "<color>#c6bc89</color>\n",
      "</color-palette>\n"
     ]
    }
   ],
   "source": [
    "res = createTabeleauPalette(hf, 'NFR Hovedfarger')\n",
    "print(res)\n",
    "tableau += res + '\\n\\n'"
   ]
  },
  {
   "cell_type": "code",
   "execution_count": 106,
   "metadata": {
    "collapsed": false
   },
   "outputs": [
    {
     "data": {
      "text/html": [
       "<div style=\"background-color:rgb(0,51,141);height:20px;width:20px;display:inline-block;\"></div><div style=\"background-color:rgb(64,102,170);height:20px;width:20px;display:inline-block;\"></div><div style=\"background-color:rgb(0,176,202);height:20px;width:20px;display:inline-block;\"></div><div style=\"background-color:rgb(115,212,226);height:20px;width:20px;display:inline-block;\"></div><div style=\"background-color:rgb(233,131,0);height:20px;width:20px;display:inline-block;\"></div><div style=\"background-color:rgb(243,187,115);height:20px;width:20px;display:inline-block;\"></div><div style=\"background-color:rgb(125,154,170);height:20px;width:20px;display:inline-block;\"></div><div style=\"background-color:rgb(184,200,208);height:20px;width:20px;display:inline-block;\"></div><div style=\"background-color:rgb(183,18,52);height:20px;width:20px;display:inline-block;\"></div><div style=\"background-color:rgb(214,126,126);height:20px;width:20px;display:inline-block;\"></div><div style=\"background-color:rgb(135,150,55);height:20px;width:20px;display:inline-block;\"></div><div style=\"background-color:rgb(189,197,145);height:20px;width:20px;display:inline-block;\"></div><div style=\"background-color:rgb(198,188,137);height:20px;width:20px;display:inline-block;\"></div>"
      ],
      "text/plain": [
       "<IPython.core.display.HTML object>"
      ]
     },
     "execution_count": 106,
     "metadata": {},
     "output_type": "execute_result"
    }
   ],
   "source": [
    "nfr12 = ['rgb(0,51,141)',\\\n",
    "         'rgb(64,102,170)',\\\n",
    "         'rgb(0,176,202)',\\\n",
    "         'rgb(115,212,226)',\\\n",
    "         'rgb(233,131,0)',\\\n",
    "         'rgb(243,187,115)',\\\n",
    "         'rgb(125,154,170)',\\\n",
    "         'rgb(184,200,208)',\\\n",
    "         'rgb(183,18,52)',\\\n",
    "         'rgb(214,126,126)',\\\n",
    "         'rgb(135,150,55)',\\\n",
    "         'rgb(189,197,145)',\\\n",
    "         'rgb(198,188,137)'\\\n",
    "        ]\n",
    "HTML(cl.to_html(nfr12))"
   ]
  },
  {
   "cell_type": "code",
   "execution_count": 107,
   "metadata": {
    "collapsed": false
   },
   "outputs": [
    {
     "name": "stdout",
     "output_type": "stream",
     "text": [
      "<color-palette name=\"NFR Hovedfarger 12\" type=\"regular\">\n",
      "<color>#00338d</color>\n",
      "<color>#4066aa</color>\n",
      "<color>#00b0ca</color>\n",
      "<color>#73d4e2</color>\n",
      "<color>#e98300</color>\n",
      "<color>#f3bb73</color>\n",
      "<color>#7d9aaa</color>\n",
      "<color>#b8c8d0</color>\n",
      "<color>#b71234</color>\n",
      "<color>#d67e7e</color>\n",
      "<color>#879637</color>\n",
      "<color>#bdc591</color>\n",
      "<color>#c6bc89</color>\n",
      "</color-palette>\n"
     ]
    }
   ],
   "source": [
    "res = createTabeleauPalette(nfr12, 'NFR Hovedfarger 12')\n",
    "print(res)\n",
    "tableau += res + '\\n\\n'"
   ]
  },
  {
   "cell_type": "code",
   "execution_count": 108,
   "metadata": {
    "collapsed": false
   },
   "outputs": [
    {
     "data": {
      "text/html": [
       "<div style=\"background-color:rgb(0,51,141);height:20px;width:20px;display:inline-block;\"></div><div style=\"background-color:rgb(0,64,147);height:20px;width:20px;display:inline-block;\"></div><div style=\"background-color:rgb(0,78,154);height:20px;width:20px;display:inline-block;\"></div><div style=\"background-color:rgb(0,92,161);height:20px;width:20px;display:inline-block;\"></div><div style=\"background-color:rgb(0,106,168);height:20px;width:20px;display:inline-block;\"></div><div style=\"background-color:rgb(0,120,174);height:20px;width:20px;display:inline-block;\"></div><div style=\"background-color:rgb(0,134,181);height:20px;width:20px;display:inline-block;\"></div><div style=\"background-color:rgb(0,148,188);height:20px;width:20px;display:inline-block;\"></div><div style=\"background-color:rgb(0,162,195);height:20px;width:20px;display:inline-block;\"></div><div style=\"background-color:rgb(0,176,202);height:20px;width:20px;display:inline-block;\"></div>"
      ],
      "text/plain": [
       "<IPython.core.display.HTML object>"
      ]
     },
     "execution_count": 108,
     "metadata": {},
     "output_type": "execute_result"
    }
   ],
   "source": [
    "scale = linear_gradient(hf[0], hf[1],10)\n",
    "HTML(cl.to_html(scale))"
   ]
  },
  {
   "cell_type": "code",
   "execution_count": 109,
   "metadata": {
    "collapsed": false
   },
   "outputs": [
    {
     "name": "stdout",
     "output_type": "stream",
     "text": [
      "<color-palette name=\"NFR Marine-Blå 10\" type=\"regular\">\n",
      "<color>#00338d</color>\n",
      "<color>#004093</color>\n",
      "<color>#004e9a</color>\n",
      "<color>#005ca1</color>\n",
      "<color>#006aa8</color>\n",
      "<color>#0078ae</color>\n",
      "<color>#0086b5</color>\n",
      "<color>#0094bc</color>\n",
      "<color>#00a2c3</color>\n",
      "<color>#00b0ca</color>\n",
      "</color-palette>\n"
     ]
    }
   ],
   "source": [
    "res = createTabeleauPalette(cl.to_rgb(scale), 'NFR Marine-Blå 10')\n",
    "print(res)\n",
    "tableau += res + '\\n\\n'"
   ]
  },
  {
   "cell_type": "code",
   "execution_count": 110,
   "metadata": {
    "collapsed": false
   },
   "outputs": [
    {
     "data": {
      "text/html": [
       "<div style=\"background-color:rgb(0,51,141);height:20px;width:20px;display:inline-block;\"></div><div style=\"background-color:rgb(19,65,147);height:20px;width:20px;display:inline-block;\"></div><div style=\"background-color:rgb(38,80,153);height:20px;width:20px;display:inline-block;\"></div><div style=\"background-color:rgb(57,94,160);height:20px;width:20px;display:inline-block;\"></div><div style=\"background-color:rgb(76,109,166);height:20px;width:20px;display:inline-block;\"></div><div style=\"background-color:rgb(95,123,172);height:20px;width:20px;display:inline-block;\"></div><div style=\"background-color:rgb(115,138,179);height:20px;width:20px;display:inline-block;\"></div><div style=\"background-color:rgb(134,152,185);height:20px;width:20px;display:inline-block;\"></div><div style=\"background-color:rgb(153,167,191);height:20px;width:20px;display:inline-block;\"></div><div style=\"background-color:rgb(172,181,198);height:20px;width:20px;display:inline-block;\"></div><div style=\"background-color:rgb(191,196,204);height:20px;width:20px;display:inline-block;\"></div><div style=\"background-color:rgb(211,211,211);height:20px;width:20px;display:inline-block;\"></div>"
      ],
      "text/plain": [
       "<IPython.core.display.HTML object>"
      ]
     },
     "execution_count": 110,
     "metadata": {},
     "output_type": "execute_result"
    }
   ],
   "source": [
    "scale = linear_gradient(hf[0], lysgrå,12)\n",
    "HTML(cl.to_html(scale))"
   ]
  },
  {
   "cell_type": "code",
   "execution_count": 111,
   "metadata": {
    "collapsed": false
   },
   "outputs": [
    {
     "name": "stdout",
     "output_type": "stream",
     "text": [
      "<color-palette name=\"NFR Marine-Grå 12\" type=\"regular\">\n",
      "<color>#00338d</color>\n",
      "<color>#134193</color>\n",
      "<color>#265099</color>\n",
      "<color>#395ea0</color>\n",
      "<color>#4c6da6</color>\n",
      "<color>#5f7bac</color>\n",
      "<color>#738ab3</color>\n",
      "<color>#8698b9</color>\n",
      "<color>#99a7bf</color>\n",
      "<color>#acb5c6</color>\n",
      "<color>#bfc4cc</color>\n",
      "<color>#d3d3d3</color>\n",
      "</color-palette>\n"
     ]
    }
   ],
   "source": [
    "res = createTabeleauPalette(cl.to_rgb(scale), 'NFR Marine-Grå 12')\n",
    "print(res)\n",
    "tableau += res + '\\n\\n'"
   ]
  },
  {
   "cell_type": "code",
   "execution_count": 112,
   "metadata": {
    "collapsed": false
   },
   "outputs": [
    {
     "data": {
      "text/html": [
       "<div style=\"background-color:rgb(0, 52, 143);height:20px;width:20px;display:inline-block;\"></div><div style=\"background-color:rgb(0, 65, 178);height:20px;width:20px;display:inline-block;\"></div><div style=\"background-color:rgb(0, 79, 214);height:20px;width:20px;display:inline-block;\"></div><div style=\"background-color:rgb(0, 92, 250);height:20px;width:20px;display:inline-block;\"></div><div style=\"background-color:rgb(31, 113, 255);height:20px;width:20px;display:inline-block;\"></div><div style=\"background-color:rgb(71, 139, 255);height:20px;width:20px;display:inline-block;\"></div><div style=\"background-color:rgb(107, 161, 255);height:20px;width:20px;display:inline-block;\"></div><div style=\"background-color:rgb(143, 184, 255);height:20px;width:20px;display:inline-block;\"></div><div style=\"background-color:rgb(178, 207, 255);height:20px;width:20px;display:inline-block;\"></div><div style=\"background-color:rgb(214, 229, 255);height:20px;width:20px;display:inline-block;\"></div><div style=\"background-color:rgb(255, 255, 255);height:20px;width:20px;display:inline-block;\"></div>"
      ],
      "text/plain": [
       "<IPython.core.display.HTML object>"
      ]
     },
     "execution_count": 112,
     "metadata": {},
     "output_type": "execute_result"
    }
   ],
   "source": [
    "scale = saturation(hf[0], 10)\n",
    "HTML(cl.to_html(scale))"
   ]
  },
  {
   "cell_type": "code",
   "execution_count": 113,
   "metadata": {
    "collapsed": false
   },
   "outputs": [
    {
     "name": "stdout",
     "output_type": "stream",
     "text": [
      "<color-palette name=\"NFR Marine Sat 10\" type=\"regular\">\n",
      "<color>#00348f</color>\n",
      "<color>#0041b2</color>\n",
      "<color>#004fd6</color>\n",
      "<color>#005cfa</color>\n",
      "<color>#1f71ff</color>\n",
      "<color>#478bff</color>\n",
      "<color>#6ba1ff</color>\n",
      "<color>#8fb8ff</color>\n",
      "<color>#b2cfff</color>\n",
      "<color>#d6e5ff</color>\n",
      "<color>#ffffff</color>\n",
      "</color-palette>\n"
     ]
    }
   ],
   "source": [
    "res = createTabeleauPalette(cl.to_rgb(scale), 'NFR Marine Sat 10')\n",
    "print(res)\n",
    "tableau += res + '\\n\\n'"
   ]
  },
  {
   "cell_type": "code",
   "execution_count": 114,
   "metadata": {
    "collapsed": false
   },
   "outputs": [
    {
     "data": {
      "text/html": [
       "<div style=\"background-color:rgb(0, 52, 143);height:20px;width:20px;display:inline-block;\"></div><div style=\"background-color:rgb(0, 58, 158);height:20px;width:20px;display:inline-block;\"></div><div style=\"background-color:rgb(0, 65, 178);height:20px;width:20px;display:inline-block;\"></div><div style=\"background-color:rgb(0, 71, 194);height:20px;width:20px;display:inline-block;\"></div><div style=\"background-color:rgb(0, 79, 214);height:20px;width:20px;display:inline-block;\"></div><div style=\"background-color:rgb(0, 86, 235);height:20px;width:20px;display:inline-block;\"></div><div style=\"background-color:rgb(0, 92, 250);height:20px;width:20px;display:inline-block;\"></div><div style=\"background-color:rgb(15, 103, 255);height:20px;width:20px;display:inline-block;\"></div><div style=\"background-color:rgb(31, 113, 255);height:20px;width:20px;display:inline-block;\"></div><div style=\"background-color:rgb(51, 126, 255);height:20px;width:20px;display:inline-block;\"></div><div style=\"background-color:rgb(71, 139, 255);height:20px;width:20px;display:inline-block;\"></div><div style=\"background-color:rgb(87, 148, 255);height:20px;width:20px;display:inline-block;\"></div><div style=\"background-color:rgb(107, 161, 255);height:20px;width:20px;display:inline-block;\"></div><div style=\"background-color:rgb(122, 171, 255);height:20px;width:20px;display:inline-block;\"></div><div style=\"background-color:rgb(143, 184, 255);height:20px;width:20px;display:inline-block;\"></div><div style=\"background-color:rgb(163, 197, 255);height:20px;width:20px;display:inline-block;\"></div><div style=\"background-color:rgb(178, 207, 255);height:20px;width:20px;display:inline-block;\"></div><div style=\"background-color:rgb(199, 219, 255);height:20px;width:20px;display:inline-block;\"></div><div style=\"background-color:rgb(214, 229, 255);height:20px;width:20px;display:inline-block;\"></div><div style=\"background-color:rgb(235, 242, 255);height:20px;width:20px;display:inline-block;\"></div><div style=\"background-color:rgb(255, 255, 255);height:20px;width:20px;display:inline-block;\"></div>"
      ],
      "text/plain": [
       "<IPython.core.display.HTML object>"
      ]
     },
     "execution_count": 114,
     "metadata": {},
     "output_type": "execute_result"
    }
   ],
   "source": [
    "scale = saturation(hf[0], 20)\n",
    "HTML(cl.to_html(scale))"
   ]
  },
  {
   "cell_type": "code",
   "execution_count": 115,
   "metadata": {
    "collapsed": false
   },
   "outputs": [
    {
     "name": "stdout",
     "output_type": "stream",
     "text": [
      "<color-palette name=\"NFR Marine Sat 20\" type=\"regular\">\n",
      "<color>#00348f</color>\n",
      "<color>#003a9e</color>\n",
      "<color>#0041b2</color>\n",
      "<color>#0047c2</color>\n",
      "<color>#004fd6</color>\n",
      "<color>#0056eb</color>\n",
      "<color>#005cfa</color>\n",
      "<color>#0f67ff</color>\n",
      "<color>#1f71ff</color>\n",
      "<color>#337eff</color>\n",
      "<color>#478bff</color>\n",
      "<color>#5794ff</color>\n",
      "<color>#6ba1ff</color>\n",
      "<color>#7aabff</color>\n",
      "<color>#8fb8ff</color>\n",
      "<color>#a3c5ff</color>\n",
      "<color>#b2cfff</color>\n",
      "<color>#c7dbff</color>\n",
      "<color>#d6e5ff</color>\n",
      "<color>#ebf2ff</color>\n",
      "<color>#ffffff</color>\n",
      "</color-palette>\n"
     ]
    }
   ],
   "source": [
    "res = createTabeleauPalette(cl.to_rgb(scale), 'NFR Marine Sat 20')\n",
    "print(res)\n",
    "tableau += res + '\\n\\n'"
   ]
  },
  {
   "cell_type": "code",
   "execution_count": 116,
   "metadata": {
    "collapsed": false
   },
   "outputs": [
    {
     "data": {
      "text/html": [
       "<div style=\"background-color:rgb(0, 52, 143);height:20px;width:20px;display:inline-block;\"></div><div style=\"background-color:rgb(0, 56, 153);height:20px;width:20px;display:inline-block;\"></div><div style=\"background-color:rgb(0, 60, 163);height:20px;width:20px;display:inline-block;\"></div><div style=\"background-color:rgb(0, 65, 178);height:20px;width:20px;display:inline-block;\"></div><div style=\"background-color:rgb(0, 69, 189);height:20px;width:20px;display:inline-block;\"></div><div style=\"background-color:rgb(0, 75, 204);height:20px;width:20px;display:inline-block;\"></div><div style=\"background-color:rgb(0, 79, 214);height:20px;width:20px;display:inline-block;\"></div><div style=\"background-color:rgb(0, 82, 224);height:20px;width:20px;display:inline-block;\"></div><div style=\"background-color:rgb(0, 88, 240);height:20px;width:20px;display:inline-block;\"></div><div style=\"background-color:rgb(0, 92, 250);height:20px;width:20px;display:inline-block;\"></div><div style=\"background-color:rgb(10, 100, 255);height:20px;width:20px;display:inline-block;\"></div><div style=\"background-color:rgb(20, 106, 255);height:20px;width:20px;display:inline-block;\"></div><div style=\"background-color:rgb(31, 113, 255);height:20px;width:20px;display:inline-block;\"></div><div style=\"background-color:rgb(46, 123, 255);height:20px;width:20px;display:inline-block;\"></div><div style=\"background-color:rgb(56, 129, 255);height:20px;width:20px;display:inline-block;\"></div><div style=\"background-color:rgb(71, 139, 255);height:20px;width:20px;display:inline-block;\"></div><div style=\"background-color:rgb(82, 145, 255);height:20px;width:20px;display:inline-block;\"></div><div style=\"background-color:rgb(92, 152, 255);height:20px;width:20px;display:inline-block;\"></div><div style=\"background-color:rgb(107, 161, 255);height:20px;width:20px;display:inline-block;\"></div><div style=\"background-color:rgb(117, 168, 255);height:20px;width:20px;display:inline-block;\"></div><div style=\"background-color:rgb(133, 177, 255);height:20px;width:20px;display:inline-block;\"></div><div style=\"background-color:rgb(143, 184, 255);height:20px;width:20px;display:inline-block;\"></div><div style=\"background-color:rgb(153, 190, 255);height:20px;width:20px;display:inline-block;\"></div><div style=\"background-color:rgb(168, 200, 255);height:20px;width:20px;display:inline-block;\"></div><div style=\"background-color:rgb(178, 207, 255);height:20px;width:20px;display:inline-block;\"></div><div style=\"background-color:rgb(194, 216, 255);height:20px;width:20px;display:inline-block;\"></div><div style=\"background-color:rgb(204, 223, 255);height:20px;width:20px;display:inline-block;\"></div><div style=\"background-color:rgb(214, 229, 255);height:20px;width:20px;display:inline-block;\"></div><div style=\"background-color:rgb(229, 239, 255);height:20px;width:20px;display:inline-block;\"></div><div style=\"background-color:rgb(240, 245, 255);height:20px;width:20px;display:inline-block;\"></div><div style=\"background-color:rgb(255, 255, 255);height:20px;width:20px;display:inline-block;\"></div>"
      ],
      "text/plain": [
       "<IPython.core.display.HTML object>"
      ]
     },
     "execution_count": 116,
     "metadata": {},
     "output_type": "execute_result"
    }
   ],
   "source": [
    "scale = saturation(hf[0], 30)\n",
    "HTML(cl.to_html(scale))"
   ]
  },
  {
   "cell_type": "code",
   "execution_count": 117,
   "metadata": {
    "collapsed": false
   },
   "outputs": [
    {
     "name": "stdout",
     "output_type": "stream",
     "text": [
      "<color-palette name=\"NFR Marine Sat 30\" type=\"regular\">\n",
      "<color>#00348f</color>\n",
      "<color>#003899</color>\n",
      "<color>#003ca3</color>\n",
      "<color>#0041b2</color>\n",
      "<color>#0045bd</color>\n",
      "<color>#004bcc</color>\n",
      "<color>#004fd6</color>\n",
      "<color>#0052e0</color>\n",
      "<color>#0058f0</color>\n",
      "<color>#005cfa</color>\n",
      "<color>#0a64ff</color>\n",
      "<color>#146aff</color>\n",
      "<color>#1f71ff</color>\n",
      "<color>#2e7bff</color>\n",
      "<color>#3881ff</color>\n",
      "<color>#478bff</color>\n",
      "<color>#5291ff</color>\n",
      "<color>#5c98ff</color>\n",
      "<color>#6ba1ff</color>\n",
      "<color>#75a8ff</color>\n",
      "<color>#85b1ff</color>\n",
      "<color>#8fb8ff</color>\n",
      "<color>#99beff</color>\n",
      "<color>#a8c8ff</color>\n",
      "<color>#b2cfff</color>\n",
      "<color>#c2d8ff</color>\n",
      "<color>#ccdfff</color>\n",
      "<color>#d6e5ff</color>\n",
      "<color>#e5efff</color>\n",
      "<color>#f0f5ff</color>\n",
      "<color>#ffffff</color>\n",
      "</color-palette>\n"
     ]
    }
   ],
   "source": [
    "res = createTabeleauPalette(cl.to_rgb(scale), 'NFR Marine Sat 30')\n",
    "print(res)\n",
    "tableau += res + '\\n\\n'"
   ]
  },
  {
   "cell_type": "code",
   "execution_count": 118,
   "metadata": {
    "collapsed": false
   },
   "outputs": [
    {
     "data": {
      "text/html": [
       "<div style=\"background-color:rgb(181, 18, 51);height:20px;width:20px;display:inline-block;\"></div><div style=\"background-color:rgb(209, 21, 58);height:20px;width:20px;display:inline-block;\"></div><div style=\"background-color:rgb(233, 28, 69);height:20px;width:20px;display:inline-block;\"></div><div style=\"background-color:rgb(235, 55, 91);height:20px;width:20px;display:inline-block;\"></div><div style=\"background-color:rgb(238, 83, 114);height:20px;width:20px;display:inline-block;\"></div><div style=\"background-color:rgb(241, 111, 137);height:20px;width:20px;display:inline-block;\"></div><div style=\"background-color:rgb(244, 139, 160);height:20px;width:20px;display:inline-block;\"></div><div style=\"background-color:rgb(246, 167, 183);height:20px;width:20px;display:inline-block;\"></div><div style=\"background-color:rgb(249, 195, 206);height:20px;width:20px;display:inline-block;\"></div><div style=\"background-color:rgb(252, 223, 228);height:20px;width:20px;display:inline-block;\"></div><div style=\"background-color:rgb(255, 255, 255);height:20px;width:20px;display:inline-block;\"></div>"
      ],
      "text/plain": [
       "<IPython.core.display.HTML object>"
      ]
     },
     "execution_count": 118,
     "metadata": {},
     "output_type": "execute_result"
    }
   ],
   "source": [
    "scale = saturation(hf[4], 10)\n",
    "HTML(cl.to_html(scale))"
   ]
  },
  {
   "cell_type": "code",
   "execution_count": 119,
   "metadata": {
    "collapsed": false
   },
   "outputs": [
    {
     "name": "stdout",
     "output_type": "stream",
     "text": [
      "<color-palette name=\"NFR Rød Sat 10\" type=\"regular\">\n",
      "<color>#b51233</color>\n",
      "<color>#d1153a</color>\n",
      "<color>#e91c45</color>\n",
      "<color>#eb375b</color>\n",
      "<color>#ee5372</color>\n",
      "<color>#f16f89</color>\n",
      "<color>#f48ba0</color>\n",
      "<color>#f6a7b7</color>\n",
      "<color>#f9c3ce</color>\n",
      "<color>#fcdfe4</color>\n",
      "<color>#ffffff</color>\n",
      "</color-palette>\n"
     ]
    }
   ],
   "source": [
    "res = createTabeleauPalette(cl.to_rgb(scale), 'NFR Rød Sat 10')\n",
    "print(res)\n",
    "tableau += res + '\\n\\n'"
   ]
  },
  {
   "cell_type": "code",
   "execution_count": 120,
   "metadata": {
    "collapsed": false
   },
   "outputs": [
    {
     "data": {
      "text/html": [
       "<div style=\"background-color:rgb(181, 18, 51);height:20px;width:20px;display:inline-block;\"></div><div style=\"background-color:rgb(195, 19, 54);height:20px;width:20px;display:inline-block;\"></div><div style=\"background-color:rgb(209, 21, 58);height:20px;width:20px;display:inline-block;\"></div><div style=\"background-color:rgb(223, 22, 62);height:20px;width:20px;display:inline-block;\"></div><div style=\"background-color:rgb(233, 28, 69);height:20px;width:20px;display:inline-block;\"></div><div style=\"background-color:rgb(234, 42, 80);height:20px;width:20px;display:inline-block;\"></div><div style=\"background-color:rgb(235, 55, 91);height:20px;width:20px;display:inline-block;\"></div><div style=\"background-color:rgb(237, 69, 103);height:20px;width:20px;display:inline-block;\"></div><div style=\"background-color:rgb(238, 83, 114);height:20px;width:20px;display:inline-block;\"></div><div style=\"background-color:rgb(239, 97, 126);height:20px;width:20px;display:inline-block;\"></div><div style=\"background-color:rgb(241, 111, 137);height:20px;width:20px;display:inline-block;\"></div><div style=\"background-color:rgb(242, 125, 148);height:20px;width:20px;display:inline-block;\"></div><div style=\"background-color:rgb(244, 139, 160);height:20px;width:20px;display:inline-block;\"></div><div style=\"background-color:rgb(245, 153, 171);height:20px;width:20px;display:inline-block;\"></div><div style=\"background-color:rgb(246, 167, 183);height:20px;width:20px;display:inline-block;\"></div><div style=\"background-color:rgb(248, 181, 194);height:20px;width:20px;display:inline-block;\"></div><div style=\"background-color:rgb(249, 195, 206);height:20px;width:20px;display:inline-block;\"></div><div style=\"background-color:rgb(250, 209, 217);height:20px;width:20px;display:inline-block;\"></div><div style=\"background-color:rgb(252, 223, 228);height:20px;width:20px;display:inline-block;\"></div><div style=\"background-color:rgb(253, 236, 240);height:20px;width:20px;display:inline-block;\"></div><div style=\"background-color:rgb(255, 255, 255);height:20px;width:20px;display:inline-block;\"></div>"
      ],
      "text/plain": [
       "<IPython.core.display.HTML object>"
      ]
     },
     "execution_count": 120,
     "metadata": {},
     "output_type": "execute_result"
    }
   ],
   "source": [
    "scale = saturation(hf[4], 20)\n",
    "HTML(cl.to_html(scale))"
   ]
  },
  {
   "cell_type": "code",
   "execution_count": 121,
   "metadata": {
    "collapsed": false
   },
   "outputs": [
    {
     "name": "stdout",
     "output_type": "stream",
     "text": [
      "<color-palette name=\"NFR Rød Sat 20\" type=\"regular\">\n",
      "<color>#b51233</color>\n",
      "<color>#c31336</color>\n",
      "<color>#d1153a</color>\n",
      "<color>#df163e</color>\n",
      "<color>#e91c45</color>\n",
      "<color>#ea2a50</color>\n",
      "<color>#eb375b</color>\n",
      "<color>#ed4567</color>\n",
      "<color>#ee5372</color>\n",
      "<color>#ef617e</color>\n",
      "<color>#f16f89</color>\n",
      "<color>#f27d94</color>\n",
      "<color>#f48ba0</color>\n",
      "<color>#f599ab</color>\n",
      "<color>#f6a7b7</color>\n",
      "<color>#f8b5c2</color>\n",
      "<color>#f9c3ce</color>\n",
      "<color>#fad1d9</color>\n",
      "<color>#fcdfe4</color>\n",
      "<color>#fdecf0</color>\n",
      "<color>#ffffff</color>\n",
      "</color-palette>\n"
     ]
    }
   ],
   "source": [
    "res = createTabeleauPalette(cl.to_rgb(scale), 'NFR Rød Sat 20')\n",
    "print(res)\n",
    "tableau += res + '\\n\\n'"
   ]
  },
  {
   "cell_type": "code",
   "execution_count": 122,
   "metadata": {
    "collapsed": false
   },
   "outputs": [],
   "source": [
    "scale = linear_gradient(hf[2], lysgrå,9)\n",
    "HTML(cl.to_html(scale))\n",
    "tableau += res + '\\n\\n'"
   ]
  },
  {
   "cell_type": "code",
   "execution_count": 123,
   "metadata": {
    "collapsed": false
   },
   "outputs": [
    {
     "name": "stdout",
     "output_type": "stream",
     "text": [
      "<color-palette name=\"NFR Oransje-LysGrå 9\" type=\"regular\">\n",
      "<color>#e98300</color>\n",
      "<color>#e68d1a</color>\n",
      "<color>#e39734</color>\n",
      "<color>#e0a14f</color>\n",
      "<color>#deab69</color>\n",
      "<color>#dbb583</color>\n",
      "<color>#d8bf9e</color>\n",
      "<color>#d5c9b8</color>\n",
      "<color>#d3d3d3</color>\n",
      "</color-palette>\n"
     ]
    }
   ],
   "source": [
    "res = createTabeleauPalette(cl.to_rgb(scale), 'NFR Oransje-LysGrå 9')\n",
    "print(res)"
   ]
  },
  {
   "cell_type": "code",
   "execution_count": 124,
   "metadata": {
    "collapsed": false
   },
   "outputs": [],
   "source": [
    "scale = saturation(hf[2], 12)\n",
    "HTML(cl.to_html(scale))\n",
    "tableau += res + '\\n\\n'"
   ]
  },
  {
   "cell_type": "code",
   "execution_count": 125,
   "metadata": {
    "collapsed": false
   },
   "outputs": [
    {
     "name": "stdout",
     "output_type": "stream",
     "text": [
      "<color-palette name=\"NFR Oransje Sat 12\" type=\"regular\">\n",
      "<color>#eb8500</color>\n",
      "<color>#ff9000</color>\n",
      "<color>#ff9c1a</color>\n",
      "<color>#ffa42e</color>\n",
      "<color>#ffaf47</color>\n",
      "<color>#ffb85c</color>\n",
      "<color>#ffc375</color>\n",
      "<color>#ffcc8a</color>\n",
      "<color>#ffd7a3</color>\n",
      "<color>#ffe0b8</color>\n",
      "<color>#ffebd1</color>\n",
      "<color>#fff4e5</color>\n",
      "<color>#ffffff</color>\n",
      "</color-palette>\n"
     ]
    }
   ],
   "source": [
    "res = createTabeleauPalette(cl.to_rgb(scale), 'NFR Oransje Sat 12')\n",
    "print(res)\n",
    "tableau += res + '\\n\\n'"
   ]
  },
  {
   "cell_type": "code",
   "execution_count": 126,
   "metadata": {
    "collapsed": false
   },
   "outputs": [
    {
     "data": {
      "text/html": [
       "<div style=\"background-color:rgb(233,131,0);height:20px;width:20px;display:inline-block;\"></div><div style=\"background-color:rgb(226,116,6);height:20px;width:20px;display:inline-block;\"></div><div style=\"background-color:rgb(220,102,13);height:20px;width:20px;display:inline-block;\"></div><div style=\"background-color:rgb(214,88,19);height:20px;width:20px;display:inline-block;\"></div><div style=\"background-color:rgb(208,74,26);height:20px;width:20px;display:inline-block;\"></div><div style=\"background-color:rgb(201,60,32);height:20px;width:20px;display:inline-block;\"></div><div style=\"background-color:rgb(195,46,39);height:20px;width:20px;display:inline-block;\"></div><div style=\"background-color:rgb(189,32,45);height:20px;width:20px;display:inline-block;\"></div><div style=\"background-color:rgb(183,18,52);height:20px;width:20px;display:inline-block;\"></div>"
      ],
      "text/plain": [
       "<IPython.core.display.HTML object>"
      ]
     },
     "execution_count": 126,
     "metadata": {},
     "output_type": "execute_result"
    }
   ],
   "source": [
    "scale = linear_gradient(hf[2], hf[4],9)\n",
    "HTML(cl.to_html(scale))"
   ]
  },
  {
   "cell_type": "code",
   "execution_count": 127,
   "metadata": {
    "collapsed": false
   },
   "outputs": [
    {
     "name": "stdout",
     "output_type": "stream",
     "text": [
      "<color-palette name=\"NFR Oransje-Rød 9\" type=\"regular\">\n",
      "<color>#e98300</color>\n",
      "<color>#e27406</color>\n",
      "<color>#dc660d</color>\n",
      "<color>#d65813</color>\n",
      "<color>#d04a1a</color>\n",
      "<color>#c93c20</color>\n",
      "<color>#c32e27</color>\n",
      "<color>#bd202d</color>\n",
      "<color>#b71234</color>\n",
      "</color-palette>\n"
     ]
    }
   ],
   "source": [
    "res = createTabeleauPalette(cl.to_rgb(scale), 'NFR Oransje-Rød 9')\n",
    "print(res)\n",
    "tableau += res + '\\n\\n'"
   ]
  },
  {
   "cell_type": "code",
   "execution_count": 128,
   "metadata": {
    "collapsed": false
   },
   "outputs": [
    {
     "data": {
      "text/html": [
       "<div style=\"background-color:rgb(233,131,0);height:20px;width:20px;display:inline-block;\"></div><div style=\"background-color:rgb(224,112,8);height:20px;width:20px;display:inline-block;\"></div><div style=\"background-color:rgb(216,93,17);height:20px;width:20px;display:inline-block;\"></div><div style=\"background-color:rgb(208,74,26);height:20px;width:20px;display:inline-block;\"></div><div style=\"background-color:rgb(199,55,34);height:20px;width:20px;display:inline-block;\"></div><div style=\"background-color:rgb(191,36,43);height:20px;width:20px;display:inline-block;\"></div><div style=\"background-color:rgb(183,18,52);height:20px;width:20px;display:inline-block;\"></div>"
      ],
      "text/plain": [
       "<IPython.core.display.HTML object>"
      ]
     },
     "execution_count": 128,
     "metadata": {},
     "output_type": "execute_result"
    }
   ],
   "source": [
    "scale = linear_gradient(hf[2], hf[4],7)\n",
    "HTML(cl.to_html(scale))"
   ]
  },
  {
   "cell_type": "code",
   "execution_count": 129,
   "metadata": {
    "collapsed": false
   },
   "outputs": [
    {
     "name": "stdout",
     "output_type": "stream",
     "text": [
      "<color-palette name=\"NFR Oransje-Rød 7\" type=\"regular\">\n",
      "<color>#e98300</color>\n",
      "<color>#e07008</color>\n",
      "<color>#d85d11</color>\n",
      "<color>#d04a1a</color>\n",
      "<color>#c73722</color>\n",
      "<color>#bf242b</color>\n",
      "<color>#b71234</color>\n",
      "</color-palette>\n"
     ]
    }
   ],
   "source": [
    "res = createTabeleauPalette(cl.to_rgb(scale), 'NFR Oransje-Rød 7')\n",
    "print(res)\n",
    "tableau += res + '\\n\\n'"
   ]
  },
  {
   "cell_type": "code",
   "execution_count": 130,
   "metadata": {
    "collapsed": false
   },
   "outputs": [
    {
     "data": {
      "text/html": [
       "<div style=\"background-color:rgb(0,51,141);height:20px;width:20px;display:inline-block;\"></div><div style=\"background-color:rgb(0,66,148);height:20px;width:20px;display:inline-block;\"></div><div style=\"background-color:rgb(0,82,156);height:20px;width:20px;display:inline-block;\"></div><div style=\"background-color:rgb(0,97,163);height:20px;width:20px;display:inline-block;\"></div><div style=\"background-color:rgb(0,113,171);height:20px;width:20px;display:inline-block;\"></div><div style=\"background-color:rgb(0,129,179);height:20px;width:20px;display:inline-block;\"></div><div style=\"background-color:rgb(0,144,186);height:20px;width:20px;display:inline-block;\"></div><div style=\"background-color:rgb(0,160,194);height:20px;width:20px;display:inline-block;\"></div><div style=\"background-color:rgb(0,176,202);height:20px;width:20px;display:inline-block;\"></div>"
      ],
      "text/plain": [
       "<IPython.core.display.HTML object>"
      ]
     },
     "execution_count": 130,
     "metadata": {},
     "output_type": "execute_result"
    }
   ],
   "source": [
    "scale = linear_gradient(hf[0], hf[1],9)\n",
    "HTML(cl.to_html(scale))"
   ]
  },
  {
   "cell_type": "code",
   "execution_count": 131,
   "metadata": {
    "collapsed": false
   },
   "outputs": [
    {
     "name": "stdout",
     "output_type": "stream",
     "text": [
      "<color-palette name=\"NFR Marine-Lyseblå 9\" type=\"regular\">\n",
      "<color>#00338d</color>\n",
      "<color>#004294</color>\n",
      "<color>#00529c</color>\n",
      "<color>#0061a3</color>\n",
      "<color>#0071ab</color>\n",
      "<color>#0081b3</color>\n",
      "<color>#0090ba</color>\n",
      "<color>#00a0c2</color>\n",
      "<color>#00b0ca</color>\n",
      "</color-palette>\n"
     ]
    }
   ],
   "source": [
    "res = createTabeleauPalette(cl.to_rgb(scale), 'NFR Marine-Lyseblå 9')\n",
    "print(res)\n",
    "tableau += res + '\\n\\n'"
   ]
  },
  {
   "cell_type": "code",
   "execution_count": 132,
   "metadata": {
    "collapsed": false
   },
   "outputs": [
    {
     "data": {
      "text/html": [
       "<div style=\"background-color:rgb(0,51,141);height:20px;width:20px;display:inline-block;\"></div><div style=\"background-color:rgb(0,62,146);height:20px;width:20px;display:inline-block;\"></div><div style=\"background-color:rgb(0,73,152);height:20px;width:20px;display:inline-block;\"></div><div style=\"background-color:rgb(0,85,157);height:20px;width:20px;display:inline-block;\"></div><div style=\"background-color:rgb(0,96,163);height:20px;width:20px;display:inline-block;\"></div><div style=\"background-color:rgb(0,107,168);height:20px;width:20px;display:inline-block;\"></div><div style=\"background-color:rgb(0,119,174);height:20px;width:20px;display:inline-block;\"></div><div style=\"background-color:rgb(0,130,179);height:20px;width:20px;display:inline-block;\"></div><div style=\"background-color:rgb(0,141,185);height:20px;width:20px;display:inline-block;\"></div><div style=\"background-color:rgb(0,153,190);height:20px;width:20px;display:inline-block;\"></div><div style=\"background-color:rgb(0,164,196);height:20px;width:20px;display:inline-block;\"></div><div style=\"background-color:rgb(0,176,202);height:20px;width:20px;display:inline-block;\"></div>"
      ],
      "text/plain": [
       "<IPython.core.display.HTML object>"
      ]
     },
     "execution_count": 132,
     "metadata": {},
     "output_type": "execute_result"
    }
   ],
   "source": [
    "scale = linear_gradient(hf[0], hf[1],12)\n",
    "HTML(cl.to_html(scale))"
   ]
  },
  {
   "cell_type": "code",
   "execution_count": 133,
   "metadata": {
    "collapsed": false
   },
   "outputs": [
    {
     "name": "stdout",
     "output_type": "stream",
     "text": [
      "<color-palette name=\"NFR Marine-Lyseblå 12\" type=\"regular\">\n",
      "<color>#00338d</color>\n",
      "<color>#003e92</color>\n",
      "<color>#004998</color>\n",
      "<color>#00559d</color>\n",
      "<color>#0060a3</color>\n",
      "<color>#006ba8</color>\n",
      "<color>#0077ae</color>\n",
      "<color>#0082b3</color>\n",
      "<color>#008db9</color>\n",
      "<color>#0099be</color>\n",
      "<color>#00a4c4</color>\n",
      "<color>#00b0ca</color>\n",
      "</color-palette>\n"
     ]
    }
   ],
   "source": [
    "res = createTabeleauPalette(cl.to_rgb(scale), 'NFR Marine-Lyseblå 12')\n",
    "print(res)\n",
    "tableau += res + '\\n\\n'"
   ]
  },
  {
   "cell_type": "code",
   "execution_count": 134,
   "metadata": {
    "collapsed": false
   },
   "outputs": [
    {
     "data": {
      "text/html": [
       "<div style=\"background-color:rgb(135,150,55);height:20px;width:20px;display:inline-block;\"></div><div style=\"background-color:rgb(151,146,45);height:20px;width:20px;display:inline-block;\"></div><div style=\"background-color:rgb(167,143,36);height:20px;width:20px;display:inline-block;\"></div><div style=\"background-color:rgb(184,140,27);height:20px;width:20px;display:inline-block;\"></div><div style=\"background-color:rgb(200,137,18);height:20px;width:20px;display:inline-block;\"></div><div style=\"background-color:rgb(216,134,9);height:20px;width:20px;display:inline-block;\"></div><div style=\"background-color:rgb(233,131,0);height:20px;width:20px;display:inline-block;\"></div>"
      ],
      "text/plain": [
       "<IPython.core.display.HTML object>"
      ]
     },
     "execution_count": 134,
     "metadata": {},
     "output_type": "execute_result"
    }
   ],
   "source": [
    "scale = linear_gradient(hf[5], hf[2],7)\n",
    "HTML(cl.to_html(scale))"
   ]
  },
  {
   "cell_type": "code",
   "execution_count": 135,
   "metadata": {
    "collapsed": false
   },
   "outputs": [
    {
     "name": "stdout",
     "output_type": "stream",
     "text": [
      "<color-palette name=\"NFR Grønn-Oransje 7\" type=\"regular\">\n",
      "<color>#879637</color>\n",
      "<color>#97922d</color>\n",
      "<color>#a78f24</color>\n",
      "<color>#b88c1b</color>\n",
      "<color>#c88912</color>\n",
      "<color>#d88609</color>\n",
      "<color>#e98300</color>\n",
      "</color-palette>\n"
     ]
    }
   ],
   "source": [
    "res = createTabeleauPalette(cl.to_rgb(scale), 'NFR Grønn-Oransje 7')\n",
    "print(res)\n",
    "tableau += res + '\\n\\n'"
   ]
  },
  {
   "cell_type": "code",
   "execution_count": 136,
   "metadata": {
    "collapsed": false
   },
   "outputs": [
    {
     "data": {
      "text/html": [
       "<div style=\"background-color:rgb(135,150,55);height:20px;width:20px;display:inline-block;\"></div><div style=\"background-color:rgb(159,145,41);height:20px;width:20px;display:inline-block;\"></div><div style=\"background-color:rgb(184,140,27);height:20px;width:20px;display:inline-block;\"></div><div style=\"background-color:rgb(208,135,13);height:20px;width:20px;display:inline-block;\"></div><div style=\"background-color:rgb(233,131,0);height:20px;width:20px;display:inline-block;\"></div>"
      ],
      "text/plain": [
       "<IPython.core.display.HTML object>"
      ]
     },
     "execution_count": 136,
     "metadata": {},
     "output_type": "execute_result"
    }
   ],
   "source": [
    "scale = linear_gradient(hf[5], hf[2],5)\n",
    "HTML(cl.to_html(scale))"
   ]
  },
  {
   "cell_type": "code",
   "execution_count": 137,
   "metadata": {
    "collapsed": false
   },
   "outputs": [
    {
     "name": "stdout",
     "output_type": "stream",
     "text": [
      "<color-palette name=\"NFR Grønn-Oransje 5\" type=\"regular\">\n",
      "<color>#879637</color>\n",
      "<color>#9f9129</color>\n",
      "<color>#b88c1b</color>\n",
      "<color>#d0870d</color>\n",
      "<color>#e98300</color>\n",
      "</color-palette>\n"
     ]
    }
   ],
   "source": [
    "res = createTabeleauPalette(cl.to_rgb(scale), 'NFR Grønn-Oransje 5')\n",
    "print(res)\n",
    "tableau += res + '\\n\\n'"
   ]
  },
  {
   "cell_type": "code",
   "execution_count": 138,
   "metadata": {
    "collapsed": true
   },
   "outputs": [],
   "source": [
    "tableau += '</preferences>\\n\\n'\n",
    "tableau += '</workbook>\\n'"
   ]
  },
  {
   "cell_type": "code",
   "execution_count": 140,
   "metadata": {
    "collapsed": false
   },
   "outputs": [],
   "source": [
    "text_file = open(\"preferences.tps\", \"w\", encoding='utf-8')\n",
    "text_file.write(tableau)\n",
    "text_file.close()"
   ]
  }
 ],
 "metadata": {
  "kernelspec": {
   "display_name": "Python 3.5",
   "language": "python",
   "name": "python35"
  },
  "language_info": {
   "codemirror_mode": {
    "name": "ipython",
    "version": 3
   },
   "file_extension": ".py",
   "mimetype": "text/x-python",
   "name": "python",
   "nbconvert_exporter": "python",
   "pygments_lexer": "ipython3",
   "version": "3.5.1"
  }
 },
 "nbformat": 4,
 "nbformat_minor": 0
}
