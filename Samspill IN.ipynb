{
 "cells": [
  {
   "cell_type": "code",
   "execution_count": 1,
   "metadata": {},
   "outputs": [
    {
     "data": {
      "text/html": [
       "<script>requirejs.config({paths: { 'plotly': ['https://cdn.plot.ly/plotly-latest.min']},});if(!window.Plotly) {{require(['plotly'],function(plotly) {window.Plotly=plotly;});}}</script>"
      ],
      "text/vnd.plotly.v1+html": [
       "<script>requirejs.config({paths: { 'plotly': ['https://cdn.plot.ly/plotly-latest.min']},});if(!window.Plotly) {{require(['plotly'],function(plotly) {window.Plotly=plotly;});}}</script>"
      ]
     },
     "metadata": {},
     "output_type": "display_data"
    }
   ],
   "source": [
    "%matplotlib inline\n",
    "import pandas as pd\n",
    "from sqlalchemy import create_engine # database connection\n",
    "import os\n",
    "import datetime as dt\n",
    "from IPython.display import display\n",
    "\n",
    "from plotly.offline import download_plotlyjs, init_notebook_mode, plot, iplot\n",
    "from plotly.graph_objs import Bar, Scatter, Figure, Layout\n",
    "import plotly.plotly as py\n",
    "init_notebook_mode(connected=True)"
   ]
  },
  {
   "cell_type": "code",
   "execution_count": 2,
   "metadata": {
    "collapsed": true
   },
   "outputs": [],
   "source": [
    "def getDir(dir = ''):\n",
    "    directory = r'C:/Data/Repos/Samspill/Dataset/'\n",
    "    if len(dir) > 0:\n",
    "        directory = directory + dir + '/'\n",
    "    if not os.path.exists(directory):\n",
    "        os.makedirs(directory)\n",
    "    \n",
    "    return directory"
   ]
  },
  {
   "cell_type": "code",
   "execution_count": 3,
   "metadata": {
    "collapsed": true
   },
   "outputs": [],
   "source": [
    "result = getDir('powerbi')\n",
    "writer = pd.ExcelWriter(result + r'samspill.xlsx', engine='xlsxwriter')\n",
    "#i_n.to_excel(writer, sheet_name='')\n",
    "#writer.save()"
   ]
  },
  {
   "cell_type": "code",
   "execution_count": 4,
   "metadata": {
    "collapsed": true
   },
   "outputs": [],
   "source": [
    "disk_engine = create_engine('sqlite:///C:/Data/Data/samspill.db') "
   ]
  },
  {
   "cell_type": "markdown",
   "metadata": {},
   "source": [
    "# Innovasjon Norge Vedtak"
   ]
  },
  {
   "cell_type": "code",
   "execution_count": 5,
   "metadata": {},
   "outputs": [
    {
     "data": {
      "text/plain": [
       "['Data', 'DIM_vmkode']"
      ]
     },
     "execution_count": 5,
     "metadata": {},
     "output_type": "execute_result"
    }
   ],
   "source": [
    "in_excel = pd.ExcelFile(getDir() + r'IN_17_03_17.xlsx',encoding='utf-8')\n",
    "in_excel.sheet_names"
   ]
  },
  {
   "cell_type": "code",
   "execution_count": 6,
   "metadata": {},
   "outputs": [
    {
     "data": {
      "text/html": [
       "<div>\n",
       "<table border=\"1\" class=\"dataframe\">\n",
       "  <thead>\n",
       "    <tr style=\"text-align: right;\">\n",
       "      <th></th>\n",
       "      <th>Year</th>\n",
       "      <th>Organisasjonsnummer</th>\n",
       "      <th>Prosjekt kundenavn</th>\n",
       "      <th>Saknummer</th>\n",
       "      <th>Virkemiddelkode</th>\n",
       "      <th>Beløp</th>\n",
       "    </tr>\n",
       "  </thead>\n",
       "  <tbody>\n",
       "    <tr>\n",
       "      <th>0</th>\n",
       "      <td>2012</td>\n",
       "      <td>00005001512</td>\n",
       "      <td>IN Møre og Romsdal</td>\n",
       "      <td>2011/102608</td>\n",
       "      <td>703 - Bedriftsutviklingstilskudd</td>\n",
       "      <td>67200.0</td>\n",
       "    </tr>\n",
       "  </tbody>\n",
       "</table>\n",
       "</div>"
      ],
      "text/plain": [
       "   Year Organisasjonsnummer  Prosjekt kundenavn    Saknummer  \\\n",
       "0  2012         00005001512  IN Møre og Romsdal  2011/102608   \n",
       "\n",
       "                    Virkemiddelkode    Beløp  \n",
       "0  703 - Bedriftsutviklingstilskudd  67200.0  "
      ]
     },
     "execution_count": 6,
     "metadata": {},
     "output_type": "execute_result"
    }
   ],
   "source": [
    "in_data = in_excel.parse('Data')\n",
    "in_data.drop('#Vm-kode', 1, inplace=True)\n",
    "in_data.rename(columns={'Endelig innvilget årsrapport beløp':'Beløp'}, inplace=True)\n",
    "in_data.head(1)"
   ]
  },
  {
   "cell_type": "code",
   "execution_count": 7,
   "metadata": {},
   "outputs": [
    {
     "data": {
      "text/html": [
       "<div>\n",
       "<table border=\"1\" class=\"dataframe\">\n",
       "  <thead>\n",
       "    <tr style=\"text-align: right;\">\n",
       "      <th></th>\n",
       "      <th>Virkemiddelkode</th>\n",
       "      <th>Tjenestetype</th>\n",
       "      <th>Tjenestekode</th>\n",
       "      <th>Virkemiddelgruppe</th>\n",
       "      <th>Behov</th>\n",
       "      <th>Tjeneste - NY</th>\n",
       "      <th>Leveransetype - NY</th>\n",
       "      <th>Budsjettpost</th>\n",
       "      <th>Myndighet</th>\n",
       "    </tr>\n",
       "  </thead>\n",
       "  <tbody>\n",
       "    <tr>\n",
       "      <th>0</th>\n",
       "      <td>001 - Prosjekter/programmer</td>\n",
       "      <td>Andre tjenester</td>\n",
       "      <td>P-005 - Bygdeutviklingsmidlene</td>\n",
       "      <td>Sentrale BU-midler</td>\n",
       "      <td>Finansiere innovasjon og annen bedriftsutvikling</td>\n",
       "      <td>Investeringsstøtte</td>\n",
       "      <td>Tilskudd</td>\n",
       "      <td>LMD 1150.50 BU-midler</td>\n",
       "      <td>LMD</td>\n",
       "    </tr>\n",
       "  </tbody>\n",
       "</table>\n",
       "</div>"
      ],
      "text/plain": [
       "               Virkemiddelkode     Tjenestetype  \\\n",
       "0  001 - Prosjekter/programmer  Andre tjenester   \n",
       "\n",
       "                     Tjenestekode   Virkemiddelgruppe  \\\n",
       "0  P-005 - Bygdeutviklingsmidlene  Sentrale BU-midler   \n",
       "\n",
       "                                              Behov       Tjeneste - NY  \\\n",
       "0  Finansiere innovasjon og annen bedriftsutvikling  Investeringsstøtte   \n",
       "\n",
       "  Leveransetype - NY           Budsjettpost Myndighet  \n",
       "0           Tilskudd  LMD 1150.50 BU-midler       LMD  "
      ]
     },
     "execution_count": 7,
     "metadata": {},
     "output_type": "execute_result"
    }
   ],
   "source": [
    "in_kode = in_excel.parse('DIM_vmkode')\n",
    "in_kode.drop('#vmkode', 1, inplace=True)\n",
    "in_kode.rename(columns={'Behov-NY':'Behov', 'Tjeneste-Ny': 'Tjeneste', 'Leveransetype-NY': 'Leveransetype' }, inplace=True)\n",
    "in_kode.head(1)"
   ]
  },
  {
   "cell_type": "code",
   "execution_count": 28,
   "metadata": {},
   "outputs": [
    {
     "ename": "KeyError",
     "evalue": "('Virkemiddelkode', 'Tjenestetype')",
     "output_type": "error",
     "traceback": [
      "\u001b[0;31m---------------------------------------------------------------------------\u001b[0m",
      "\u001b[0;31mKeyError\u001b[0m                                  Traceback (most recent call last)",
      "\u001b[0;32mC:\\Anaconda3\\lib\\site-packages\\pandas\\indexes\\base.py\u001b[0m in \u001b[0;36mget_loc\u001b[0;34m(self, key, method, tolerance)\u001b[0m\n\u001b[1;32m   1875\u001b[0m             \u001b[1;32mtry\u001b[0m\u001b[1;33m:\u001b[0m\u001b[1;33m\u001b[0m\u001b[0m\n\u001b[0;32m-> 1876\u001b[0;31m                 \u001b[1;32mreturn\u001b[0m \u001b[0mself\u001b[0m\u001b[1;33m.\u001b[0m\u001b[0m_engine\u001b[0m\u001b[1;33m.\u001b[0m\u001b[0mget_loc\u001b[0m\u001b[1;33m(\u001b[0m\u001b[0mkey\u001b[0m\u001b[1;33m)\u001b[0m\u001b[1;33m\u001b[0m\u001b[0m\n\u001b[0m\u001b[1;32m   1877\u001b[0m             \u001b[1;32mexcept\u001b[0m \u001b[0mKeyError\u001b[0m\u001b[1;33m:\u001b[0m\u001b[1;33m\u001b[0m\u001b[0m\n",
      "\u001b[0;32mpandas\\index.pyx\u001b[0m in \u001b[0;36mpandas.index.IndexEngine.get_loc (pandas\\index.c:4027)\u001b[0;34m()\u001b[0m\n",
      "\u001b[0;32mpandas\\index.pyx\u001b[0m in \u001b[0;36mpandas.index.IndexEngine.get_loc (pandas\\index.c:3891)\u001b[0;34m()\u001b[0m\n",
      "\u001b[0;32mpandas\\hashtable.pyx\u001b[0m in \u001b[0;36mpandas.hashtable.PyObjectHashTable.get_item (pandas\\hashtable.c:12408)\u001b[0;34m()\u001b[0m\n",
      "\u001b[0;32mpandas\\hashtable.pyx\u001b[0m in \u001b[0;36mpandas.hashtable.PyObjectHashTable.get_item (pandas\\hashtable.c:12359)\u001b[0;34m()\u001b[0m\n",
      "\u001b[0;31mKeyError\u001b[0m: ('Virkemiddelkode', 'Tjenestetype')",
      "\nDuring handling of the above exception, another exception occurred:\n",
      "\u001b[0;31mKeyError\u001b[0m                                  Traceback (most recent call last)",
      "\u001b[0;32m<ipython-input-28-5bb8fee744ba>\u001b[0m in \u001b[0;36m<module>\u001b[0;34m()\u001b[0m\n\u001b[0;32m----> 1\u001b[0;31m \u001b[0min_kode\u001b[0m\u001b[1;33m[\u001b[0m\u001b[1;34m'Virkemiddelkode'\u001b[0m\u001b[1;33m,\u001b[0m\u001b[1;34m'Tjenestetype'\u001b[0m\u001b[1;33m]\u001b[0m\u001b[1;33m.\u001b[0m\u001b[0mgroupby\u001b[0m\u001b[1;33m(\u001b[0m\u001b[1;33m[\u001b[0m\u001b[1;34m'Virkemiddelkode'\u001b[0m\u001b[1;33m]\u001b[0m\u001b[1;33m)\u001b[0m\u001b[1;33m\u001b[0m\u001b[0m\n\u001b[0m",
      "\u001b[0;32mC:\\Anaconda3\\lib\\site-packages\\pandas\\core\\frame.py\u001b[0m in \u001b[0;36m__getitem__\u001b[0;34m(self, key)\u001b[0m\n\u001b[1;32m   1990\u001b[0m             \u001b[1;32mreturn\u001b[0m \u001b[0mself\u001b[0m\u001b[1;33m.\u001b[0m\u001b[0m_getitem_multilevel\u001b[0m\u001b[1;33m(\u001b[0m\u001b[0mkey\u001b[0m\u001b[1;33m)\u001b[0m\u001b[1;33m\u001b[0m\u001b[0m\n\u001b[1;32m   1991\u001b[0m         \u001b[1;32melse\u001b[0m\u001b[1;33m:\u001b[0m\u001b[1;33m\u001b[0m\u001b[0m\n\u001b[0;32m-> 1992\u001b[0;31m             \u001b[1;32mreturn\u001b[0m \u001b[0mself\u001b[0m\u001b[1;33m.\u001b[0m\u001b[0m_getitem_column\u001b[0m\u001b[1;33m(\u001b[0m\u001b[0mkey\u001b[0m\u001b[1;33m)\u001b[0m\u001b[1;33m\u001b[0m\u001b[0m\n\u001b[0m\u001b[1;32m   1993\u001b[0m \u001b[1;33m\u001b[0m\u001b[0m\n\u001b[1;32m   1994\u001b[0m     \u001b[1;32mdef\u001b[0m \u001b[0m_getitem_column\u001b[0m\u001b[1;33m(\u001b[0m\u001b[0mself\u001b[0m\u001b[1;33m,\u001b[0m \u001b[0mkey\u001b[0m\u001b[1;33m)\u001b[0m\u001b[1;33m:\u001b[0m\u001b[1;33m\u001b[0m\u001b[0m\n",
      "\u001b[0;32mC:\\Anaconda3\\lib\\site-packages\\pandas\\core\\frame.py\u001b[0m in \u001b[0;36m_getitem_column\u001b[0;34m(self, key)\u001b[0m\n\u001b[1;32m   1997\u001b[0m         \u001b[1;31m# get column\u001b[0m\u001b[1;33m\u001b[0m\u001b[1;33m\u001b[0m\u001b[0m\n\u001b[1;32m   1998\u001b[0m         \u001b[1;32mif\u001b[0m \u001b[0mself\u001b[0m\u001b[1;33m.\u001b[0m\u001b[0mcolumns\u001b[0m\u001b[1;33m.\u001b[0m\u001b[0mis_unique\u001b[0m\u001b[1;33m:\u001b[0m\u001b[1;33m\u001b[0m\u001b[0m\n\u001b[0;32m-> 1999\u001b[0;31m             \u001b[1;32mreturn\u001b[0m \u001b[0mself\u001b[0m\u001b[1;33m.\u001b[0m\u001b[0m_get_item_cache\u001b[0m\u001b[1;33m(\u001b[0m\u001b[0mkey\u001b[0m\u001b[1;33m)\u001b[0m\u001b[1;33m\u001b[0m\u001b[0m\n\u001b[0m\u001b[1;32m   2000\u001b[0m \u001b[1;33m\u001b[0m\u001b[0m\n\u001b[1;32m   2001\u001b[0m         \u001b[1;31m# duplicate columns & possible reduce dimensionality\u001b[0m\u001b[1;33m\u001b[0m\u001b[1;33m\u001b[0m\u001b[0m\n",
      "\u001b[0;32mC:\\Anaconda3\\lib\\site-packages\\pandas\\core\\generic.py\u001b[0m in \u001b[0;36m_get_item_cache\u001b[0;34m(self, item)\u001b[0m\n\u001b[1;32m   1343\u001b[0m         \u001b[0mres\u001b[0m \u001b[1;33m=\u001b[0m \u001b[0mcache\u001b[0m\u001b[1;33m.\u001b[0m\u001b[0mget\u001b[0m\u001b[1;33m(\u001b[0m\u001b[0mitem\u001b[0m\u001b[1;33m)\u001b[0m\u001b[1;33m\u001b[0m\u001b[0m\n\u001b[1;32m   1344\u001b[0m         \u001b[1;32mif\u001b[0m \u001b[0mres\u001b[0m \u001b[1;32mis\u001b[0m \u001b[1;32mNone\u001b[0m\u001b[1;33m:\u001b[0m\u001b[1;33m\u001b[0m\u001b[0m\n\u001b[0;32m-> 1345\u001b[0;31m             \u001b[0mvalues\u001b[0m \u001b[1;33m=\u001b[0m \u001b[0mself\u001b[0m\u001b[1;33m.\u001b[0m\u001b[0m_data\u001b[0m\u001b[1;33m.\u001b[0m\u001b[0mget\u001b[0m\u001b[1;33m(\u001b[0m\u001b[0mitem\u001b[0m\u001b[1;33m)\u001b[0m\u001b[1;33m\u001b[0m\u001b[0m\n\u001b[0m\u001b[1;32m   1346\u001b[0m             \u001b[0mres\u001b[0m \u001b[1;33m=\u001b[0m \u001b[0mself\u001b[0m\u001b[1;33m.\u001b[0m\u001b[0m_box_item_values\u001b[0m\u001b[1;33m(\u001b[0m\u001b[0mitem\u001b[0m\u001b[1;33m,\u001b[0m \u001b[0mvalues\u001b[0m\u001b[1;33m)\u001b[0m\u001b[1;33m\u001b[0m\u001b[0m\n\u001b[1;32m   1347\u001b[0m             \u001b[0mcache\u001b[0m\u001b[1;33m[\u001b[0m\u001b[0mitem\u001b[0m\u001b[1;33m]\u001b[0m \u001b[1;33m=\u001b[0m \u001b[0mres\u001b[0m\u001b[1;33m\u001b[0m\u001b[0m\n",
      "\u001b[0;32mC:\\Anaconda3\\lib\\site-packages\\pandas\\core\\internals.py\u001b[0m in \u001b[0;36mget\u001b[0;34m(self, item, fastpath)\u001b[0m\n\u001b[1;32m   3223\u001b[0m \u001b[1;33m\u001b[0m\u001b[0m\n\u001b[1;32m   3224\u001b[0m             \u001b[1;32mif\u001b[0m \u001b[1;32mnot\u001b[0m \u001b[0misnull\u001b[0m\u001b[1;33m(\u001b[0m\u001b[0mitem\u001b[0m\u001b[1;33m)\u001b[0m\u001b[1;33m:\u001b[0m\u001b[1;33m\u001b[0m\u001b[0m\n\u001b[0;32m-> 3225\u001b[0;31m                 \u001b[0mloc\u001b[0m \u001b[1;33m=\u001b[0m \u001b[0mself\u001b[0m\u001b[1;33m.\u001b[0m\u001b[0mitems\u001b[0m\u001b[1;33m.\u001b[0m\u001b[0mget_loc\u001b[0m\u001b[1;33m(\u001b[0m\u001b[0mitem\u001b[0m\u001b[1;33m)\u001b[0m\u001b[1;33m\u001b[0m\u001b[0m\n\u001b[0m\u001b[1;32m   3226\u001b[0m             \u001b[1;32melse\u001b[0m\u001b[1;33m:\u001b[0m\u001b[1;33m\u001b[0m\u001b[0m\n\u001b[1;32m   3227\u001b[0m                 \u001b[0mindexer\u001b[0m \u001b[1;33m=\u001b[0m \u001b[0mnp\u001b[0m\u001b[1;33m.\u001b[0m\u001b[0marange\u001b[0m\u001b[1;33m(\u001b[0m\u001b[0mlen\u001b[0m\u001b[1;33m(\u001b[0m\u001b[0mself\u001b[0m\u001b[1;33m.\u001b[0m\u001b[0mitems\u001b[0m\u001b[1;33m)\u001b[0m\u001b[1;33m)\u001b[0m\u001b[1;33m[\u001b[0m\u001b[0misnull\u001b[0m\u001b[1;33m(\u001b[0m\u001b[0mself\u001b[0m\u001b[1;33m.\u001b[0m\u001b[0mitems\u001b[0m\u001b[1;33m)\u001b[0m\u001b[1;33m]\u001b[0m\u001b[1;33m\u001b[0m\u001b[0m\n",
      "\u001b[0;32mC:\\Anaconda3\\lib\\site-packages\\pandas\\indexes\\base.py\u001b[0m in \u001b[0;36mget_loc\u001b[0;34m(self, key, method, tolerance)\u001b[0m\n\u001b[1;32m   1876\u001b[0m                 \u001b[1;32mreturn\u001b[0m \u001b[0mself\u001b[0m\u001b[1;33m.\u001b[0m\u001b[0m_engine\u001b[0m\u001b[1;33m.\u001b[0m\u001b[0mget_loc\u001b[0m\u001b[1;33m(\u001b[0m\u001b[0mkey\u001b[0m\u001b[1;33m)\u001b[0m\u001b[1;33m\u001b[0m\u001b[0m\n\u001b[1;32m   1877\u001b[0m             \u001b[1;32mexcept\u001b[0m \u001b[0mKeyError\u001b[0m\u001b[1;33m:\u001b[0m\u001b[1;33m\u001b[0m\u001b[0m\n\u001b[0;32m-> 1878\u001b[0;31m                 \u001b[1;32mreturn\u001b[0m \u001b[0mself\u001b[0m\u001b[1;33m.\u001b[0m\u001b[0m_engine\u001b[0m\u001b[1;33m.\u001b[0m\u001b[0mget_loc\u001b[0m\u001b[1;33m(\u001b[0m\u001b[0mself\u001b[0m\u001b[1;33m.\u001b[0m\u001b[0m_maybe_cast_indexer\u001b[0m\u001b[1;33m(\u001b[0m\u001b[0mkey\u001b[0m\u001b[1;33m)\u001b[0m\u001b[1;33m)\u001b[0m\u001b[1;33m\u001b[0m\u001b[0m\n\u001b[0m\u001b[1;32m   1879\u001b[0m \u001b[1;33m\u001b[0m\u001b[0m\n\u001b[1;32m   1880\u001b[0m         \u001b[0mindexer\u001b[0m \u001b[1;33m=\u001b[0m \u001b[0mself\u001b[0m\u001b[1;33m.\u001b[0m\u001b[0mget_indexer\u001b[0m\u001b[1;33m(\u001b[0m\u001b[1;33m[\u001b[0m\u001b[0mkey\u001b[0m\u001b[1;33m]\u001b[0m\u001b[1;33m,\u001b[0m \u001b[0mmethod\u001b[0m\u001b[1;33m=\u001b[0m\u001b[0mmethod\u001b[0m\u001b[1;33m,\u001b[0m \u001b[0mtolerance\u001b[0m\u001b[1;33m=\u001b[0m\u001b[0mtolerance\u001b[0m\u001b[1;33m)\u001b[0m\u001b[1;33m\u001b[0m\u001b[0m\n",
      "\u001b[0;32mpandas\\index.pyx\u001b[0m in \u001b[0;36mpandas.index.IndexEngine.get_loc (pandas\\index.c:4027)\u001b[0;34m()\u001b[0m\n",
      "\u001b[0;32mpandas\\index.pyx\u001b[0m in \u001b[0;36mpandas.index.IndexEngine.get_loc (pandas\\index.c:3891)\u001b[0;34m()\u001b[0m\n",
      "\u001b[0;32mpandas\\hashtable.pyx\u001b[0m in \u001b[0;36mpandas.hashtable.PyObjectHashTable.get_item (pandas\\hashtable.c:12408)\u001b[0;34m()\u001b[0m\n",
      "\u001b[0;32mpandas\\hashtable.pyx\u001b[0m in \u001b[0;36mpandas.hashtable.PyObjectHashTable.get_item (pandas\\hashtable.c:12359)\u001b[0;34m()\u001b[0m\n",
      "\u001b[0;31mKeyError\u001b[0m: ('Virkemiddelkode', 'Tjenestetype')"
     ]
    }
   ],
   "source": [
    "in_kode['Virkemiddelkode','Tjenestetype'].groupby(['Virkemiddelkode'])"
   ]
  },
  {
   "cell_type": "code",
   "execution_count": 8,
   "metadata": {
    "collapsed": true
   },
   "outputs": [],
   "source": [
    "in_data = pd.merge(in_data, in_kode, how='left', on='Virkemiddelkode')"
   ]
  },
  {
   "cell_type": "code",
   "execution_count": 9,
   "metadata": {},
   "outputs": [
    {
     "data": {
      "text/html": [
       "<div>\n",
       "<table border=\"1\" class=\"dataframe\">\n",
       "  <thead>\n",
       "    <tr style=\"text-align: right;\">\n",
       "      <th></th>\n",
       "      <th>Year</th>\n",
       "      <th>Organisasjonsnummer</th>\n",
       "      <th>Prosjekt kundenavn</th>\n",
       "      <th>Saknummer</th>\n",
       "      <th>Virkemiddelkode</th>\n",
       "      <th>Beløp</th>\n",
       "      <th>Tjenestetype</th>\n",
       "      <th>Tjenestekode</th>\n",
       "      <th>Virkemiddelgruppe</th>\n",
       "      <th>Behov</th>\n",
       "      <th>Tjeneste - NY</th>\n",
       "      <th>Leveransetype - NY</th>\n",
       "      <th>Budsjettpost</th>\n",
       "      <th>Myndighet</th>\n",
       "    </tr>\n",
       "  </thead>\n",
       "  <tbody>\n",
       "    <tr>\n",
       "      <th>0</th>\n",
       "      <td>2012</td>\n",
       "      <td>00005001512</td>\n",
       "      <td>IN Møre og Romsdal</td>\n",
       "      <td>2011/102608</td>\n",
       "      <td>703 - Bedriftsutviklingstilskudd</td>\n",
       "      <td>67200.0</td>\n",
       "      <td>Finansieringstjenester</td>\n",
       "      <td>TF-054 - Tilskudd</td>\n",
       "      <td>Bedriftsutviklingstilskudd</td>\n",
       "      <td>Finansiere innovasjon og annen bedriftsutvikling</td>\n",
       "      <td>Investeringsstøtte</td>\n",
       "      <td>Tilskudd</td>\n",
       "      <td>KMD 551.60 Tilskudd til fylkeskommuner for reg...</td>\n",
       "      <td>KMD</td>\n",
       "    </tr>\n",
       "  </tbody>\n",
       "</table>\n",
       "</div>"
      ],
      "text/plain": [
       "   Year Organisasjonsnummer  Prosjekt kundenavn    Saknummer  \\\n",
       "0  2012         00005001512  IN Møre og Romsdal  2011/102608   \n",
       "\n",
       "                    Virkemiddelkode    Beløp            Tjenestetype  \\\n",
       "0  703 - Bedriftsutviklingstilskudd  67200.0  Finansieringstjenester   \n",
       "\n",
       "        Tjenestekode           Virkemiddelgruppe  \\\n",
       "0  TF-054 - Tilskudd  Bedriftsutviklingstilskudd   \n",
       "\n",
       "                                              Behov       Tjeneste - NY  \\\n",
       "0  Finansiere innovasjon og annen bedriftsutvikling  Investeringsstøtte   \n",
       "\n",
       "  Leveransetype - NY                                       Budsjettpost  \\\n",
       "0           Tilskudd  KMD 551.60 Tilskudd til fylkeskommuner for reg...   \n",
       "\n",
       "  Myndighet  \n",
       "0       KMD  "
      ]
     },
     "execution_count": 9,
     "metadata": {},
     "output_type": "execute_result"
    }
   ],
   "source": [
    "in_data.head(1)"
   ]
  },
  {
   "cell_type": "code",
   "execution_count": 10,
   "metadata": {
    "collapsed": true
   },
   "outputs": [],
   "source": [
    "in_data.to_sql('in', disk_engine, if_exists='replace')"
   ]
  },
  {
   "cell_type": "markdown",
   "metadata": {},
   "source": [
    "# Eniro"
   ]
  },
  {
   "cell_type": "code",
   "execution_count": 11,
   "metadata": {
    "collapsed": true
   },
   "outputs": [],
   "source": [
    "datafil = r'C:\\Data\\Eniro\\NFR_LEV_170203\\SelskaperMedRegnskap_030217.txt'"
   ]
  },
  {
   "cell_type": "code",
   "execution_count": 12,
   "metadata": {},
   "outputs": [
    {
     "data": {
      "text/html": [
       "<div>\n",
       "<table border=\"1\" class=\"dataframe\">\n",
       "  <thead>\n",
       "    <tr style=\"text-align: right;\">\n",
       "      <th></th>\n",
       "      <th>﻿orgnr</th>\n",
       "      <th>BEDRIFTSNR</th>\n",
       "      <th>Juridisk selskapsnavn</th>\n",
       "      <th>orgform</th>\n",
       "      <th>organisasjonsform</th>\n",
       "      <th>Status</th>\n",
       "      <th>Foretakets markedsnavn</th>\n",
       "      <th>Tidligere Foretaksnavn</th>\n",
       "      <th>fadresse</th>\n",
       "      <th>fpostnr</th>\n",
       "      <th>...</th>\n",
       "      <th>INGEN_DRIFT</th>\n",
       "      <th>UNDER_AVVIKLING</th>\n",
       "      <th>AVVIKENDE_REGNSKAPSAAR</th>\n",
       "      <th>EK_MINDRE_ENN_50_AV_AK</th>\n",
       "      <th>EGENKAPITALEN_ER_TAPT</th>\n",
       "      <th>AKSJEKAPITALEN_ER_TAPT</th>\n",
       "      <th>Revisor_orgnr</th>\n",
       "      <th>Revisor_Navn</th>\n",
       "      <th>Revisor_Postnr</th>\n",
       "      <th>Revisor_Poststed</th>\n",
       "    </tr>\n",
       "  </thead>\n",
       "  <tbody>\n",
       "    <tr>\n",
       "      <th>0</th>\n",
       "      <td>810006862</td>\n",
       "      <td>NaN</td>\n",
       "      <td>WMF AS</td>\n",
       "      <td>AS</td>\n",
       "      <td>Aksjeselskap</td>\n",
       "      <td>Oppløst</td>\n",
       "      <td>WMF AS</td>\n",
       "      <td>WILHELMSEN MARINE FUELS AS</td>\n",
       "      <td>Strandveien 20</td>\n",
       "      <td>1366</td>\n",
       "      <td>...</td>\n",
       "      <td>0</td>\n",
       "      <td>0</td>\n",
       "      <td>0</td>\n",
       "      <td>0</td>\n",
       "      <td>0</td>\n",
       "      <td>0</td>\n",
       "      <td>933922847</td>\n",
       "      <td>PRICEWATERHOUSECOOPERS DA</td>\n",
       "      <td>278</td>\n",
       "      <td>OSLO</td>\n",
       "    </tr>\n",
       "  </tbody>\n",
       "</table>\n",
       "<p>1 rows × 60 columns</p>\n",
       "</div>"
      ],
      "text/plain": [
       "      ﻿orgnr  BEDRIFTSNR Juridisk selskapsnavn orgform organisasjonsform  \\\n",
       "0  810006862         NaN                WMF AS      AS      Aksjeselskap   \n",
       "\n",
       "    Status Foretakets markedsnavn      Tidligere Foretaksnavn        fadresse  \\\n",
       "0  Oppløst                 WMF AS  WILHELMSEN MARINE FUELS AS  Strandveien 20   \n",
       "\n",
       "   fpostnr        ...        INGEN_DRIFT UNDER_AVVIKLING  \\\n",
       "0     1366        ...                  0               0   \n",
       "\n",
       "  AVVIKENDE_REGNSKAPSAAR EK_MINDRE_ENN_50_AV_AK  EGENKAPITALEN_ER_TAPT  \\\n",
       "0                      0                      0                      0   \n",
       "\n",
       "  AKSJEKAPITALEN_ER_TAPT  Revisor_orgnr               Revisor_Navn  \\\n",
       "0                      0      933922847  PRICEWATERHOUSECOOPERS DA   \n",
       "\n",
       "   Revisor_Postnr  Revisor_Poststed  \n",
       "0             278              OSLO  \n",
       "\n",
       "[1 rows x 60 columns]"
      ]
     },
     "execution_count": 12,
     "metadata": {},
     "output_type": "execute_result"
    }
   ],
   "source": [
    "pd.read_csv(datafil, nrows=1, sep='\\t', encoding='utf-8')"
   ]
  },
  {
   "cell_type": "code",
   "execution_count": 13,
   "metadata": {
    "collapsed": true
   },
   "outputs": [],
   "source": [
    "def toSqlLite(file, table):\n",
    "    start = dt.datetime.now()\n",
    "    chunksize = 20000\n",
    "    j = 0\n",
    "    index_start = 1\n",
    "\n",
    "    #disk_engine.execute('DROP TABLE ' + table)\n",
    "\n",
    "    # obs!! dropper linjer med feil (error_bad_lines=False)\n",
    "    for df in pd.read_csv(file, sep='\\t', \n",
    "                          encoding='utf-8',\\\n",
    "                          #names=oppsett.columns,\\\n",
    "                          chunksize=chunksize, \n",
    "                          iterator=True,\\\n",
    "                          error_bad_lines=False,\n",
    "                          low_memory=False):\n",
    "\n",
    "        df = df.rename(columns={c: c.replace(' ', '_') for c in df.columns}) # Remove spaces from columns\n",
    "        df = df.rename(columns={c: c.replace('﻿', '') for c in df.columns}) # Remove spaces from columns\n",
    "\n",
    "        df.index += index_start\n",
    "\n",
    "        j+=1\n",
    "        print('{} seconds: completed {} rows'.format((dt.datetime.now() - start).seconds, j*chunksize))\n",
    "\n",
    "        df.to_sql(table, disk_engine, if_exists='append')\n",
    "        index_start = df.index[-1] + 1"
   ]
  },
  {
   "cell_type": "code",
   "execution_count": 14,
   "metadata": {},
   "outputs": [
    {
     "name": "stdout",
     "output_type": "stream",
     "text": [
      "0 seconds: completed 20000 rows\n",
      "2 seconds: completed 40000 rows\n",
      "5 seconds: completed 60000 rows\n",
      "7 seconds: completed 80000 rows\n",
      "9 seconds: completed 100000 rows\n",
      "12 seconds: completed 120000 rows\n",
      "14 seconds: completed 140000 rows\n",
      "17 seconds: completed 160000 rows\n",
      "19 seconds: completed 180000 rows\n",
      "21 seconds: completed 200000 rows\n",
      "24 seconds: completed 220000 rows\n",
      "26 seconds: completed 240000 rows\n",
      "28 seconds: completed 260000 rows\n",
      "30 seconds: completed 280000 rows\n",
      "33 seconds: completed 300000 rows\n",
      "36 seconds: completed 320000 rows\n",
      "38 seconds: completed 340000 rows\n",
      "41 seconds: completed 360000 rows\n",
      "44 seconds: completed 380000 rows\n",
      "46 seconds: completed 400000 rows\n",
      "49 seconds: completed 420000 rows\n",
      "51 seconds: completed 440000 rows\n",
      "53 seconds: completed 460000 rows\n",
      "56 seconds: completed 480000 rows\n",
      "58 seconds: completed 500000 rows\n",
      "60 seconds: completed 520000 rows\n",
      "63 seconds: completed 540000 rows\n",
      "65 seconds: completed 560000 rows\n",
      "68 seconds: completed 580000 rows\n",
      "70 seconds: completed 600000 rows\n",
      "73 seconds: completed 620000 rows\n",
      "76 seconds: completed 640000 rows\n",
      "79 seconds: completed 660000 rows\n",
      "81 seconds: completed 680000 rows\n",
      "84 seconds: completed 700000 rows\n",
      "87 seconds: completed 720000 rows\n",
      "89 seconds: completed 740000 rows\n",
      "91 seconds: completed 760000 rows\n",
      "93 seconds: completed 780000 rows\n",
      "96 seconds: completed 800000 rows\n",
      "98 seconds: completed 820000 rows\n",
      "101 seconds: completed 840000 rows\n",
      "104 seconds: completed 860000 rows\n",
      "107 seconds: completed 880000 rows\n",
      "109 seconds: completed 900000 rows\n",
      "112 seconds: completed 920000 rows\n",
      "114 seconds: completed 940000 rows\n",
      "116 seconds: completed 960000 rows\n",
      "119 seconds: completed 980000 rows\n",
      "121 seconds: completed 1000000 rows\n",
      "124 seconds: completed 1020000 rows\n",
      "126 seconds: completed 1040000 rows\n",
      "129 seconds: completed 1060000 rows\n",
      "132 seconds: completed 1080000 rows\n",
      "135 seconds: completed 1100000 rows\n",
      "137 seconds: completed 1120000 rows\n",
      "140 seconds: completed 1140000 rows\n",
      "143 seconds: completed 1160000 rows\n",
      "145 seconds: completed 1180000 rows\n",
      "148 seconds: completed 1200000 rows\n",
      "150 seconds: completed 1220000 rows\n",
      "153 seconds: completed 1240000 rows\n",
      "155 seconds: completed 1260000 rows\n",
      "158 seconds: completed 1280000 rows\n",
      "160 seconds: completed 1300000 rows\n",
      "163 seconds: completed 1320000 rows\n",
      "165 seconds: completed 1340000 rows\n",
      "168 seconds: completed 1360000 rows\n",
      "171 seconds: completed 1380000 rows\n",
      "173 seconds: completed 1400000 rows\n",
      "176 seconds: completed 1420000 rows\n",
      "179 seconds: completed 1440000 rows\n",
      "181 seconds: completed 1460000 rows\n",
      "183 seconds: completed 1480000 rows\n",
      "186 seconds: completed 1500000 rows\n",
      "188 seconds: completed 1520000 rows\n",
      "191 seconds: completed 1540000 rows\n",
      "194 seconds: completed 1560000 rows\n",
      "197 seconds: completed 1580000 rows\n",
      "199 seconds: completed 1600000 rows\n",
      "202 seconds: completed 1620000 rows\n",
      "205 seconds: completed 1640000 rows\n",
      "207 seconds: completed 1660000 rows\n",
      "210 seconds: completed 1680000 rows\n",
      "212 seconds: completed 1700000 rows\n",
      "214 seconds: completed 1720000 rows\n",
      "217 seconds: completed 1740000 rows\n",
      "219 seconds: completed 1760000 rows\n",
      "222 seconds: completed 1780000 rows\n",
      "225 seconds: completed 1800000 rows\n",
      "227 seconds: completed 1820000 rows\n",
      "230 seconds: completed 1840000 rows\n",
      "233 seconds: completed 1860000 rows\n",
      "236 seconds: completed 1880000 rows\n",
      "238 seconds: completed 1900000 rows\n",
      "241 seconds: completed 1920000 rows\n",
      "244 seconds: completed 1940000 rows\n",
      "246 seconds: completed 1960000 rows\n",
      "249 seconds: completed 1980000 rows\n",
      "251 seconds: completed 2000000 rows\n",
      "254 seconds: completed 2020000 rows\n",
      "256 seconds: completed 2040000 rows\n",
      "259 seconds: completed 2060000 rows\n",
      "262 seconds: completed 2080000 rows\n",
      "264 seconds: completed 2100000 rows\n",
      "267 seconds: completed 2120000 rows\n",
      "269 seconds: completed 2140000 rows\n",
      "271 seconds: completed 2160000 rows\n",
      "274 seconds: completed 2180000 rows\n",
      "276 seconds: completed 2200000 rows\n",
      "279 seconds: completed 2220000 rows\n",
      "281 seconds: completed 2240000 rows\n",
      "284 seconds: completed 2260000 rows\n",
      "286 seconds: completed 2280000 rows\n",
      "288 seconds: completed 2300000 rows\n",
      "291 seconds: completed 2320000 rows\n",
      "293 seconds: completed 2340000 rows\n",
      "296 seconds: completed 2360000 rows\n",
      "298 seconds: completed 2380000 rows\n",
      "301 seconds: completed 2400000 rows\n",
      "303 seconds: completed 2420000 rows\n",
      "306 seconds: completed 2440000 rows\n",
      "308 seconds: completed 2460000 rows\n",
      "311 seconds: completed 2480000 rows\n",
      "314 seconds: completed 2500000 rows\n",
      "317 seconds: completed 2520000 rows\n",
      "319 seconds: completed 2540000 rows\n",
      "322 seconds: completed 2560000 rows\n",
      "325 seconds: completed 2580000 rows\n",
      "327 seconds: completed 2600000 rows\n",
      "330 seconds: completed 2620000 rows\n",
      "332 seconds: completed 2640000 rows\n",
      "334 seconds: completed 2660000 rows\n",
      "337 seconds: completed 2680000 rows\n",
      "340 seconds: completed 2700000 rows\n",
      "342 seconds: completed 2720000 rows\n",
      "345 seconds: completed 2740000 rows\n",
      "348 seconds: completed 2760000 rows\n",
      "350 seconds: completed 2780000 rows\n",
      "353 seconds: completed 2800000 rows\n",
      "355 seconds: completed 2820000 rows\n",
      "358 seconds: completed 2840000 rows\n",
      "360 seconds: completed 2860000 rows\n",
      "363 seconds: completed 2880000 rows\n",
      "366 seconds: completed 2900000 rows\n",
      "368 seconds: completed 2920000 rows\n",
      "371 seconds: completed 2940000 rows\n",
      "374 seconds: completed 2960000 rows\n",
      "376 seconds: completed 2980000 rows\n",
      "379 seconds: completed 3000000 rows\n",
      "382 seconds: completed 3020000 rows\n",
      "384 seconds: completed 3040000 rows\n",
      "386 seconds: completed 3060000 rows\n",
      "389 seconds: completed 3080000 rows\n",
      "391 seconds: completed 3100000 rows\n",
      "394 seconds: completed 3120000 rows\n",
      "396 seconds: completed 3140000 rows\n",
      "399 seconds: completed 3160000 rows\n",
      "402 seconds: completed 3180000 rows\n",
      "405 seconds: completed 3200000 rows\n",
      "408 seconds: completed 3220000 rows\n",
      "410 seconds: completed 3240000 rows\n",
      "413 seconds: completed 3260000 rows\n",
      "416 seconds: completed 3280000 rows\n",
      "418 seconds: completed 3300000 rows\n",
      "421 seconds: completed 3320000 rows\n",
      "423 seconds: completed 3340000 rows\n",
      "425 seconds: completed 3360000 rows\n",
      "428 seconds: completed 3380000 rows\n",
      "430 seconds: completed 3400000 rows\n",
      "433 seconds: completed 3420000 rows\n",
      "436 seconds: completed 3440000 rows\n",
      "438 seconds: completed 3460000 rows\n",
      "441 seconds: completed 3480000 rows\n",
      "443 seconds: completed 3500000 rows\n",
      "446 seconds: completed 3520000 rows\n",
      "448 seconds: completed 3540000 rows\n",
      "451 seconds: completed 3560000 rows\n",
      "453 seconds: completed 3580000 rows\n",
      "455 seconds: completed 3600000 rows\n",
      "457 seconds: completed 3620000 rows\n",
      "459 seconds: completed 3640000 rows\n",
      "462 seconds: completed 3660000 rows\n",
      "465 seconds: completed 3680000 rows\n",
      "467 seconds: completed 3700000 rows\n",
      "469 seconds: completed 3720000 rows\n",
      "471 seconds: completed 3740000 rows\n",
      "473 seconds: completed 3760000 rows\n",
      "476 seconds: completed 3780000 rows\n",
      "478 seconds: completed 3800000 rows\n",
      "480 seconds: completed 3820000 rows\n",
      "483 seconds: completed 3840000 rows\n",
      "485 seconds: completed 3860000 rows\n",
      "488 seconds: completed 3880000 rows\n",
      "490 seconds: completed 3900000 rows\n",
      "492 seconds: completed 3920000 rows\n",
      "495 seconds: completed 3940000 rows\n",
      "497 seconds: completed 3960000 rows\n",
      "499 seconds: completed 3980000 rows\n",
      "501 seconds: completed 4000000 rows\n",
      "504 seconds: completed 4020000 rows\n",
      "506 seconds: completed 4040000 rows\n",
      "509 seconds: completed 4060000 rows\n",
      "511 seconds: completed 4080000 rows\n",
      "514 seconds: completed 4100000 rows\n",
      "516 seconds: completed 4120000 rows\n",
      "518 seconds: completed 4140000 rows\n",
      "521 seconds: completed 4160000 rows\n",
      "523 seconds: completed 4180000 rows\n",
      "525 seconds: completed 4200000 rows\n",
      "527 seconds: completed 4220000 rows\n",
      "530 seconds: completed 4240000 rows\n",
      "532 seconds: completed 4260000 rows\n"
     ]
    }
   ],
   "source": [
    "toSqlLite(r'C:\\Data\\Eniro\\NFR_LEV_170203\\SelskaperMedRegnskap_030217.txt', 'med')"
   ]
  },
  {
   "cell_type": "code",
   "execution_count": 15,
   "metadata": {},
   "outputs": [
    {
     "name": "stdout",
     "output_type": "stream",
     "text": [
      "0 seconds: completed 20000 rows\n",
      "2 seconds: completed 40000 rows\n",
      "5 seconds: completed 60000 rows\n",
      "7 seconds: completed 80000 rows\n",
      "9 seconds: completed 100000 rows\n",
      "12 seconds: completed 120000 rows\n",
      "14 seconds: completed 140000 rows\n",
      "17 seconds: completed 160000 rows\n",
      "19 seconds: completed 180000 rows\n",
      "21 seconds: completed 200000 rows\n",
      "23 seconds: completed 220000 rows\n",
      "26 seconds: completed 240000 rows\n",
      "28 seconds: completed 260000 rows\n",
      "30 seconds: completed 280000 rows\n",
      "33 seconds: completed 300000 rows\n",
      "35 seconds: completed 320000 rows\n",
      "37 seconds: completed 340000 rows\n",
      "40 seconds: completed 360000 rows\n",
      "42 seconds: completed 380000 rows\n",
      "44 seconds: completed 400000 rows\n",
      "47 seconds: completed 420000 rows\n",
      "49 seconds: completed 440000 rows\n",
      "52 seconds: completed 460000 rows\n",
      "54 seconds: completed 480000 rows\n",
      "56 seconds: completed 500000 rows\n",
      "59 seconds: completed 520000 rows\n",
      "61 seconds: completed 540000 rows\n",
      "63 seconds: completed 560000 rows\n",
      "66 seconds: completed 580000 rows\n",
      "68 seconds: completed 600000 rows\n",
      "70 seconds: completed 620000 rows\n",
      "72 seconds: completed 640000 rows\n",
      "74 seconds: completed 660000 rows\n",
      "77 seconds: completed 680000 rows\n",
      "79 seconds: completed 700000 rows\n",
      "81 seconds: completed 720000 rows\n",
      "83 seconds: completed 740000 rows\n",
      "85 seconds: completed 760000 rows\n",
      "88 seconds: completed 780000 rows\n",
      "90 seconds: completed 800000 rows\n",
      "92 seconds: completed 820000 rows\n",
      "95 seconds: completed 840000 rows\n",
      "97 seconds: completed 860000 rows\n",
      "100 seconds: completed 880000 rows\n",
      "102 seconds: completed 900000 rows\n",
      "105 seconds: completed 920000 rows\n",
      "107 seconds: completed 940000 rows\n",
      "109 seconds: completed 960000 rows\n",
      "112 seconds: completed 980000 rows\n",
      "114 seconds: completed 1000000 rows\n",
      "116 seconds: completed 1020000 rows\n",
      "119 seconds: completed 1040000 rows\n",
      "121 seconds: completed 1060000 rows\n",
      "123 seconds: completed 1080000 rows\n",
      "126 seconds: completed 1100000 rows\n",
      "128 seconds: completed 1120000 rows\n",
      "130 seconds: completed 1140000 rows\n",
      "132 seconds: completed 1160000 rows\n",
      "135 seconds: completed 1180000 rows\n",
      "137 seconds: completed 1200000 rows\n",
      "139 seconds: completed 1220000 rows\n",
      "142 seconds: completed 1240000 rows\n",
      "144 seconds: completed 1260000 rows\n",
      "146 seconds: completed 1280000 rows\n",
      "148 seconds: completed 1300000 rows\n",
      "151 seconds: completed 1320000 rows\n",
      "153 seconds: completed 1340000 rows\n",
      "155 seconds: completed 1360000 rows\n",
      "158 seconds: completed 1380000 rows\n",
      "160 seconds: completed 1400000 rows\n",
      "162 seconds: completed 1420000 rows\n",
      "165 seconds: completed 1440000 rows\n",
      "167 seconds: completed 1460000 rows\n",
      "169 seconds: completed 1480000 rows\n",
      "172 seconds: completed 1500000 rows\n",
      "174 seconds: completed 1520000 rows\n",
      "177 seconds: completed 1540000 rows\n",
      "179 seconds: completed 1560000 rows\n",
      "181 seconds: completed 1580000 rows\n",
      "184 seconds: completed 1600000 rows\n",
      "186 seconds: completed 1620000 rows\n",
      "188 seconds: completed 1640000 rows\n",
      "191 seconds: completed 1660000 rows\n",
      "193 seconds: completed 1680000 rows\n",
      "195 seconds: completed 1700000 rows\n",
      "198 seconds: completed 1720000 rows\n",
      "200 seconds: completed 1740000 rows\n",
      "203 seconds: completed 1760000 rows\n",
      "205 seconds: completed 1780000 rows\n",
      "207 seconds: completed 1800000 rows\n",
      "210 seconds: completed 1820000 rows\n",
      "212 seconds: completed 1840000 rows\n",
      "214 seconds: completed 1860000 rows\n",
      "216 seconds: completed 1880000 rows\n",
      "219 seconds: completed 1900000 rows\n",
      "221 seconds: completed 1920000 rows\n",
      "223 seconds: completed 1940000 rows\n",
      "226 seconds: completed 1960000 rows\n",
      "228 seconds: completed 1980000 rows\n",
      "230 seconds: completed 2000000 rows\n",
      "233 seconds: completed 2020000 rows\n",
      "235 seconds: completed 2040000 rows\n",
      "237 seconds: completed 2060000 rows\n",
      "240 seconds: completed 2080000 rows\n",
      "242 seconds: completed 2100000 rows\n"
     ]
    }
   ],
   "source": [
    "toSqlLite(r'C:\\Data\\Eniro\\NFR_LEV_170203\\SelskaperUtenRegnskap_030217.txt', 'uten')"
   ]
  },
  {
   "cell_type": "code",
   "execution_count": 16,
   "metadata": {},
   "outputs": [
    {
     "data": {
      "text/html": [
       "<div>\n",
       "<table border=\"1\" class=\"dataframe\">\n",
       "  <thead>\n",
       "    <tr style=\"text-align: right;\">\n",
       "      <th></th>\n",
       "      <th>index</th>\n",
       "      <th>orgnr</th>\n",
       "      <th>BEDRIFTSNR</th>\n",
       "      <th>Juridisk_selskapsnavn</th>\n",
       "      <th>orgform</th>\n",
       "      <th>organisasjonsform</th>\n",
       "      <th>Status</th>\n",
       "      <th>Foretakets_markedsnavn</th>\n",
       "      <th>Tidligere_Foretaksnavn</th>\n",
       "      <th>fadresse</th>\n",
       "      <th>...</th>\n",
       "      <th>INGEN_DRIFT</th>\n",
       "      <th>UNDER_AVVIKLING</th>\n",
       "      <th>AVVIKENDE_REGNSKAPSAAR</th>\n",
       "      <th>EK_MINDRE_ENN_50_AV_AK</th>\n",
       "      <th>EGENKAPITALEN_ER_TAPT</th>\n",
       "      <th>AKSJEKAPITALEN_ER_TAPT</th>\n",
       "      <th>Revisor_orgnr</th>\n",
       "      <th>Revisor_Navn</th>\n",
       "      <th>Revisor_Postnr</th>\n",
       "      <th>Revisor_Poststed</th>\n",
       "    </tr>\n",
       "  </thead>\n",
       "  <tbody>\n",
       "    <tr>\n",
       "      <th>0</th>\n",
       "      <td>1</td>\n",
       "      <td>810006862</td>\n",
       "      <td>None</td>\n",
       "      <td>WMF AS</td>\n",
       "      <td>AS</td>\n",
       "      <td>Aksjeselskap</td>\n",
       "      <td>Oppløst</td>\n",
       "      <td>WMF AS</td>\n",
       "      <td>WILHELMSEN MARINE FUELS AS</td>\n",
       "      <td>Strandveien 20</td>\n",
       "      <td>...</td>\n",
       "      <td>0.0</td>\n",
       "      <td>0.0</td>\n",
       "      <td>0.0</td>\n",
       "      <td>0.0</td>\n",
       "      <td>0.0</td>\n",
       "      <td>0.0</td>\n",
       "      <td>933922847.0</td>\n",
       "      <td>PRICEWATERHOUSECOOPERS DA</td>\n",
       "      <td>278.0</td>\n",
       "      <td>OSLO</td>\n",
       "    </tr>\n",
       "  </tbody>\n",
       "</table>\n",
       "<p>1 rows × 61 columns</p>\n",
       "</div>"
      ],
      "text/plain": [
       "   index      orgnr BEDRIFTSNR Juridisk_selskapsnavn orgform  \\\n",
       "0      1  810006862       None                WMF AS      AS   \n",
       "\n",
       "  organisasjonsform   Status Foretakets_markedsnavn  \\\n",
       "0      Aksjeselskap  Oppløst                 WMF AS   \n",
       "\n",
       "       Tidligere_Foretaksnavn        fadresse       ...         INGEN_DRIFT  \\\n",
       "0  WILHELMSEN MARINE FUELS AS  Strandveien 20       ...                 0.0   \n",
       "\n",
       "  UNDER_AVVIKLING AVVIKENDE_REGNSKAPSAAR EK_MINDRE_ENN_50_AV_AK  \\\n",
       "0             0.0                    0.0                    0.0   \n",
       "\n",
       "  EGENKAPITALEN_ER_TAPT  AKSJEKAPITALEN_ER_TAPT Revisor_orgnr  \\\n",
       "0                   0.0                     0.0   933922847.0   \n",
       "\n",
       "                Revisor_Navn Revisor_Postnr Revisor_Poststed  \n",
       "0  PRICEWATERHOUSECOOPERS DA          278.0             OSLO  \n",
       "\n",
       "[1 rows x 61 columns]"
      ]
     },
     "execution_count": 16,
     "metadata": {},
     "output_type": "execute_result"
    }
   ],
   "source": [
    "pd.read_sql_query('SELECT * FROM med LIMIT 1', disk_engine)"
   ]
  },
  {
   "cell_type": "code",
   "execution_count": 17,
   "metadata": {},
   "outputs": [
    {
     "data": {
      "text/html": [
       "<div>\n",
       "<table border=\"1\" class=\"dataframe\">\n",
       "  <thead>\n",
       "    <tr style=\"text-align: right;\">\n",
       "      <th></th>\n",
       "      <th>index</th>\n",
       "      <th>orgnr</th>\n",
       "      <th>BEDRIFTSNR</th>\n",
       "      <th>Juridisk_selskapsnavn</th>\n",
       "      <th>orgform</th>\n",
       "      <th>organisasjonsform</th>\n",
       "      <th>Status</th>\n",
       "      <th>Foretakets_markedsnavn</th>\n",
       "      <th>Tidligere_Foretaksnavn</th>\n",
       "      <th>fadresse</th>\n",
       "      <th>...</th>\n",
       "      <th>INGEN_DRIFT</th>\n",
       "      <th>UNDER_AVVIKLING</th>\n",
       "      <th>AVVIKENDE_REGNSKAPSAAR</th>\n",
       "      <th>EK_MINDRE_ENN_50_AV_AK</th>\n",
       "      <th>EGENKAPITALEN_ER_TAPT</th>\n",
       "      <th>AKSJEKAPITALEN_ER_TAPT</th>\n",
       "      <th>Revisor_orgnr</th>\n",
       "      <th>Revisor_Navn</th>\n",
       "      <th>Revisor_Postnr</th>\n",
       "      <th>Revisor_Poststed</th>\n",
       "    </tr>\n",
       "  </thead>\n",
       "  <tbody>\n",
       "    <tr>\n",
       "      <th>0</th>\n",
       "      <td>1</td>\n",
       "      <td>810061642</td>\n",
       "      <td>None</td>\n",
       "      <td>JOHAN AASEN innehaver Kristin Aasen</td>\n",
       "      <td>ENK</td>\n",
       "      <td>Enkeltpersonforetak</td>\n",
       "      <td>Slettet</td>\n",
       "      <td>AASEN JOHAN INNEHAVER KRISTIN AASEN</td>\n",
       "      <td>None</td>\n",
       "      <td>Omveien 18</td>\n",
       "      <td>...</td>\n",
       "      <td>NaN</td>\n",
       "      <td>NaN</td>\n",
       "      <td>NaN</td>\n",
       "      <td>NaN</td>\n",
       "      <td>NaN</td>\n",
       "      <td>NaN</td>\n",
       "      <td>NaN</td>\n",
       "      <td>NaN</td>\n",
       "      <td>NaN</td>\n",
       "      <td>NaN</td>\n",
       "    </tr>\n",
       "  </tbody>\n",
       "</table>\n",
       "<p>1 rows × 61 columns</p>\n",
       "</div>"
      ],
      "text/plain": [
       "   index      orgnr BEDRIFTSNR                Juridisk_selskapsnavn orgform  \\\n",
       "0      1  810061642       None  JOHAN AASEN innehaver Kristin Aasen     ENK   \n",
       "\n",
       "     organisasjonsform   Status               Foretakets_markedsnavn  \\\n",
       "0  Enkeltpersonforetak  Slettet  AASEN JOHAN INNEHAVER KRISTIN AASEN   \n",
       "\n",
       "  Tidligere_Foretaksnavn    fadresse       ...         INGEN_DRIFT  \\\n",
       "0                   None  Omveien 18       ...                 NaN   \n",
       "\n",
       "  UNDER_AVVIKLING AVVIKENDE_REGNSKAPSAAR EK_MINDRE_ENN_50_AV_AK  \\\n",
       "0             NaN                    NaN                    NaN   \n",
       "\n",
       "  EGENKAPITALEN_ER_TAPT  AKSJEKAPITALEN_ER_TAPT Revisor_orgnr Revisor_Navn  \\\n",
       "0                   NaN                     NaN           NaN          NaN   \n",
       "\n",
       "  Revisor_Postnr Revisor_Poststed  \n",
       "0            NaN              NaN  \n",
       "\n",
       "[1 rows x 61 columns]"
      ]
     },
     "execution_count": 17,
     "metadata": {},
     "output_type": "execute_result"
    }
   ],
   "source": [
    "pd.read_sql_query('SELECT * FROM uten LIMIT 1', disk_engine)"
   ]
  },
  {
   "cell_type": "code",
   "execution_count": 19,
   "metadata": {},
   "outputs": [
    {
     "data": {
      "text/plain": [
       "<sqlalchemy.engine.result.ResultProxy at 0x17d8f438>"
      ]
     },
     "execution_count": 19,
     "metadata": {},
     "output_type": "execute_result"
    }
   ],
   "source": [
    "#sql = 'DROP TABLE eniro'\n",
    "#disk_engine.execute(sql)\n",
    "\n",
    "sql = 'CREATE TABLE eniro AS SELECT * FROM med WHERE 0'\n",
    "disk_engine.execute(sql)"
   ]
  },
  {
   "cell_type": "code",
   "execution_count": 20,
   "metadata": {},
   "outputs": [
    {
     "data": {
      "text/plain": [
       "<sqlalchemy.engine.result.ResultProxy at 0x100f7080>"
      ]
     },
     "execution_count": 20,
     "metadata": {},
     "output_type": "execute_result"
    }
   ],
   "source": [
    "sql = 'INSERT INTO eniro SELECT * FROM (SELECT * FROM med UNION ALL SELECT * FROM uten)'\n",
    "disk_engine.execute(sql)"
   ]
  },
  {
   "cell_type": "code",
   "execution_count": 21,
   "metadata": {
    "collapsed": true
   },
   "outputs": [],
   "source": [
    "eniro = pd.read_sql_query('SELECT * FROM eniro LIMIT 5', disk_engine)"
   ]
  },
  {
   "cell_type": "code",
   "execution_count": 22,
   "metadata": {},
   "outputs": [
    {
     "data": {
      "text/plain": [
       "index                        int64\n",
       "orgnr                        int64\n",
       "BEDRIFTSNR                  object\n",
       "Juridisk_selskapsnavn       object\n",
       "orgform                     object\n",
       "organisasjonsform           object\n",
       "Status                      object\n",
       "Foretakets_markedsnavn      object\n",
       "Tidligere_Foretaksnavn      object\n",
       "fadresse                    object\n",
       "fpostnr                    float64\n",
       "fpoststed                   object\n",
       "Kommune                     object\n",
       "Fylke                       object\n",
       "padresse                    object\n",
       "ppostnr                    float64\n",
       "ppoststed                   object\n",
       "konsernspiss_orgnr          object\n",
       "konsernspiss_navn           object\n",
       "datterselskaper             object\n",
       "ORGNRPARENT                 object\n",
       "Underavdelinger             object\n",
       "Aksjeeiere                  object\n",
       "URL                         object\n",
       "EPOST                       object\n",
       "BRANSJEKODE                float64\n",
       "BRANSJE                     object\n",
       "NACE2_SN07                  object\n",
       "NACE3_SN07                  object\n",
       "NACE1_SN02                 float64\n",
       "                            ...   \n",
       "NACE2_SN02                  object\n",
       "NACE3_SN02                  object\n",
       "Gulesider_bransje           object\n",
       "STIFTDATO                   object\n",
       "REGDATO                     object\n",
       "SLETDATO                    object\n",
       "KONKDATO                    object\n",
       "LATITUDE                   float64\n",
       "LONGITUDE                  float64\n",
       "Kunngjøringer               object\n",
       "SEKTOR_2014                 object\n",
       "Regnaar                      int64\n",
       "konsern                    float64\n",
       "Valuta                      object\n",
       "Antall_ansatte             float64\n",
       "Antall_ansatte_konsern      object\n",
       "ANTALL_AARSVERK             object\n",
       "ANTALL_AARSVERK_KONSERN     object\n",
       "Antall_Aksjer              float64\n",
       "23_AKSJEKAPITAL_TAPT       float64\n",
       "INGEN_DRIFT                float64\n",
       "UNDER_AVVIKLING            float64\n",
       "AVVIKENDE_REGNSKAPSAAR     float64\n",
       "EK_MINDRE_ENN_50_AV_AK     float64\n",
       "EGENKAPITALEN_ER_TAPT      float64\n",
       "AKSJEKAPITALEN_ER_TAPT     float64\n",
       "Revisor_orgnr              float64\n",
       "Revisor_Navn                object\n",
       "Revisor_Postnr             float64\n",
       "Revisor_Poststed            object\n",
       "dtype: object"
      ]
     },
     "execution_count": 22,
     "metadata": {},
     "output_type": "execute_result"
    }
   ],
   "source": [
    "eniro.dtypes"
   ]
  },
  {
   "cell_type": "code",
   "execution_count": 23,
   "metadata": {
    "collapsed": true
   },
   "outputs": [],
   "source": [
    "#sql = 'DROP TABLE eniro_siste'\n",
    "#disk_engine.execute(sql)\n"
   ]
  },
  {
   "cell_type": "code",
   "execution_count": 24,
   "metadata": {},
   "outputs": [
    {
     "ename": "OperationalError",
     "evalue": "(sqlite3.OperationalError) no such table: eniro_siste [SQL: '\\n        INSERT INTO eniro_siste\\n        SELECT * FROM \\n        (\\n            SELECT e.* \\n            FROM eniro AS e JOIN \\n            (\\n                SELECT orgnr, MAX(Regnaar) AS Regnaar from eniro GROUP BY orgnr\\n            ) AS f \\n            ON e.Regnaar = f.Regnaar AND e.orgnr = f.orgnr\\n        )\\n    ']",
     "output_type": "error",
     "traceback": [
      "\u001b[0;31m---------------------------------------------------------------------------\u001b[0m",
      "\u001b[0;31mOperationalError\u001b[0m                          Traceback (most recent call last)",
      "\u001b[0;32mC:\\Anaconda3\\lib\\site-packages\\sqlalchemy\\engine\\base.py\u001b[0m in \u001b[0;36m_execute_context\u001b[0;34m(self, dialect, constructor, statement, parameters, *args)\u001b[0m\n\u001b[1;32m   1138\u001b[0m                         \u001b[0mparameters\u001b[0m\u001b[1;33m,\u001b[0m\u001b[1;33m\u001b[0m\u001b[0m\n\u001b[0;32m-> 1139\u001b[0;31m                         context)\n\u001b[0m\u001b[1;32m   1140\u001b[0m         \u001b[1;32mexcept\u001b[0m \u001b[0mException\u001b[0m \u001b[1;32mas\u001b[0m \u001b[0me\u001b[0m\u001b[1;33m:\u001b[0m\u001b[1;33m\u001b[0m\u001b[0m\n",
      "\u001b[0;32mC:\\Anaconda3\\lib\\site-packages\\sqlalchemy\\engine\\default.py\u001b[0m in \u001b[0;36mdo_execute\u001b[0;34m(self, cursor, statement, parameters, context)\u001b[0m\n\u001b[1;32m    449\u001b[0m     \u001b[1;32mdef\u001b[0m \u001b[0mdo_execute\u001b[0m\u001b[1;33m(\u001b[0m\u001b[0mself\u001b[0m\u001b[1;33m,\u001b[0m \u001b[0mcursor\u001b[0m\u001b[1;33m,\u001b[0m \u001b[0mstatement\u001b[0m\u001b[1;33m,\u001b[0m \u001b[0mparameters\u001b[0m\u001b[1;33m,\u001b[0m \u001b[0mcontext\u001b[0m\u001b[1;33m=\u001b[0m\u001b[1;32mNone\u001b[0m\u001b[1;33m)\u001b[0m\u001b[1;33m:\u001b[0m\u001b[1;33m\u001b[0m\u001b[0m\n\u001b[0;32m--> 450\u001b[0;31m         \u001b[0mcursor\u001b[0m\u001b[1;33m.\u001b[0m\u001b[0mexecute\u001b[0m\u001b[1;33m(\u001b[0m\u001b[0mstatement\u001b[0m\u001b[1;33m,\u001b[0m \u001b[0mparameters\u001b[0m\u001b[1;33m)\u001b[0m\u001b[1;33m\u001b[0m\u001b[0m\n\u001b[0m\u001b[1;32m    451\u001b[0m \u001b[1;33m\u001b[0m\u001b[0m\n",
      "\u001b[0;31mOperationalError\u001b[0m: no such table: eniro_siste",
      "\nThe above exception was the direct cause of the following exception:\n",
      "\u001b[0;31mOperationalError\u001b[0m                          Traceback (most recent call last)",
      "\u001b[0;32m<ipython-input-24-2ff239011361>\u001b[0m in \u001b[0;36m<module>\u001b[0;34m()\u001b[0m\n\u001b[1;32m     12\u001b[0m     \"\"\"\n\u001b[1;32m     13\u001b[0m \u001b[1;33m\u001b[0m\u001b[0m\n\u001b[0;32m---> 14\u001b[0;31m \u001b[0mdisk_engine\u001b[0m\u001b[1;33m.\u001b[0m\u001b[0mexecute\u001b[0m\u001b[1;33m(\u001b[0m\u001b[0msql\u001b[0m\u001b[1;33m)\u001b[0m\u001b[1;33m\u001b[0m\u001b[0m\n\u001b[0m",
      "\u001b[0;32mC:\\Anaconda3\\lib\\site-packages\\sqlalchemy\\engine\\base.py\u001b[0m in \u001b[0;36mexecute\u001b[0;34m(self, statement, *multiparams, **params)\u001b[0m\n\u001b[1;32m   1989\u001b[0m \u001b[1;33m\u001b[0m\u001b[0m\n\u001b[1;32m   1990\u001b[0m         \u001b[0mconnection\u001b[0m \u001b[1;33m=\u001b[0m \u001b[0mself\u001b[0m\u001b[1;33m.\u001b[0m\u001b[0mcontextual_connect\u001b[0m\u001b[1;33m(\u001b[0m\u001b[0mclose_with_result\u001b[0m\u001b[1;33m=\u001b[0m\u001b[1;32mTrue\u001b[0m\u001b[1;33m)\u001b[0m\u001b[1;33m\u001b[0m\u001b[0m\n\u001b[0;32m-> 1991\u001b[0;31m         \u001b[1;32mreturn\u001b[0m \u001b[0mconnection\u001b[0m\u001b[1;33m.\u001b[0m\u001b[0mexecute\u001b[0m\u001b[1;33m(\u001b[0m\u001b[0mstatement\u001b[0m\u001b[1;33m,\u001b[0m \u001b[1;33m*\u001b[0m\u001b[0mmultiparams\u001b[0m\u001b[1;33m,\u001b[0m \u001b[1;33m**\u001b[0m\u001b[0mparams\u001b[0m\u001b[1;33m)\u001b[0m\u001b[1;33m\u001b[0m\u001b[0m\n\u001b[0m\u001b[1;32m   1992\u001b[0m \u001b[1;33m\u001b[0m\u001b[0m\n\u001b[1;32m   1993\u001b[0m     \u001b[1;32mdef\u001b[0m \u001b[0mscalar\u001b[0m\u001b[1;33m(\u001b[0m\u001b[0mself\u001b[0m\u001b[1;33m,\u001b[0m \u001b[0mstatement\u001b[0m\u001b[1;33m,\u001b[0m \u001b[1;33m*\u001b[0m\u001b[0mmultiparams\u001b[0m\u001b[1;33m,\u001b[0m \u001b[1;33m**\u001b[0m\u001b[0mparams\u001b[0m\u001b[1;33m)\u001b[0m\u001b[1;33m:\u001b[0m\u001b[1;33m\u001b[0m\u001b[0m\n",
      "\u001b[0;32mC:\\Anaconda3\\lib\\site-packages\\sqlalchemy\\engine\\base.py\u001b[0m in \u001b[0;36mexecute\u001b[0;34m(self, object, *multiparams, **params)\u001b[0m\n\u001b[1;32m    904\u001b[0m         \"\"\"\n\u001b[1;32m    905\u001b[0m         \u001b[1;32mif\u001b[0m \u001b[0misinstance\u001b[0m\u001b[1;33m(\u001b[0m\u001b[0mobject\u001b[0m\u001b[1;33m,\u001b[0m \u001b[0mutil\u001b[0m\u001b[1;33m.\u001b[0m\u001b[0mstring_types\u001b[0m\u001b[1;33m[\u001b[0m\u001b[1;36m0\u001b[0m\u001b[1;33m]\u001b[0m\u001b[1;33m)\u001b[0m\u001b[1;33m:\u001b[0m\u001b[1;33m\u001b[0m\u001b[0m\n\u001b[0;32m--> 906\u001b[0;31m             \u001b[1;32mreturn\u001b[0m \u001b[0mself\u001b[0m\u001b[1;33m.\u001b[0m\u001b[0m_execute_text\u001b[0m\u001b[1;33m(\u001b[0m\u001b[0mobject\u001b[0m\u001b[1;33m,\u001b[0m \u001b[0mmultiparams\u001b[0m\u001b[1;33m,\u001b[0m \u001b[0mparams\u001b[0m\u001b[1;33m)\u001b[0m\u001b[1;33m\u001b[0m\u001b[0m\n\u001b[0m\u001b[1;32m    907\u001b[0m         \u001b[1;32mtry\u001b[0m\u001b[1;33m:\u001b[0m\u001b[1;33m\u001b[0m\u001b[0m\n\u001b[1;32m    908\u001b[0m             \u001b[0mmeth\u001b[0m \u001b[1;33m=\u001b[0m \u001b[0mobject\u001b[0m\u001b[1;33m.\u001b[0m\u001b[0m_execute_on_connection\u001b[0m\u001b[1;33m\u001b[0m\u001b[0m\n",
      "\u001b[0;32mC:\\Anaconda3\\lib\\site-packages\\sqlalchemy\\engine\\base.py\u001b[0m in \u001b[0;36m_execute_text\u001b[0;34m(self, statement, multiparams, params)\u001b[0m\n\u001b[1;32m   1052\u001b[0m             \u001b[0mstatement\u001b[0m\u001b[1;33m,\u001b[0m\u001b[1;33m\u001b[0m\u001b[0m\n\u001b[1;32m   1053\u001b[0m             \u001b[0mparameters\u001b[0m\u001b[1;33m,\u001b[0m\u001b[1;33m\u001b[0m\u001b[0m\n\u001b[0;32m-> 1054\u001b[0;31m             \u001b[0mstatement\u001b[0m\u001b[1;33m,\u001b[0m \u001b[0mparameters\u001b[0m\u001b[1;33m\u001b[0m\u001b[0m\n\u001b[0m\u001b[1;32m   1055\u001b[0m         )\n\u001b[1;32m   1056\u001b[0m         \u001b[1;32mif\u001b[0m \u001b[0mself\u001b[0m\u001b[1;33m.\u001b[0m\u001b[0m_has_events\u001b[0m \u001b[1;32mor\u001b[0m \u001b[0mself\u001b[0m\u001b[1;33m.\u001b[0m\u001b[0mengine\u001b[0m\u001b[1;33m.\u001b[0m\u001b[0m_has_events\u001b[0m\u001b[1;33m:\u001b[0m\u001b[1;33m\u001b[0m\u001b[0m\n",
      "\u001b[0;32mC:\\Anaconda3\\lib\\site-packages\\sqlalchemy\\engine\\base.py\u001b[0m in \u001b[0;36m_execute_context\u001b[0;34m(self, dialect, constructor, statement, parameters, *args)\u001b[0m\n\u001b[1;32m   1144\u001b[0m                 \u001b[0mparameters\u001b[0m\u001b[1;33m,\u001b[0m\u001b[1;33m\u001b[0m\u001b[0m\n\u001b[1;32m   1145\u001b[0m                 \u001b[0mcursor\u001b[0m\u001b[1;33m,\u001b[0m\u001b[1;33m\u001b[0m\u001b[0m\n\u001b[0;32m-> 1146\u001b[0;31m                 context)\n\u001b[0m\u001b[1;32m   1147\u001b[0m \u001b[1;33m\u001b[0m\u001b[0m\n\u001b[1;32m   1148\u001b[0m         \u001b[1;32mif\u001b[0m \u001b[0mself\u001b[0m\u001b[1;33m.\u001b[0m\u001b[0m_has_events\u001b[0m \u001b[1;32mor\u001b[0m \u001b[0mself\u001b[0m\u001b[1;33m.\u001b[0m\u001b[0mengine\u001b[0m\u001b[1;33m.\u001b[0m\u001b[0m_has_events\u001b[0m\u001b[1;33m:\u001b[0m\u001b[1;33m\u001b[0m\u001b[0m\n",
      "\u001b[0;32mC:\\Anaconda3\\lib\\site-packages\\sqlalchemy\\engine\\base.py\u001b[0m in \u001b[0;36m_handle_dbapi_exception\u001b[0;34m(self, e, statement, parameters, cursor, context)\u001b[0m\n\u001b[1;32m   1339\u001b[0m                 util.raise_from_cause(\n\u001b[1;32m   1340\u001b[0m                     \u001b[0msqlalchemy_exception\u001b[0m\u001b[1;33m,\u001b[0m\u001b[1;33m\u001b[0m\u001b[0m\n\u001b[0;32m-> 1341\u001b[0;31m                     \u001b[0mexc_info\u001b[0m\u001b[1;33m\u001b[0m\u001b[0m\n\u001b[0m\u001b[1;32m   1342\u001b[0m                 )\n\u001b[1;32m   1343\u001b[0m             \u001b[1;32melse\u001b[0m\u001b[1;33m:\u001b[0m\u001b[1;33m\u001b[0m\u001b[0m\n",
      "\u001b[0;32mC:\\Anaconda3\\lib\\site-packages\\sqlalchemy\\util\\compat.py\u001b[0m in \u001b[0;36mraise_from_cause\u001b[0;34m(exception, exc_info)\u001b[0m\n\u001b[1;32m    198\u001b[0m     \u001b[0mexc_type\u001b[0m\u001b[1;33m,\u001b[0m \u001b[0mexc_value\u001b[0m\u001b[1;33m,\u001b[0m \u001b[0mexc_tb\u001b[0m \u001b[1;33m=\u001b[0m \u001b[0mexc_info\u001b[0m\u001b[1;33m\u001b[0m\u001b[0m\n\u001b[1;32m    199\u001b[0m     \u001b[0mcause\u001b[0m \u001b[1;33m=\u001b[0m \u001b[0mexc_value\u001b[0m \u001b[1;32mif\u001b[0m \u001b[0mexc_value\u001b[0m \u001b[1;32mis\u001b[0m \u001b[1;32mnot\u001b[0m \u001b[0mexception\u001b[0m \u001b[1;32melse\u001b[0m \u001b[1;32mNone\u001b[0m\u001b[1;33m\u001b[0m\u001b[0m\n\u001b[0;32m--> 200\u001b[0;31m     \u001b[0mreraise\u001b[0m\u001b[1;33m(\u001b[0m\u001b[0mtype\u001b[0m\u001b[1;33m(\u001b[0m\u001b[0mexception\u001b[0m\u001b[1;33m)\u001b[0m\u001b[1;33m,\u001b[0m \u001b[0mexception\u001b[0m\u001b[1;33m,\u001b[0m \u001b[0mtb\u001b[0m\u001b[1;33m=\u001b[0m\u001b[0mexc_tb\u001b[0m\u001b[1;33m,\u001b[0m \u001b[0mcause\u001b[0m\u001b[1;33m=\u001b[0m\u001b[0mcause\u001b[0m\u001b[1;33m)\u001b[0m\u001b[1;33m\u001b[0m\u001b[0m\n\u001b[0m\u001b[1;32m    201\u001b[0m \u001b[1;33m\u001b[0m\u001b[0m\n\u001b[1;32m    202\u001b[0m \u001b[1;32mif\u001b[0m \u001b[0mpy3k\u001b[0m\u001b[1;33m:\u001b[0m\u001b[1;33m\u001b[0m\u001b[0m\n",
      "\u001b[0;32mC:\\Anaconda3\\lib\\site-packages\\sqlalchemy\\util\\compat.py\u001b[0m in \u001b[0;36mreraise\u001b[0;34m(tp, value, tb, cause)\u001b[0m\n\u001b[1;32m    181\u001b[0m             \u001b[0mvalue\u001b[0m\u001b[1;33m.\u001b[0m\u001b[0m__cause__\u001b[0m \u001b[1;33m=\u001b[0m \u001b[0mcause\u001b[0m\u001b[1;33m\u001b[0m\u001b[0m\n\u001b[1;32m    182\u001b[0m         \u001b[1;32mif\u001b[0m \u001b[0mvalue\u001b[0m\u001b[1;33m.\u001b[0m\u001b[0m__traceback__\u001b[0m \u001b[1;32mis\u001b[0m \u001b[1;32mnot\u001b[0m \u001b[0mtb\u001b[0m\u001b[1;33m:\u001b[0m\u001b[1;33m\u001b[0m\u001b[0m\n\u001b[0;32m--> 183\u001b[0;31m             \u001b[1;32mraise\u001b[0m \u001b[0mvalue\u001b[0m\u001b[1;33m.\u001b[0m\u001b[0mwith_traceback\u001b[0m\u001b[1;33m(\u001b[0m\u001b[0mtb\u001b[0m\u001b[1;33m)\u001b[0m\u001b[1;33m\u001b[0m\u001b[0m\n\u001b[0m\u001b[1;32m    184\u001b[0m         \u001b[1;32mraise\u001b[0m \u001b[0mvalue\u001b[0m\u001b[1;33m\u001b[0m\u001b[0m\n\u001b[1;32m    185\u001b[0m \u001b[1;33m\u001b[0m\u001b[0m\n",
      "\u001b[0;32mC:\\Anaconda3\\lib\\site-packages\\sqlalchemy\\engine\\base.py\u001b[0m in \u001b[0;36m_execute_context\u001b[0;34m(self, dialect, constructor, statement, parameters, *args)\u001b[0m\n\u001b[1;32m   1137\u001b[0m                         \u001b[0mstatement\u001b[0m\u001b[1;33m,\u001b[0m\u001b[1;33m\u001b[0m\u001b[0m\n\u001b[1;32m   1138\u001b[0m                         \u001b[0mparameters\u001b[0m\u001b[1;33m,\u001b[0m\u001b[1;33m\u001b[0m\u001b[0m\n\u001b[0;32m-> 1139\u001b[0;31m                         context)\n\u001b[0m\u001b[1;32m   1140\u001b[0m         \u001b[1;32mexcept\u001b[0m \u001b[0mException\u001b[0m \u001b[1;32mas\u001b[0m \u001b[0me\u001b[0m\u001b[1;33m:\u001b[0m\u001b[1;33m\u001b[0m\u001b[0m\n\u001b[1;32m   1141\u001b[0m             self._handle_dbapi_exception(\n",
      "\u001b[0;32mC:\\Anaconda3\\lib\\site-packages\\sqlalchemy\\engine\\default.py\u001b[0m in \u001b[0;36mdo_execute\u001b[0;34m(self, cursor, statement, parameters, context)\u001b[0m\n\u001b[1;32m    448\u001b[0m \u001b[1;33m\u001b[0m\u001b[0m\n\u001b[1;32m    449\u001b[0m     \u001b[1;32mdef\u001b[0m \u001b[0mdo_execute\u001b[0m\u001b[1;33m(\u001b[0m\u001b[0mself\u001b[0m\u001b[1;33m,\u001b[0m \u001b[0mcursor\u001b[0m\u001b[1;33m,\u001b[0m \u001b[0mstatement\u001b[0m\u001b[1;33m,\u001b[0m \u001b[0mparameters\u001b[0m\u001b[1;33m,\u001b[0m \u001b[0mcontext\u001b[0m\u001b[1;33m=\u001b[0m\u001b[1;32mNone\u001b[0m\u001b[1;33m)\u001b[0m\u001b[1;33m:\u001b[0m\u001b[1;33m\u001b[0m\u001b[0m\n\u001b[0;32m--> 450\u001b[0;31m         \u001b[0mcursor\u001b[0m\u001b[1;33m.\u001b[0m\u001b[0mexecute\u001b[0m\u001b[1;33m(\u001b[0m\u001b[0mstatement\u001b[0m\u001b[1;33m,\u001b[0m \u001b[0mparameters\u001b[0m\u001b[1;33m)\u001b[0m\u001b[1;33m\u001b[0m\u001b[0m\n\u001b[0m\u001b[1;32m    451\u001b[0m \u001b[1;33m\u001b[0m\u001b[0m\n\u001b[1;32m    452\u001b[0m     \u001b[1;32mdef\u001b[0m \u001b[0mdo_execute_no_params\u001b[0m\u001b[1;33m(\u001b[0m\u001b[0mself\u001b[0m\u001b[1;33m,\u001b[0m \u001b[0mcursor\u001b[0m\u001b[1;33m,\u001b[0m \u001b[0mstatement\u001b[0m\u001b[1;33m,\u001b[0m \u001b[0mcontext\u001b[0m\u001b[1;33m=\u001b[0m\u001b[1;32mNone\u001b[0m\u001b[1;33m)\u001b[0m\u001b[1;33m:\u001b[0m\u001b[1;33m\u001b[0m\u001b[0m\n",
      "\u001b[0;31mOperationalError\u001b[0m: (sqlite3.OperationalError) no such table: eniro_siste [SQL: '\\n        INSERT INTO eniro_siste\\n        SELECT * FROM \\n        (\\n            SELECT e.* \\n            FROM eniro AS e JOIN \\n            (\\n                SELECT orgnr, MAX(Regnaar) AS Regnaar from eniro GROUP BY orgnr\\n            ) AS f \\n            ON e.Regnaar = f.Regnaar AND e.orgnr = f.orgnr\\n        )\\n    ']"
     ]
    }
   ],
   "source": [
    "sql = \"\"\"\n",
    "        INSERT INTO eniro_siste\n",
    "        SELECT * FROM \n",
    "        (\n",
    "            SELECT e.* \n",
    "            FROM eniro AS e JOIN \n",
    "            (\n",
    "                SELECT orgnr, MAX(Regnaar) AS Regnaar from eniro GROUP BY orgnr\n",
    "            ) AS f \n",
    "            ON e.Regnaar = f.Regnaar AND e.orgnr = f.orgnr\n",
    "        )\n",
    "    \"\"\"\n",
    "\n",
    "disk_engine.execute(sql)"
   ]
  },
  {
   "cell_type": "code",
   "execution_count": 25,
   "metadata": {
    "collapsed": true
   },
   "outputs": [],
   "source": [
    "sql = \"\"\"\n",
    "    SELECT * FROM [in] AS i LEFT JOIN \n",
    "    (\n",
    "    SELECT e.orgnr,\n",
    "           e.Juridisk_selskapsnavn,\n",
    "           e.STIFTDATO,\n",
    "           e.REGDATO,\n",
    "           e.SLETDATO,\n",
    "           e.Fylke,\n",
    "           e.Bransje,\n",
    "           e.Antall_ansatte,\n",
    "           e.Antall_ansatte_konsern,\n",
    "           e.ANTALL_AARSVERK,\n",
    "           e.ANTALL_AARSVERK_KONSERN,\n",
    "           e.Regnaar, \n",
    "           e.LATITUDE, \n",
    "           e.LONGITUDE, \n",
    "           e.SEKTOR_2014 AS 'Sektor' \n",
    "    FROM eniro_siste AS e \n",
    "    ON i.Organisasjonsnummer = e.orgnr\n",
    "    \"\"\"\n"
   ]
  },
  {
   "cell_type": "code",
   "execution_count": 26,
   "metadata": {},
   "outputs": [
    {
     "ename": "OperationalError",
     "evalue": "(sqlite3.OperationalError) near \"\n    \": syntax error [SQL: \"\\n    SELECT * FROM [in] AS i LEFT JOIN \\n    (\\n    SELECT e.orgnr,\\n           e.Juridisk_selskapsnavn,\\n           e.STIFTDATO,\\n           e.REGDATO,\\n           e.SLETDATO,\\n           e.Fylke,\\n           e.Bransje,\\n           e.Antall_ansatte,\\n           e.Antall_ansatte_konsern,\\n           e.ANTALL_AARSVERK,\\n           e.ANTALL_AARSVERK_KONSERN,\\n           e.Regnaar, \\n           e.LATITUDE, \\n           e.LONGITUDE, \\n           e.SEKTOR_2014 AS 'Sektor' \\n    FROM eniro_siste AS e \\n    ON i.Organisasjonsnummer = e.orgnr\\n    \"]",
     "output_type": "error",
     "traceback": [
      "\u001b[0;31m---------------------------------------------------------------------------\u001b[0m",
      "\u001b[0;31mOperationalError\u001b[0m                          Traceback (most recent call last)",
      "\u001b[0;32mC:\\Anaconda3\\lib\\site-packages\\sqlalchemy\\engine\\base.py\u001b[0m in \u001b[0;36m_execute_context\u001b[0;34m(self, dialect, constructor, statement, parameters, *args)\u001b[0m\n\u001b[1;32m   1138\u001b[0m                         \u001b[0mparameters\u001b[0m\u001b[1;33m,\u001b[0m\u001b[1;33m\u001b[0m\u001b[0m\n\u001b[0;32m-> 1139\u001b[0;31m                         context)\n\u001b[0m\u001b[1;32m   1140\u001b[0m         \u001b[1;32mexcept\u001b[0m \u001b[0mException\u001b[0m \u001b[1;32mas\u001b[0m \u001b[0me\u001b[0m\u001b[1;33m:\u001b[0m\u001b[1;33m\u001b[0m\u001b[0m\n",
      "\u001b[0;32mC:\\Anaconda3\\lib\\site-packages\\sqlalchemy\\engine\\default.py\u001b[0m in \u001b[0;36mdo_execute\u001b[0;34m(self, cursor, statement, parameters, context)\u001b[0m\n\u001b[1;32m    449\u001b[0m     \u001b[1;32mdef\u001b[0m \u001b[0mdo_execute\u001b[0m\u001b[1;33m(\u001b[0m\u001b[0mself\u001b[0m\u001b[1;33m,\u001b[0m \u001b[0mcursor\u001b[0m\u001b[1;33m,\u001b[0m \u001b[0mstatement\u001b[0m\u001b[1;33m,\u001b[0m \u001b[0mparameters\u001b[0m\u001b[1;33m,\u001b[0m \u001b[0mcontext\u001b[0m\u001b[1;33m=\u001b[0m\u001b[1;32mNone\u001b[0m\u001b[1;33m)\u001b[0m\u001b[1;33m:\u001b[0m\u001b[1;33m\u001b[0m\u001b[0m\n\u001b[0;32m--> 450\u001b[0;31m         \u001b[0mcursor\u001b[0m\u001b[1;33m.\u001b[0m\u001b[0mexecute\u001b[0m\u001b[1;33m(\u001b[0m\u001b[0mstatement\u001b[0m\u001b[1;33m,\u001b[0m \u001b[0mparameters\u001b[0m\u001b[1;33m)\u001b[0m\u001b[1;33m\u001b[0m\u001b[0m\n\u001b[0m\u001b[1;32m    451\u001b[0m \u001b[1;33m\u001b[0m\u001b[0m\n",
      "\u001b[0;31mOperationalError\u001b[0m: near \"\n    \": syntax error",
      "\nThe above exception was the direct cause of the following exception:\n",
      "\u001b[0;31mOperationalError\u001b[0m                          Traceback (most recent call last)",
      "\u001b[0;32m<ipython-input-26-4fa96738a6ad>\u001b[0m in \u001b[0;36m<module>\u001b[0;34m()\u001b[0m\n\u001b[0;32m----> 1\u001b[0;31m \u001b[0min_eniro\u001b[0m \u001b[1;33m=\u001b[0m \u001b[0mpd\u001b[0m\u001b[1;33m.\u001b[0m\u001b[0mread_sql_query\u001b[0m\u001b[1;33m(\u001b[0m\u001b[0msql\u001b[0m\u001b[1;33m,\u001b[0m \u001b[0mdisk_engine\u001b[0m\u001b[1;33m)\u001b[0m\u001b[1;33m\u001b[0m\u001b[0m\n\u001b[0m",
      "\u001b[0;32mC:\\Anaconda3\\lib\\site-packages\\pandas\\io\\sql.py\u001b[0m in \u001b[0;36mread_sql_query\u001b[0;34m(sql, con, index_col, coerce_float, params, parse_dates, chunksize)\u001b[0m\n\u001b[1;32m    429\u001b[0m     return pandas_sql.read_query(\n\u001b[1;32m    430\u001b[0m         \u001b[0msql\u001b[0m\u001b[1;33m,\u001b[0m \u001b[0mindex_col\u001b[0m\u001b[1;33m=\u001b[0m\u001b[0mindex_col\u001b[0m\u001b[1;33m,\u001b[0m \u001b[0mparams\u001b[0m\u001b[1;33m=\u001b[0m\u001b[0mparams\u001b[0m\u001b[1;33m,\u001b[0m \u001b[0mcoerce_float\u001b[0m\u001b[1;33m=\u001b[0m\u001b[0mcoerce_float\u001b[0m\u001b[1;33m,\u001b[0m\u001b[1;33m\u001b[0m\u001b[0m\n\u001b[0;32m--> 431\u001b[0;31m         parse_dates=parse_dates, chunksize=chunksize)\n\u001b[0m\u001b[1;32m    432\u001b[0m \u001b[1;33m\u001b[0m\u001b[0m\n\u001b[1;32m    433\u001b[0m \u001b[1;33m\u001b[0m\u001b[0m\n",
      "\u001b[0;32mC:\\Anaconda3\\lib\\site-packages\\pandas\\io\\sql.py\u001b[0m in \u001b[0;36mread_query\u001b[0;34m(self, sql, index_col, coerce_float, parse_dates, params, chunksize)\u001b[0m\n\u001b[1;32m   1188\u001b[0m         \u001b[0margs\u001b[0m \u001b[1;33m=\u001b[0m \u001b[0m_convert_params\u001b[0m\u001b[1;33m(\u001b[0m\u001b[0msql\u001b[0m\u001b[1;33m,\u001b[0m \u001b[0mparams\u001b[0m\u001b[1;33m)\u001b[0m\u001b[1;33m\u001b[0m\u001b[0m\n\u001b[1;32m   1189\u001b[0m \u001b[1;33m\u001b[0m\u001b[0m\n\u001b[0;32m-> 1190\u001b[0;31m         \u001b[0mresult\u001b[0m \u001b[1;33m=\u001b[0m \u001b[0mself\u001b[0m\u001b[1;33m.\u001b[0m\u001b[0mexecute\u001b[0m\u001b[1;33m(\u001b[0m\u001b[1;33m*\u001b[0m\u001b[0margs\u001b[0m\u001b[1;33m)\u001b[0m\u001b[1;33m\u001b[0m\u001b[0m\n\u001b[0m\u001b[1;32m   1191\u001b[0m         \u001b[0mcolumns\u001b[0m \u001b[1;33m=\u001b[0m \u001b[0mresult\u001b[0m\u001b[1;33m.\u001b[0m\u001b[0mkeys\u001b[0m\u001b[1;33m(\u001b[0m\u001b[1;33m)\u001b[0m\u001b[1;33m\u001b[0m\u001b[0m\n\u001b[1;32m   1192\u001b[0m \u001b[1;33m\u001b[0m\u001b[0m\n",
      "\u001b[0;32mC:\\Anaconda3\\lib\\site-packages\\pandas\\io\\sql.py\u001b[0m in \u001b[0;36mexecute\u001b[0;34m(self, *args, **kwargs)\u001b[0m\n\u001b[1;32m   1079\u001b[0m     \u001b[1;32mdef\u001b[0m \u001b[0mexecute\u001b[0m\u001b[1;33m(\u001b[0m\u001b[0mself\u001b[0m\u001b[1;33m,\u001b[0m \u001b[1;33m*\u001b[0m\u001b[0margs\u001b[0m\u001b[1;33m,\u001b[0m \u001b[1;33m**\u001b[0m\u001b[0mkwargs\u001b[0m\u001b[1;33m)\u001b[0m\u001b[1;33m:\u001b[0m\u001b[1;33m\u001b[0m\u001b[0m\n\u001b[1;32m   1080\u001b[0m         \u001b[1;34m\"\"\"Simple passthrough to SQLAlchemy connectable\"\"\"\u001b[0m\u001b[1;33m\u001b[0m\u001b[0m\n\u001b[0;32m-> 1081\u001b[0;31m         \u001b[1;32mreturn\u001b[0m \u001b[0mself\u001b[0m\u001b[1;33m.\u001b[0m\u001b[0mconnectable\u001b[0m\u001b[1;33m.\u001b[0m\u001b[0mexecute\u001b[0m\u001b[1;33m(\u001b[0m\u001b[1;33m*\u001b[0m\u001b[0margs\u001b[0m\u001b[1;33m,\u001b[0m \u001b[1;33m**\u001b[0m\u001b[0mkwargs\u001b[0m\u001b[1;33m)\u001b[0m\u001b[1;33m\u001b[0m\u001b[0m\n\u001b[0m\u001b[1;32m   1082\u001b[0m \u001b[1;33m\u001b[0m\u001b[0m\n\u001b[1;32m   1083\u001b[0m     def read_table(self, table_name, index_col=None, coerce_float=True,\n",
      "\u001b[0;32mC:\\Anaconda3\\lib\\site-packages\\sqlalchemy\\engine\\base.py\u001b[0m in \u001b[0;36mexecute\u001b[0;34m(self, statement, *multiparams, **params)\u001b[0m\n\u001b[1;32m   1989\u001b[0m \u001b[1;33m\u001b[0m\u001b[0m\n\u001b[1;32m   1990\u001b[0m         \u001b[0mconnection\u001b[0m \u001b[1;33m=\u001b[0m \u001b[0mself\u001b[0m\u001b[1;33m.\u001b[0m\u001b[0mcontextual_connect\u001b[0m\u001b[1;33m(\u001b[0m\u001b[0mclose_with_result\u001b[0m\u001b[1;33m=\u001b[0m\u001b[1;32mTrue\u001b[0m\u001b[1;33m)\u001b[0m\u001b[1;33m\u001b[0m\u001b[0m\n\u001b[0;32m-> 1991\u001b[0;31m         \u001b[1;32mreturn\u001b[0m \u001b[0mconnection\u001b[0m\u001b[1;33m.\u001b[0m\u001b[0mexecute\u001b[0m\u001b[1;33m(\u001b[0m\u001b[0mstatement\u001b[0m\u001b[1;33m,\u001b[0m \u001b[1;33m*\u001b[0m\u001b[0mmultiparams\u001b[0m\u001b[1;33m,\u001b[0m \u001b[1;33m**\u001b[0m\u001b[0mparams\u001b[0m\u001b[1;33m)\u001b[0m\u001b[1;33m\u001b[0m\u001b[0m\n\u001b[0m\u001b[1;32m   1992\u001b[0m \u001b[1;33m\u001b[0m\u001b[0m\n\u001b[1;32m   1993\u001b[0m     \u001b[1;32mdef\u001b[0m \u001b[0mscalar\u001b[0m\u001b[1;33m(\u001b[0m\u001b[0mself\u001b[0m\u001b[1;33m,\u001b[0m \u001b[0mstatement\u001b[0m\u001b[1;33m,\u001b[0m \u001b[1;33m*\u001b[0m\u001b[0mmultiparams\u001b[0m\u001b[1;33m,\u001b[0m \u001b[1;33m**\u001b[0m\u001b[0mparams\u001b[0m\u001b[1;33m)\u001b[0m\u001b[1;33m:\u001b[0m\u001b[1;33m\u001b[0m\u001b[0m\n",
      "\u001b[0;32mC:\\Anaconda3\\lib\\site-packages\\sqlalchemy\\engine\\base.py\u001b[0m in \u001b[0;36mexecute\u001b[0;34m(self, object, *multiparams, **params)\u001b[0m\n\u001b[1;32m    904\u001b[0m         \"\"\"\n\u001b[1;32m    905\u001b[0m         \u001b[1;32mif\u001b[0m \u001b[0misinstance\u001b[0m\u001b[1;33m(\u001b[0m\u001b[0mobject\u001b[0m\u001b[1;33m,\u001b[0m \u001b[0mutil\u001b[0m\u001b[1;33m.\u001b[0m\u001b[0mstring_types\u001b[0m\u001b[1;33m[\u001b[0m\u001b[1;36m0\u001b[0m\u001b[1;33m]\u001b[0m\u001b[1;33m)\u001b[0m\u001b[1;33m:\u001b[0m\u001b[1;33m\u001b[0m\u001b[0m\n\u001b[0;32m--> 906\u001b[0;31m             \u001b[1;32mreturn\u001b[0m \u001b[0mself\u001b[0m\u001b[1;33m.\u001b[0m\u001b[0m_execute_text\u001b[0m\u001b[1;33m(\u001b[0m\u001b[0mobject\u001b[0m\u001b[1;33m,\u001b[0m \u001b[0mmultiparams\u001b[0m\u001b[1;33m,\u001b[0m \u001b[0mparams\u001b[0m\u001b[1;33m)\u001b[0m\u001b[1;33m\u001b[0m\u001b[0m\n\u001b[0m\u001b[1;32m    907\u001b[0m         \u001b[1;32mtry\u001b[0m\u001b[1;33m:\u001b[0m\u001b[1;33m\u001b[0m\u001b[0m\n\u001b[1;32m    908\u001b[0m             \u001b[0mmeth\u001b[0m \u001b[1;33m=\u001b[0m \u001b[0mobject\u001b[0m\u001b[1;33m.\u001b[0m\u001b[0m_execute_on_connection\u001b[0m\u001b[1;33m\u001b[0m\u001b[0m\n",
      "\u001b[0;32mC:\\Anaconda3\\lib\\site-packages\\sqlalchemy\\engine\\base.py\u001b[0m in \u001b[0;36m_execute_text\u001b[0;34m(self, statement, multiparams, params)\u001b[0m\n\u001b[1;32m   1052\u001b[0m             \u001b[0mstatement\u001b[0m\u001b[1;33m,\u001b[0m\u001b[1;33m\u001b[0m\u001b[0m\n\u001b[1;32m   1053\u001b[0m             \u001b[0mparameters\u001b[0m\u001b[1;33m,\u001b[0m\u001b[1;33m\u001b[0m\u001b[0m\n\u001b[0;32m-> 1054\u001b[0;31m             \u001b[0mstatement\u001b[0m\u001b[1;33m,\u001b[0m \u001b[0mparameters\u001b[0m\u001b[1;33m\u001b[0m\u001b[0m\n\u001b[0m\u001b[1;32m   1055\u001b[0m         )\n\u001b[1;32m   1056\u001b[0m         \u001b[1;32mif\u001b[0m \u001b[0mself\u001b[0m\u001b[1;33m.\u001b[0m\u001b[0m_has_events\u001b[0m \u001b[1;32mor\u001b[0m \u001b[0mself\u001b[0m\u001b[1;33m.\u001b[0m\u001b[0mengine\u001b[0m\u001b[1;33m.\u001b[0m\u001b[0m_has_events\u001b[0m\u001b[1;33m:\u001b[0m\u001b[1;33m\u001b[0m\u001b[0m\n",
      "\u001b[0;32mC:\\Anaconda3\\lib\\site-packages\\sqlalchemy\\engine\\base.py\u001b[0m in \u001b[0;36m_execute_context\u001b[0;34m(self, dialect, constructor, statement, parameters, *args)\u001b[0m\n\u001b[1;32m   1144\u001b[0m                 \u001b[0mparameters\u001b[0m\u001b[1;33m,\u001b[0m\u001b[1;33m\u001b[0m\u001b[0m\n\u001b[1;32m   1145\u001b[0m                 \u001b[0mcursor\u001b[0m\u001b[1;33m,\u001b[0m\u001b[1;33m\u001b[0m\u001b[0m\n\u001b[0;32m-> 1146\u001b[0;31m                 context)\n\u001b[0m\u001b[1;32m   1147\u001b[0m \u001b[1;33m\u001b[0m\u001b[0m\n\u001b[1;32m   1148\u001b[0m         \u001b[1;32mif\u001b[0m \u001b[0mself\u001b[0m\u001b[1;33m.\u001b[0m\u001b[0m_has_events\u001b[0m \u001b[1;32mor\u001b[0m \u001b[0mself\u001b[0m\u001b[1;33m.\u001b[0m\u001b[0mengine\u001b[0m\u001b[1;33m.\u001b[0m\u001b[0m_has_events\u001b[0m\u001b[1;33m:\u001b[0m\u001b[1;33m\u001b[0m\u001b[0m\n",
      "\u001b[0;32mC:\\Anaconda3\\lib\\site-packages\\sqlalchemy\\engine\\base.py\u001b[0m in \u001b[0;36m_handle_dbapi_exception\u001b[0;34m(self, e, statement, parameters, cursor, context)\u001b[0m\n\u001b[1;32m   1339\u001b[0m                 util.raise_from_cause(\n\u001b[1;32m   1340\u001b[0m                     \u001b[0msqlalchemy_exception\u001b[0m\u001b[1;33m,\u001b[0m\u001b[1;33m\u001b[0m\u001b[0m\n\u001b[0;32m-> 1341\u001b[0;31m                     \u001b[0mexc_info\u001b[0m\u001b[1;33m\u001b[0m\u001b[0m\n\u001b[0m\u001b[1;32m   1342\u001b[0m                 )\n\u001b[1;32m   1343\u001b[0m             \u001b[1;32melse\u001b[0m\u001b[1;33m:\u001b[0m\u001b[1;33m\u001b[0m\u001b[0m\n",
      "\u001b[0;32mC:\\Anaconda3\\lib\\site-packages\\sqlalchemy\\util\\compat.py\u001b[0m in \u001b[0;36mraise_from_cause\u001b[0;34m(exception, exc_info)\u001b[0m\n\u001b[1;32m    198\u001b[0m     \u001b[0mexc_type\u001b[0m\u001b[1;33m,\u001b[0m \u001b[0mexc_value\u001b[0m\u001b[1;33m,\u001b[0m \u001b[0mexc_tb\u001b[0m \u001b[1;33m=\u001b[0m \u001b[0mexc_info\u001b[0m\u001b[1;33m\u001b[0m\u001b[0m\n\u001b[1;32m    199\u001b[0m     \u001b[0mcause\u001b[0m \u001b[1;33m=\u001b[0m \u001b[0mexc_value\u001b[0m \u001b[1;32mif\u001b[0m \u001b[0mexc_value\u001b[0m \u001b[1;32mis\u001b[0m \u001b[1;32mnot\u001b[0m \u001b[0mexception\u001b[0m \u001b[1;32melse\u001b[0m \u001b[1;32mNone\u001b[0m\u001b[1;33m\u001b[0m\u001b[0m\n\u001b[0;32m--> 200\u001b[0;31m     \u001b[0mreraise\u001b[0m\u001b[1;33m(\u001b[0m\u001b[0mtype\u001b[0m\u001b[1;33m(\u001b[0m\u001b[0mexception\u001b[0m\u001b[1;33m)\u001b[0m\u001b[1;33m,\u001b[0m \u001b[0mexception\u001b[0m\u001b[1;33m,\u001b[0m \u001b[0mtb\u001b[0m\u001b[1;33m=\u001b[0m\u001b[0mexc_tb\u001b[0m\u001b[1;33m,\u001b[0m \u001b[0mcause\u001b[0m\u001b[1;33m=\u001b[0m\u001b[0mcause\u001b[0m\u001b[1;33m)\u001b[0m\u001b[1;33m\u001b[0m\u001b[0m\n\u001b[0m\u001b[1;32m    201\u001b[0m \u001b[1;33m\u001b[0m\u001b[0m\n\u001b[1;32m    202\u001b[0m \u001b[1;32mif\u001b[0m \u001b[0mpy3k\u001b[0m\u001b[1;33m:\u001b[0m\u001b[1;33m\u001b[0m\u001b[0m\n",
      "\u001b[0;32mC:\\Anaconda3\\lib\\site-packages\\sqlalchemy\\util\\compat.py\u001b[0m in \u001b[0;36mreraise\u001b[0;34m(tp, value, tb, cause)\u001b[0m\n\u001b[1;32m    181\u001b[0m             \u001b[0mvalue\u001b[0m\u001b[1;33m.\u001b[0m\u001b[0m__cause__\u001b[0m \u001b[1;33m=\u001b[0m \u001b[0mcause\u001b[0m\u001b[1;33m\u001b[0m\u001b[0m\n\u001b[1;32m    182\u001b[0m         \u001b[1;32mif\u001b[0m \u001b[0mvalue\u001b[0m\u001b[1;33m.\u001b[0m\u001b[0m__traceback__\u001b[0m \u001b[1;32mis\u001b[0m \u001b[1;32mnot\u001b[0m \u001b[0mtb\u001b[0m\u001b[1;33m:\u001b[0m\u001b[1;33m\u001b[0m\u001b[0m\n\u001b[0;32m--> 183\u001b[0;31m             \u001b[1;32mraise\u001b[0m \u001b[0mvalue\u001b[0m\u001b[1;33m.\u001b[0m\u001b[0mwith_traceback\u001b[0m\u001b[1;33m(\u001b[0m\u001b[0mtb\u001b[0m\u001b[1;33m)\u001b[0m\u001b[1;33m\u001b[0m\u001b[0m\n\u001b[0m\u001b[1;32m    184\u001b[0m         \u001b[1;32mraise\u001b[0m \u001b[0mvalue\u001b[0m\u001b[1;33m\u001b[0m\u001b[0m\n\u001b[1;32m    185\u001b[0m \u001b[1;33m\u001b[0m\u001b[0m\n",
      "\u001b[0;32mC:\\Anaconda3\\lib\\site-packages\\sqlalchemy\\engine\\base.py\u001b[0m in \u001b[0;36m_execute_context\u001b[0;34m(self, dialect, constructor, statement, parameters, *args)\u001b[0m\n\u001b[1;32m   1137\u001b[0m                         \u001b[0mstatement\u001b[0m\u001b[1;33m,\u001b[0m\u001b[1;33m\u001b[0m\u001b[0m\n\u001b[1;32m   1138\u001b[0m                         \u001b[0mparameters\u001b[0m\u001b[1;33m,\u001b[0m\u001b[1;33m\u001b[0m\u001b[0m\n\u001b[0;32m-> 1139\u001b[0;31m                         context)\n\u001b[0m\u001b[1;32m   1140\u001b[0m         \u001b[1;32mexcept\u001b[0m \u001b[0mException\u001b[0m \u001b[1;32mas\u001b[0m \u001b[0me\u001b[0m\u001b[1;33m:\u001b[0m\u001b[1;33m\u001b[0m\u001b[0m\n\u001b[1;32m   1141\u001b[0m             self._handle_dbapi_exception(\n",
      "\u001b[0;32mC:\\Anaconda3\\lib\\site-packages\\sqlalchemy\\engine\\default.py\u001b[0m in \u001b[0;36mdo_execute\u001b[0;34m(self, cursor, statement, parameters, context)\u001b[0m\n\u001b[1;32m    448\u001b[0m \u001b[1;33m\u001b[0m\u001b[0m\n\u001b[1;32m    449\u001b[0m     \u001b[1;32mdef\u001b[0m \u001b[0mdo_execute\u001b[0m\u001b[1;33m(\u001b[0m\u001b[0mself\u001b[0m\u001b[1;33m,\u001b[0m \u001b[0mcursor\u001b[0m\u001b[1;33m,\u001b[0m \u001b[0mstatement\u001b[0m\u001b[1;33m,\u001b[0m \u001b[0mparameters\u001b[0m\u001b[1;33m,\u001b[0m \u001b[0mcontext\u001b[0m\u001b[1;33m=\u001b[0m\u001b[1;32mNone\u001b[0m\u001b[1;33m)\u001b[0m\u001b[1;33m:\u001b[0m\u001b[1;33m\u001b[0m\u001b[0m\n\u001b[0;32m--> 450\u001b[0;31m         \u001b[0mcursor\u001b[0m\u001b[1;33m.\u001b[0m\u001b[0mexecute\u001b[0m\u001b[1;33m(\u001b[0m\u001b[0mstatement\u001b[0m\u001b[1;33m,\u001b[0m \u001b[0mparameters\u001b[0m\u001b[1;33m)\u001b[0m\u001b[1;33m\u001b[0m\u001b[0m\n\u001b[0m\u001b[1;32m    451\u001b[0m \u001b[1;33m\u001b[0m\u001b[0m\n\u001b[1;32m    452\u001b[0m     \u001b[1;32mdef\u001b[0m \u001b[0mdo_execute_no_params\u001b[0m\u001b[1;33m(\u001b[0m\u001b[0mself\u001b[0m\u001b[1;33m,\u001b[0m \u001b[0mcursor\u001b[0m\u001b[1;33m,\u001b[0m \u001b[0mstatement\u001b[0m\u001b[1;33m,\u001b[0m \u001b[0mcontext\u001b[0m\u001b[1;33m=\u001b[0m\u001b[1;32mNone\u001b[0m\u001b[1;33m)\u001b[0m\u001b[1;33m:\u001b[0m\u001b[1;33m\u001b[0m\u001b[0m\n",
      "\u001b[0;31mOperationalError\u001b[0m: (sqlite3.OperationalError) near \"\n    \": syntax error [SQL: \"\\n    SELECT * FROM [in] AS i LEFT JOIN \\n    (\\n    SELECT e.orgnr,\\n           e.Juridisk_selskapsnavn,\\n           e.STIFTDATO,\\n           e.REGDATO,\\n           e.SLETDATO,\\n           e.Fylke,\\n           e.Bransje,\\n           e.Antall_ansatte,\\n           e.Antall_ansatte_konsern,\\n           e.ANTALL_AARSVERK,\\n           e.ANTALL_AARSVERK_KONSERN,\\n           e.Regnaar, \\n           e.LATITUDE, \\n           e.LONGITUDE, \\n           e.SEKTOR_2014 AS 'Sektor' \\n    FROM eniro_siste AS e \\n    ON i.Organisasjonsnummer = e.orgnr\\n    \"]"
     ]
    }
   ],
   "source": [
    "in_eniro = pd.read_sql_query(sql, disk_engine)"
   ]
  },
  {
   "cell_type": "code",
   "execution_count": 27,
   "metadata": {},
   "outputs": [
    {
     "ename": "NameError",
     "evalue": "name 'in_eniro' is not defined",
     "output_type": "error",
     "traceback": [
      "\u001b[0;31m---------------------------------------------------------------------------\u001b[0m",
      "\u001b[0;31mNameError\u001b[0m                                 Traceback (most recent call last)",
      "\u001b[0;32m<ipython-input-27-1abef1d87b5a>\u001b[0m in \u001b[0;36m<module>\u001b[0;34m()\u001b[0m\n\u001b[0;32m----> 1\u001b[0;31m \u001b[0min_eniro\u001b[0m\u001b[1;33m[\u001b[0m\u001b[0min_eniro\u001b[0m\u001b[1;33m[\u001b[0m\u001b[1;34m'Antall_ansatte'\u001b[0m\u001b[1;33m]\u001b[0m\u001b[1;33m.\u001b[0m\u001b[0mnotnull\u001b[0m\u001b[1;33m(\u001b[0m\u001b[1;33m)\u001b[0m\u001b[1;33m]\u001b[0m\u001b[1;33m.\u001b[0m\u001b[0mhead\u001b[0m\u001b[1;33m(\u001b[0m\u001b[1;36m100\u001b[0m\u001b[1;33m)\u001b[0m\u001b[1;33m\u001b[0m\u001b[0m\n\u001b[0m",
      "\u001b[0;31mNameError\u001b[0m: name 'in_eniro' is not defined"
     ]
    }
   ],
   "source": [
    "in_eniro[in_eniro['Antall_ansatte'].notnull()].head(100)"
   ]
  },
  {
   "cell_type": "code",
   "execution_count": null,
   "metadata": {
    "collapsed": true
   },
   "outputs": [],
   "source": [
    "sql = \"\"\"\n",
    "    SELECT * FROM [in] WHERE Virkemiddelkode= '922 - Marint innovasjonsprogram'\n",
    "    \"\"\"\n",
    "\n",
    "pd.read_sql_query(sql, disk_engine)"
   ]
  },
  {
   "cell_type": "code",
   "execution_count": null,
   "metadata": {
    "collapsed": true
   },
   "outputs": [],
   "source": [
    "in_data[(in_data['Virkemiddelkode']=='922 - Marint innovasjonsprogram')]"
   ]
  },
  {
   "cell_type": "code",
   "execution_count": null,
   "metadata": {
    "collapsed": true
   },
   "outputs": [],
   "source": [
    "in_kode = in_excel.parse('DIM_vmkode')\n",
    "in_kode[(in_kode['Virkemiddelkode']=='922 - Marint innovasjonsprogram')]"
   ]
  },
  {
   "cell_type": "code",
   "execution_count": null,
   "metadata": {
    "collapsed": true
   },
   "outputs": [],
   "source": []
  }
 ],
 "metadata": {
  "kernelspec": {
   "display_name": "Python 3.5",
   "language": "python",
   "name": "python35"
  },
  "language_info": {
   "codemirror_mode": {
    "name": "ipython",
    "version": 3
   },
   "file_extension": ".py",
   "mimetype": "text/x-python",
   "name": "python",
   "nbconvert_exporter": "python",
   "pygments_lexer": "ipython3",
   "version": "3.5.1"
  }
 },
 "nbformat": 4,
 "nbformat_minor": 2
}
